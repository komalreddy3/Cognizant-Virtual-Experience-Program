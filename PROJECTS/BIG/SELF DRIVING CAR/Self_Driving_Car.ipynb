{
  "nbformat": 4,
  "nbformat_minor": 0,
  "metadata": {
    "colab": {
      "provenance": []
    },
    "kernelspec": {
      "name": "python3",
      "display_name": "Python 3"
    },
    "language_info": {
      "name": "python"
    }
  },
  "cells": [
    {
      "cell_type": "code",
      "source": [
        "!python model.py"
      ],
      "metadata": {
        "colab": {
          "base_uri": "https://localhost:8080/"
        },
        "id": "FW_BiVRxc_u4",
        "outputId": "22a7ddc1-d1ee-415b-f5e1-18ae44fb348f"
      },
      "execution_count": 34,
      "outputs": [
        {
          "output_type": "stream",
          "name": "stdout",
          "text": [
            "2022-12-15 15:42:54.247005: W tensorflow/compiler/xla/stream_executor/platform/default/dso_loader.cc:64] Could not load dynamic library 'libnvinfer.so.7'; dlerror: libnvinfer.so.7: cannot open shared object file: No such file or directory; LD_LIBRARY_PATH: /usr/local/lib/python3.8/dist-packages/cv2/../../lib64:/usr/local/lib/python3.8/dist-packages/cv2/../../lib64:/usr/local/nvidia/lib:/usr/local/nvidia/lib64\n",
            "2022-12-15 15:42:54.247125: W tensorflow/compiler/xla/stream_executor/platform/default/dso_loader.cc:64] Could not load dynamic library 'libnvinfer_plugin.so.7'; dlerror: libnvinfer_plugin.so.7: cannot open shared object file: No such file or directory; LD_LIBRARY_PATH: /usr/local/lib/python3.8/dist-packages/cv2/../../lib64:/usr/local/lib/python3.8/dist-packages/cv2/../../lib64:/usr/local/nvidia/lib:/usr/local/nvidia/lib64\n",
            "2022-12-15 15:42:54.247145: W tensorflow/compiler/tf2tensorrt/utils/py_utils.cc:38] TF-TRT Warning: Cannot dlopen some TensorRT libraries. If you would like to use Nvidia GPU with TensorRT, please make sure the missing libraries mentioned above are installed properly.\n",
            "tcmalloc: large alloc 2292940800 bytes == 0x92328000 @  0x7f3e1276b1e7 0x7f3e100f514e 0x7f3e101530b5 0x7f3e101536f9 0x7f3e101f439f 0x5aae14 0x4997c7 0x55cd91 0x55d743 0x642630 0x6426ae 0x644b78 0x64511c 0x677e5e 0x678029 0x7f3e12368c87 0x5e1baa\n",
            "2022-12-15 15:43:06.700272: E tensorflow/compiler/xla/stream_executor/cuda/cuda_driver.cc:267] failed call to cuInit: CUDA_ERROR_NO_DEVICE: no CUDA-capable device is detected\n",
            "Model: \"sequential\"\n",
            "_________________________________________________________________\n",
            " Layer (type)                Output Shape              Param #   \n",
            "=================================================================\n",
            " cropping2d (Cropping2D)     (None, 90, 320, 3)        0         \n",
            "                                                                 \n",
            " lambda (Lambda)             (None, 200, 66, 3)        0         \n",
            "                                                                 \n",
            " lambda_1 (Lambda)           (None, 200, 66, 3)        0         \n",
            "                                                                 \n",
            " conv2d (Conv2D)             (None, 98, 31, 24)        1824      \n",
            "                                                                 \n",
            " conv2d_1 (Conv2D)           (None, 47, 14, 36)        21636     \n",
            "                                                                 \n",
            " conv2d_2 (Conv2D)           (None, 22, 5, 48)         43248     \n",
            "                                                                 \n",
            " conv2d_3 (Conv2D)           (None, 20, 3, 64)         27712     \n",
            "                                                                 \n",
            " conv2d_4 (Conv2D)           (None, 18, 1, 64)         36928     \n",
            "                                                                 \n",
            " dropout (Dropout)           (None, 18, 1, 64)         0         \n",
            "                                                                 \n",
            " flatten (Flatten)           (None, 1152)              0         \n",
            "                                                                 \n",
            " dense (Dense)               (None, 100)               115300    \n",
            "                                                                 \n",
            " dense_1 (Dense)             (None, 50)                5050      \n",
            "                                                                 \n",
            " dense_2 (Dense)             (None, 10)                510       \n",
            "                                                                 \n",
            " dense_3 (Dense)             (None, 1)                 11        \n",
            "                                                                 \n",
            "=================================================================\n",
            "Total params: 252,219\n",
            "Trainable params: 252,219\n",
            "Non-trainable params: 0\n",
            "_________________________________________________________________\n",
            "None\n",
            "Epoch 1/10\n",
            "187/187 [==============================] - 55s 284ms/step - loss: 0.0163 - val_loss: 0.0540\n",
            "Epoch 2/10\n",
            "187/187 [==============================] - 52s 277ms/step - loss: 0.0083 - val_loss: 0.0529\n",
            "Epoch 3/10\n",
            "187/187 [==============================] - 53s 284ms/step - loss: 0.0055 - val_loss: 0.0600\n",
            "Epoch 4/10\n",
            "187/187 [==============================] - 51s 274ms/step - loss: 0.0038 - val_loss: 0.0526\n",
            "Epoch 5/10\n",
            "187/187 [==============================] - 54s 289ms/step - loss: 0.0029 - val_loss: 0.0552\n",
            "Epoch 6/10\n",
            "187/187 [==============================] - 51s 272ms/step - loss: 0.0023 - val_loss: 0.0537\n",
            "Epoch 7/10\n",
            "187/187 [==============================] - 50s 270ms/step - loss: 0.0020 - val_loss: 0.0557\n",
            "Epoch 8/10\n",
            "187/187 [==============================] - 51s 272ms/step - loss: 0.0016 - val_loss: 0.0537\n",
            "Epoch 9/10\n",
            "187/187 [==============================] - 51s 273ms/step - loss: 0.0015 - val_loss: 0.0532\n",
            "Epoch 10/10\n",
            "187/187 [==============================] - 51s 273ms/step - loss: 0.0013 - val_loss: 0.0607\n",
            "The model.h5 file has been created!\n"
          ]
        }
      ]
    },
    {
      "cell_type": "code",
      "source": [
        "!python drive.py model.h5"
      ],
      "metadata": {
        "colab": {
          "base_uri": "https://localhost:8080/"
        },
        "id": "meQZrj8kf9Fd",
        "outputId": "b7de56fa-499b-4175-b851-06e691285744"
      },
      "execution_count": 42,
      "outputs": [
        {
          "output_type": "stream",
          "name": "stdout",
          "text": [
            "2022-12-15 16:07:29.659137: W tensorflow/compiler/xla/stream_executor/platform/default/dso_loader.cc:64] Could not load dynamic library 'libnvinfer.so.7'; dlerror: libnvinfer.so.7: cannot open shared object file: No such file or directory; LD_LIBRARY_PATH: /usr/local/lib/python3.8/dist-packages/cv2/../../lib64:/usr/local/nvidia/lib:/usr/local/nvidia/lib64\n",
            "2022-12-15 16:07:29.659290: W tensorflow/compiler/xla/stream_executor/platform/default/dso_loader.cc:64] Could not load dynamic library 'libnvinfer_plugin.so.7'; dlerror: libnvinfer_plugin.so.7: cannot open shared object file: No such file or directory; LD_LIBRARY_PATH: /usr/local/lib/python3.8/dist-packages/cv2/../../lib64:/usr/local/nvidia/lib:/usr/local/nvidia/lib64\n",
            "2022-12-15 16:07:29.659310: W tensorflow/compiler/tf2tensorrt/utils/py_utils.cc:38] TF-TRT Warning: Cannot dlopen some TensorRT libraries. If you would like to use Nvidia GPU with TensorRT, please make sure the missing libraries mentioned above are installed properly.\n",
            "You are using Keras version  b'2.11.0' , but the model was built using  2.11.0\n",
            "2022-12-15 16:07:31.364486: E tensorflow/compiler/xla/stream_executor/cuda/cuda_driver.cc:267] failed call to cuInit: CUDA_ERROR_NO_DEVICE: no CUDA-capable device is detected\n",
            "NOT RECORDING THIS RUN ...\n",
            "(1956) wsgi starting up on http://0.0.0.0:4567\n",
            "wsgi exiting\n",
            "(1956) wsgi exited, is_accepting=True\n"
          ]
        }
      ]
    }
  ]
}