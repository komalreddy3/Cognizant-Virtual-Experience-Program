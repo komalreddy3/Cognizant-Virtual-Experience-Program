{
  "nbformat": 4,
  "nbformat_minor": 0,
  "metadata": {
    "colab": {
      "name": "ML course 2 overview.ipynb",
      "provenance": []
    },
    "kernelspec": {
      "name": "python3",
      "display_name": "Python 3"
    },
    "language_info": {
      "name": "python"
    }
  },
  "cells": [
    {
      "cell_type": "markdown",
      "source": [
        "# **Linear Regression**\n"
      ],
      "metadata": {
        "id": "3zpeHLaUy72r"
      }
    },
    {
      "cell_type": "code",
      "source": [
        "import numpy as np\n",
        "import pandas as pd\n",
        "import matplotlib.pyplot as plt\n",
        "%matplotlib inline\n",
        "from helper import (plot_exponential_data,plot_square_normal_data)\n",
        "import warnings\n",
        "warnings.simplefilter(\"ignore\")"
      ],
      "metadata": {
        "id": "OI7Z9O_EzF47"
      },
      "execution_count": null,
      "outputs": []
    },
    {
      "cell_type": "markdown",
      "source": [
        "loading in Boston data"
      ],
      "metadata": {
        "id": "i36JbydezWg5"
      }
    },
    {
      "cell_type": "code",
      "source": [
        "from helper import boston_dataframe\n",
        "boston_data=boston_dataframe()"
      ],
      "metadata": {
        "id": "4uPg-7KCzZ1W"
      },
      "execution_count": null,
      "outputs": []
    },
    {
      "cell_type": "code",
      "source": [
        "boston_data.head(10)"
      ],
      "metadata": {
        "colab": {
          "base_uri": "https://localhost:8080/",
          "height": 363
        },
        "id": "fxWFz3N0zpR3",
        "outputId": "966f7ab4-d33f-46f5-c6af-e90c0ed20372"
      },
      "execution_count": null,
      "outputs": [
        {
          "output_type": "execute_result",
          "data": {
            "text/html": [
              "\n",
              "  <div id=\"df-2e7d78a1-be23-4cd1-8937-eb526b4658a5\">\n",
              "    <div class=\"colab-df-container\">\n",
              "      <div>\n",
              "<style scoped>\n",
              "    .dataframe tbody tr th:only-of-type {\n",
              "        vertical-align: middle;\n",
              "    }\n",
              "\n",
              "    .dataframe tbody tr th {\n",
              "        vertical-align: top;\n",
              "    }\n",
              "\n",
              "    .dataframe thead th {\n",
              "        text-align: right;\n",
              "    }\n",
              "</style>\n",
              "<table border=\"1\" class=\"dataframe\">\n",
              "  <thead>\n",
              "    <tr style=\"text-align: right;\">\n",
              "      <th></th>\n",
              "      <th>CRIM</th>\n",
              "      <th>ZN</th>\n",
              "      <th>INDUS</th>\n",
              "      <th>CHAS</th>\n",
              "      <th>NOX</th>\n",
              "      <th>RM</th>\n",
              "      <th>AGE</th>\n",
              "      <th>DIS</th>\n",
              "      <th>RAD</th>\n",
              "      <th>TAX</th>\n",
              "      <th>PTRATIO</th>\n",
              "      <th>B</th>\n",
              "      <th>LSTAT</th>\n",
              "      <th>MEDV</th>\n",
              "    </tr>\n",
              "  </thead>\n",
              "  <tbody>\n",
              "    <tr>\n",
              "      <th>0</th>\n",
              "      <td>0.00632</td>\n",
              "      <td>18.0</td>\n",
              "      <td>2.31</td>\n",
              "      <td>0.0</td>\n",
              "      <td>0.538</td>\n",
              "      <td>6.575</td>\n",
              "      <td>65.2</td>\n",
              "      <td>4.0900</td>\n",
              "      <td>1.0</td>\n",
              "      <td>296.0</td>\n",
              "      <td>15.3</td>\n",
              "      <td>396.90</td>\n",
              "      <td>4.98</td>\n",
              "      <td>24.0</td>\n",
              "    </tr>\n",
              "    <tr>\n",
              "      <th>1</th>\n",
              "      <td>0.02731</td>\n",
              "      <td>0.0</td>\n",
              "      <td>7.07</td>\n",
              "      <td>0.0</td>\n",
              "      <td>0.469</td>\n",
              "      <td>6.421</td>\n",
              "      <td>78.9</td>\n",
              "      <td>4.9671</td>\n",
              "      <td>2.0</td>\n",
              "      <td>242.0</td>\n",
              "      <td>17.8</td>\n",
              "      <td>396.90</td>\n",
              "      <td>9.14</td>\n",
              "      <td>21.6</td>\n",
              "    </tr>\n",
              "    <tr>\n",
              "      <th>2</th>\n",
              "      <td>0.02729</td>\n",
              "      <td>0.0</td>\n",
              "      <td>7.07</td>\n",
              "      <td>0.0</td>\n",
              "      <td>0.469</td>\n",
              "      <td>7.185</td>\n",
              "      <td>61.1</td>\n",
              "      <td>4.9671</td>\n",
              "      <td>2.0</td>\n",
              "      <td>242.0</td>\n",
              "      <td>17.8</td>\n",
              "      <td>392.83</td>\n",
              "      <td>4.03</td>\n",
              "      <td>34.7</td>\n",
              "    </tr>\n",
              "    <tr>\n",
              "      <th>3</th>\n",
              "      <td>0.03237</td>\n",
              "      <td>0.0</td>\n",
              "      <td>2.18</td>\n",
              "      <td>0.0</td>\n",
              "      <td>0.458</td>\n",
              "      <td>6.998</td>\n",
              "      <td>45.8</td>\n",
              "      <td>6.0622</td>\n",
              "      <td>3.0</td>\n",
              "      <td>222.0</td>\n",
              "      <td>18.7</td>\n",
              "      <td>394.63</td>\n",
              "      <td>2.94</td>\n",
              "      <td>33.4</td>\n",
              "    </tr>\n",
              "    <tr>\n",
              "      <th>4</th>\n",
              "      <td>0.06905</td>\n",
              "      <td>0.0</td>\n",
              "      <td>2.18</td>\n",
              "      <td>0.0</td>\n",
              "      <td>0.458</td>\n",
              "      <td>7.147</td>\n",
              "      <td>54.2</td>\n",
              "      <td>6.0622</td>\n",
              "      <td>3.0</td>\n",
              "      <td>222.0</td>\n",
              "      <td>18.7</td>\n",
              "      <td>396.90</td>\n",
              "      <td>5.33</td>\n",
              "      <td>36.2</td>\n",
              "    </tr>\n",
              "    <tr>\n",
              "      <th>5</th>\n",
              "      <td>0.02985</td>\n",
              "      <td>0.0</td>\n",
              "      <td>2.18</td>\n",
              "      <td>0.0</td>\n",
              "      <td>0.458</td>\n",
              "      <td>6.430</td>\n",
              "      <td>58.7</td>\n",
              "      <td>6.0622</td>\n",
              "      <td>3.0</td>\n",
              "      <td>222.0</td>\n",
              "      <td>18.7</td>\n",
              "      <td>394.12</td>\n",
              "      <td>5.21</td>\n",
              "      <td>28.7</td>\n",
              "    </tr>\n",
              "    <tr>\n",
              "      <th>6</th>\n",
              "      <td>0.08829</td>\n",
              "      <td>12.5</td>\n",
              "      <td>7.87</td>\n",
              "      <td>0.0</td>\n",
              "      <td>0.524</td>\n",
              "      <td>6.012</td>\n",
              "      <td>66.6</td>\n",
              "      <td>5.5605</td>\n",
              "      <td>5.0</td>\n",
              "      <td>311.0</td>\n",
              "      <td>15.2</td>\n",
              "      <td>395.60</td>\n",
              "      <td>12.43</td>\n",
              "      <td>22.9</td>\n",
              "    </tr>\n",
              "    <tr>\n",
              "      <th>7</th>\n",
              "      <td>0.14455</td>\n",
              "      <td>12.5</td>\n",
              "      <td>7.87</td>\n",
              "      <td>0.0</td>\n",
              "      <td>0.524</td>\n",
              "      <td>6.172</td>\n",
              "      <td>96.1</td>\n",
              "      <td>5.9505</td>\n",
              "      <td>5.0</td>\n",
              "      <td>311.0</td>\n",
              "      <td>15.2</td>\n",
              "      <td>396.90</td>\n",
              "      <td>19.15</td>\n",
              "      <td>27.1</td>\n",
              "    </tr>\n",
              "    <tr>\n",
              "      <th>8</th>\n",
              "      <td>0.21124</td>\n",
              "      <td>12.5</td>\n",
              "      <td>7.87</td>\n",
              "      <td>0.0</td>\n",
              "      <td>0.524</td>\n",
              "      <td>5.631</td>\n",
              "      <td>100.0</td>\n",
              "      <td>6.0821</td>\n",
              "      <td>5.0</td>\n",
              "      <td>311.0</td>\n",
              "      <td>15.2</td>\n",
              "      <td>386.63</td>\n",
              "      <td>29.93</td>\n",
              "      <td>16.5</td>\n",
              "    </tr>\n",
              "    <tr>\n",
              "      <th>9</th>\n",
              "      <td>0.17004</td>\n",
              "      <td>12.5</td>\n",
              "      <td>7.87</td>\n",
              "      <td>0.0</td>\n",
              "      <td>0.524</td>\n",
              "      <td>6.004</td>\n",
              "      <td>85.9</td>\n",
              "      <td>6.5921</td>\n",
              "      <td>5.0</td>\n",
              "      <td>311.0</td>\n",
              "      <td>15.2</td>\n",
              "      <td>386.71</td>\n",
              "      <td>17.10</td>\n",
              "      <td>18.9</td>\n",
              "    </tr>\n",
              "  </tbody>\n",
              "</table>\n",
              "</div>\n",
              "      <button class=\"colab-df-convert\" onclick=\"convertToInteractive('df-2e7d78a1-be23-4cd1-8937-eb526b4658a5')\"\n",
              "              title=\"Convert this dataframe to an interactive table.\"\n",
              "              style=\"display:none;\">\n",
              "        \n",
              "  <svg xmlns=\"http://www.w3.org/2000/svg\" height=\"24px\"viewBox=\"0 0 24 24\"\n",
              "       width=\"24px\">\n",
              "    <path d=\"M0 0h24v24H0V0z\" fill=\"none\"/>\n",
              "    <path d=\"M18.56 5.44l.94 2.06.94-2.06 2.06-.94-2.06-.94-.94-2.06-.94 2.06-2.06.94zm-11 1L8.5 8.5l.94-2.06 2.06-.94-2.06-.94L8.5 2.5l-.94 2.06-2.06.94zm10 10l.94 2.06.94-2.06 2.06-.94-2.06-.94-.94-2.06-.94 2.06-2.06.94z\"/><path d=\"M17.41 7.96l-1.37-1.37c-.4-.4-.92-.59-1.43-.59-.52 0-1.04.2-1.43.59L10.3 9.45l-7.72 7.72c-.78.78-.78 2.05 0 2.83L4 21.41c.39.39.9.59 1.41.59.51 0 1.02-.2 1.41-.59l7.78-7.78 2.81-2.81c.8-.78.8-2.07 0-2.86zM5.41 20L4 18.59l7.72-7.72 1.47 1.35L5.41 20z\"/>\n",
              "  </svg>\n",
              "      </button>\n",
              "      \n",
              "  <style>\n",
              "    .colab-df-container {\n",
              "      display:flex;\n",
              "      flex-wrap:wrap;\n",
              "      gap: 12px;\n",
              "    }\n",
              "\n",
              "    .colab-df-convert {\n",
              "      background-color: #E8F0FE;\n",
              "      border: none;\n",
              "      border-radius: 50%;\n",
              "      cursor: pointer;\n",
              "      display: none;\n",
              "      fill: #1967D2;\n",
              "      height: 32px;\n",
              "      padding: 0 0 0 0;\n",
              "      width: 32px;\n",
              "    }\n",
              "\n",
              "    .colab-df-convert:hover {\n",
              "      background-color: #E2EBFA;\n",
              "      box-shadow: 0px 1px 2px rgba(60, 64, 67, 0.3), 0px 1px 3px 1px rgba(60, 64, 67, 0.15);\n",
              "      fill: #174EA6;\n",
              "    }\n",
              "\n",
              "    [theme=dark] .colab-df-convert {\n",
              "      background-color: #3B4455;\n",
              "      fill: #D2E3FC;\n",
              "    }\n",
              "\n",
              "    [theme=dark] .colab-df-convert:hover {\n",
              "      background-color: #434B5C;\n",
              "      box-shadow: 0px 1px 3px 1px rgba(0, 0, 0, 0.15);\n",
              "      filter: drop-shadow(0px 1px 2px rgba(0, 0, 0, 0.3));\n",
              "      fill: #FFFFFF;\n",
              "    }\n",
              "  </style>\n",
              "\n",
              "      <script>\n",
              "        const buttonEl =\n",
              "          document.querySelector('#df-2e7d78a1-be23-4cd1-8937-eb526b4658a5 button.colab-df-convert');\n",
              "        buttonEl.style.display =\n",
              "          google.colab.kernel.accessAllowed ? 'block' : 'none';\n",
              "\n",
              "        async function convertToInteractive(key) {\n",
              "          const element = document.querySelector('#df-2e7d78a1-be23-4cd1-8937-eb526b4658a5');\n",
              "          const dataTable =\n",
              "            await google.colab.kernel.invokeFunction('convertToInteractive',\n",
              "                                                     [key], {});\n",
              "          if (!dataTable) return;\n",
              "\n",
              "          const docLinkHtml = 'Like what you see? Visit the ' +\n",
              "            '<a target=\"_blank\" href=https://colab.research.google.com/notebooks/data_table.ipynb>data table notebook</a>'\n",
              "            + ' to learn more about interactive tables.';\n",
              "          element.innerHTML = '';\n",
              "          dataTable['output_type'] = 'display_data';\n",
              "          await google.colab.output.renderOutput(dataTable, element);\n",
              "          const docLink = document.createElement('div');\n",
              "          docLink.innerHTML = docLinkHtml;\n",
              "          element.appendChild(docLink);\n",
              "        }\n",
              "      </script>\n",
              "    </div>\n",
              "  </div>\n",
              "  "
            ],
            "text/plain": [
              "      CRIM    ZN  INDUS  CHAS    NOX  ...    TAX  PTRATIO       B  LSTAT  MEDV\n",
              "0  0.00632  18.0   2.31   0.0  0.538  ...  296.0     15.3  396.90   4.98  24.0\n",
              "1  0.02731   0.0   7.07   0.0  0.469  ...  242.0     17.8  396.90   9.14  21.6\n",
              "2  0.02729   0.0   7.07   0.0  0.469  ...  242.0     17.8  392.83   4.03  34.7\n",
              "3  0.03237   0.0   2.18   0.0  0.458  ...  222.0     18.7  394.63   2.94  33.4\n",
              "4  0.06905   0.0   2.18   0.0  0.458  ...  222.0     18.7  396.90   5.33  36.2\n",
              "5  0.02985   0.0   2.18   0.0  0.458  ...  222.0     18.7  394.12   5.21  28.7\n",
              "6  0.08829  12.5   7.87   0.0  0.524  ...  311.0     15.2  395.60  12.43  22.9\n",
              "7  0.14455  12.5   7.87   0.0  0.524  ...  311.0     15.2  396.90  19.15  27.1\n",
              "8  0.21124  12.5   7.87   0.0  0.524  ...  311.0     15.2  386.63  29.93  16.5\n",
              "9  0.17004  12.5   7.87   0.0  0.524  ...  311.0     15.2  386.71  17.10  18.9\n",
              "\n",
              "[10 rows x 14 columns]"
            ]
          },
          "metadata": {},
          "execution_count": 123
        }
      ]
    },
    {
      "cell_type": "code",
      "source": [
        "boston_data.MEDV.hist()"
      ],
      "metadata": {
        "colab": {
          "base_uri": "https://localhost:8080/",
          "height": 284
        },
        "id": "ZQZ8cG8Tz10M",
        "outputId": "defa491d-5cdc-46ef-9912-96aa06c6c80d"
      },
      "execution_count": null,
      "outputs": [
        {
          "output_type": "execute_result",
          "data": {
            "text/plain": [
              "<matplotlib.axes._subplots.AxesSubplot at 0x7f1da05ff590>"
            ]
          },
          "metadata": {},
          "execution_count": 124
        },
        {
          "output_type": "display_data",
          "data": {
            "image/png": "[encoded data removed]",
            "text/plain": [
              "<Figure size 432x288 with 1 Axes>"
            ]
          },
          "metadata": {
            "needs_background": "light"
          }
        }
      ]
    },
    {
      "cell_type": "markdown",
      "source": [
        "Does not look normal due to that right tail. Let's try to verify statistically:"
      ],
      "metadata": {
        "id": "FVA7eRwG0Eud"
      }
    },
    {
      "cell_type": "code",
      "source": [
        "from scipy.stats.mstats import normaltest # D'Agostino K^2 Test"
      ],
      "metadata": {
        "id": "XM5DLgy40KY7"
      },
      "execution_count": null,
      "outputs": []
    },
    {
      "cell_type": "markdown",
      "source": [
        "Without getting into Bayesian vs. frequentist debates, for the purposes of this lesson, the following will suffice:\n",
        "\n",
        "* This is a statistical test that tests whether a distribution is normally distributed or not. It isn't perfect, but suffice it to say: \n",
        "    * This test outputs a \"p-value\". The _higher_ this p-value is the _closer_ the distribution is to normal.\n",
        "    * Frequentist statisticians would say that you accept that the distribution is normal (more specifically: fail to reject the null hypothesis that it is normal) if p > 0.05."
      ],
      "metadata": {
        "id": "8HWtM8lO0WnL"
      }
    },
    {
      "cell_type": "code",
      "source": [
        "normaltest(boston_data.MEDV.values)"
      ],
      "metadata": {
        "colab": {
          "base_uri": "https://localhost:8080/"
        },
        "id": "yGMjPzJ20dtP",
        "outputId": "7302cbe0-d949-4332-e4cc-753d770740c1"
      },
      "execution_count": null,
      "outputs": [
        {
          "output_type": "execute_result",
          "data": {
            "text/plain": [
              "NormaltestResult(statistic=90.9746873700967, pvalue=1.7583188871696095e-20)"
            ]
          },
          "metadata": {},
          "execution_count": 126
        }
      ]
    },
    {
      "cell_type": "markdown",
      "source": [
        "p-value extremely low. Our y variable we've been dealing with this whole time was not normally distributed!"
      ],
      "metadata": {
        "id": "1qppUQfz0i3O"
      }
    },
    {
      "cell_type": "markdown",
      "source": [
        "Linear Regression assumes a normally distributed residuals which can be aided by transforming y variable. Let's try some common transformations to try and get y to be normally distributed: \n",
        "\n",
        "* Log\n",
        "* Square root\n",
        "* Box cox"
      ],
      "metadata": {
        "id": "peeYs37W0o8Y"
      }
    },
    {
      "cell_type": "markdown",
      "source": [
        "**testing log**"
      ],
      "metadata": {
        "id": "gub6yei901Xj"
      }
    },
    {
      "cell_type": "code",
      "source": [
        "log_medv = np.log(boston_data.MEDV)\n",
        "log_medv.hist()"
      ],
      "metadata": {
        "colab": {
          "base_uri": "https://localhost:8080/",
          "height": 282
        },
        "id": "a7xPMGlX05Qm",
        "outputId": "f3d3b213-eb06-44b2-9cc8-a8660a76cad8"
      },
      "execution_count": null,
      "outputs": [
        {
          "output_type": "execute_result",
          "data": {
            "text/plain": [
              "<matplotlib.axes._subplots.AxesSubplot at 0x7f1d9435a3d0>"
            ]
          },
          "metadata": {},
          "execution_count": 127
        },
        {
          "output_type": "display_data",
          "data": {
            "image/png": "[encoded data removed]",
            "text/plain": [
              "<Figure size 432x288 with 1 Axes>"
            ]
          },
          "metadata": {
            "needs_background": "light"
          }
        }
      ]
    },
    {
      "cell_type": "code",
      "source": [
        "log_medv = pd.DataFrame(np.log(boston_data.MEDV))\n",
        "log_medv.hist(bins=10)"
      ],
      "metadata": {
        "colab": {
          "base_uri": "https://localhost:8080/",
          "height": 316
        },
        "id": "TrbEbOYT70bj",
        "outputId": "d730d6ff-7d32-4c0b-c129-52fe02effce8"
      },
      "execution_count": null,
      "outputs": [
        {
          "output_type": "execute_result",
          "data": {
            "text/plain": [
              "array([[<matplotlib.axes._subplots.AxesSubplot object at 0x7f1d94352c90>]],\n",
              "      dtype=object)"
            ]
          },
          "metadata": {},
          "execution_count": 128
        },
        {
          "output_type": "display_data",
          "data": {
            "image/png": "[encoded data removed]",
            "text/plain": [
              "<Figure size 432x288 with 1 Axes>"
            ]
          },
          "metadata": {
            "needs_background": "light"
          }
        }
      ]
    },
    {
      "cell_type": "code",
      "source": [
        "ax=log_medv.plot.hist(bins=10)"
      ],
      "metadata": {
        "colab": {
          "base_uri": "https://localhost:8080/",
          "height": 265
        },
        "id": "ZJ7zRlN29Rww",
        "outputId": "6c50738b-17d8-4e56-f67b-4feefd8c0272"
      },
      "execution_count": null,
      "outputs": [
        {
          "output_type": "display_data",
          "data": {
            "image/png": "[encoded data removed]",
            "text/plain": [
              "<Figure size 432x288 with 1 Axes>"
            ]
          },
          "metadata": {
            "needs_background": "light"
          }
        }
      ]
    },
    {
      "cell_type": "code",
      "source": [
        "normaltest(log_medv)"
      ],
      "metadata": {
        "colab": {
          "base_uri": "https://localhost:8080/"
        },
        "id": "uweacXhw0-Xa",
        "outputId": "cac7c17d-c8f4-48f8-909e-3e1dfd7c83d5"
      },
      "execution_count": null,
      "outputs": [
        {
          "output_type": "execute_result",
          "data": {
            "text/plain": [
              "NormaltestResult(statistic=masked_array(data=[17.21801696640698],\n",
              "             mask=[False],\n",
              "       fill_value=1e+20), pvalue=array([0.00018245]))"
            ]
          },
          "metadata": {},
          "execution_count": 129
        }
      ]
    },
    {
      "cell_type": "markdown",
      "source": [
        "Conclusion: closer, but still not normal."
      ],
      "metadata": {
        "id": "R1_XrFFi1Czo"
      }
    },
    {
      "cell_type": "markdown",
      "source": [
        "**testing square root**"
      ],
      "metadata": {
        "id": "bz6Pq9gq1Kjq"
      }
    },
    {
      "cell_type": "code",
      "source": [
        "sqrt_medv = np.sqrt(boston_data.MEDV)\n",
        "plt.hist(sqrt_medv)"
      ],
      "metadata": {
        "colab": {
          "base_uri": "https://localhost:8080/",
          "height": 352
        },
        "id": "x0EJrddO1O8d",
        "outputId": "218bca6c-29c0-48ff-9229-ec144cd556d1"
      },
      "execution_count": null,
      "outputs": [
        {
          "output_type": "execute_result",
          "data": {
            "text/plain": [
              "(array([  9.,  18.,  40.,  67., 131., 121.,  48.,  36.,  10.,  26.]),\n",
              " array([2.23606798, 2.71956796, 3.20306794, 3.68656793, 4.17006791,\n",
              "        4.65356789, 5.13706788, 5.62056786, 6.10406784, 6.58756783,\n",
              "        7.07106781]),\n",
              " <a list of 10 Patch objects>)"
            ]
          },
          "metadata": {},
          "execution_count": 130
        },
        {
          "output_type": "display_data",
          "data": {
            "image/png": "[encoded data removed]",
            "text/plain": [
              "<Figure size 432x288 with 1 Axes>"
            ]
          },
          "metadata": {
            "needs_background": "light"
          }
        }
      ]
    },
    {
      "cell_type": "code",
      "source": [
        "sqrt_medv.hist()"
      ],
      "metadata": {
        "colab": {
          "base_uri": "https://localhost:8080/",
          "height": 282
        },
        "id": "o2y9JNEC9vLF",
        "outputId": "6dceba07-6fae-4b74-e24f-083a87a7ac8d"
      },
      "execution_count": null,
      "outputs": [
        {
          "output_type": "execute_result",
          "data": {
            "text/plain": [
              "<matplotlib.axes._subplots.AxesSubplot at 0x7f1d9417ac90>"
            ]
          },
          "metadata": {},
          "execution_count": 131
        },
        {
          "output_type": "display_data",
          "data": {
            "image/png": "[encoded data removed]",
            "text/plain": [
              "<Figure size 432x288 with 1 Axes>"
            ]
          },
          "metadata": {
            "needs_background": "light"
          }
        }
      ]
    },
    {
      "cell_type": "code",
      "source": [
        "sqrt_medv = pd.DataFrame(sqrt_medv)\n",
        "sqrt_medv.hist(bins=10)"
      ],
      "metadata": {
        "colab": {
          "base_uri": "https://localhost:8080/",
          "height": 316
        },
        "id": "wJNqx8z3960T",
        "outputId": "53bb9dad-1f04-4664-e90b-c00b46f2c7ac"
      },
      "execution_count": null,
      "outputs": [
        {
          "output_type": "execute_result",
          "data": {
            "text/plain": [
              "array([[<matplotlib.axes._subplots.AxesSubplot object at 0x7f1d943e7310>]],\n",
              "      dtype=object)"
            ]
          },
          "metadata": {},
          "execution_count": 132
        },
        {
          "output_type": "display_data",
          "data": {
            "image/png": "[encoded data removed]",
            "text/plain": [
              "<Figure size 432x288 with 1 Axes>"
            ]
          },
          "metadata": {
            "needs_background": "light"
          }
        }
      ]
    },
    {
      "cell_type": "code",
      "source": [
        "sqrt_medv.plot.hist(bins=10)"
      ],
      "metadata": {
        "colab": {
          "base_uri": "https://localhost:8080/",
          "height": 282
        },
        "id": "4zz0-ngE-iEj",
        "outputId": "acd116bc-5894-40c7-b6a3-824b2efe813f"
      },
      "execution_count": null,
      "outputs": [
        {
          "output_type": "execute_result",
          "data": {
            "text/plain": [
              "<matplotlib.axes._subplots.AxesSubplot at 0x7f1d9402e710>"
            ]
          },
          "metadata": {},
          "execution_count": 133
        },
        {
          "output_type": "display_data",
          "data": {
            "image/png": "[encoded data removed]",
            "text/plain": [
              "<Figure size 432x288 with 1 Axes>"
            ]
          },
          "metadata": {
            "needs_background": "light"
          }
        }
      ]
    },
    {
      "cell_type": "code",
      "source": [
        "normaltest(sqrt_medv)"
      ],
      "metadata": {
        "colab": {
          "base_uri": "https://localhost:8080/"
        },
        "id": "gvnSb1k01T0y",
        "outputId": "0cc1bfbb-cf7b-4901-d390-729ff9c8ca53"
      },
      "execution_count": null,
      "outputs": [
        {
          "output_type": "execute_result",
          "data": {
            "text/plain": [
              "NormaltestResult(statistic=masked_array(data=[20.487090826863067],\n",
              "             mask=[False],\n",
              "       fill_value=1e+20), pvalue=array([3.5586457e-05]))"
            ]
          },
          "metadata": {},
          "execution_count": 134
        }
      ]
    },
    {
      "cell_type": "markdown",
      "source": [
        "**testing boxcox**"
      ],
      "metadata": {
        "id": "Yh0AhAr41bMt"
      }
    },
    {
      "cell_type": "code",
      "source": [
        "from scipy.stats import boxcox"
      ],
      "metadata": {
        "id": "21wwNld-1fC_"
      },
      "execution_count": null,
      "outputs": []
    },
    {
      "cell_type": "code",
      "source": [
        "bc_result = boxcox(boston_data.MEDV)\n",
        "boxcox_medv = bc_result[0]\n",
        "lam = bc_result[1]"
      ],
      "metadata": {
        "id": "wBVqCsw-1iJM"
      },
      "execution_count": null,
      "outputs": []
    },
    {
      "cell_type": "code",
      "source": [
        "len(bc_result)"
      ],
      "metadata": {
        "colab": {
          "base_uri": "https://localhost:8080/"
        },
        "id": "Tgh20rIS1pAC",
        "outputId": "adf7d1c2-e214-4b3c-f279-a22d423a5da7"
      },
      "execution_count": null,
      "outputs": [
        {
          "output_type": "execute_result",
          "data": {
            "text/plain": [
              "2"
            ]
          },
          "metadata": {},
          "execution_count": 137
        }
      ]
    },
    {
      "cell_type": "code",
      "source": [
        "lam"
      ],
      "metadata": {
        "colab": {
          "base_uri": "https://localhost:8080/"
        },
        "id": "sQL9CTQG2BRO",
        "outputId": "8b95540c-0ad4-4699-8647-ba03c75d77fa"
      },
      "execution_count": null,
      "outputs": [
        {
          "output_type": "execute_result",
          "data": {
            "text/plain": [
              "0.2166209012915364"
            ]
          },
          "metadata": {},
          "execution_count": 138
        }
      ]
    },
    {
      "cell_type": "markdown",
      "source": [
        "lam is the best lambda for the distribution"
      ],
      "metadata": {
        "id": "z035A6TuWCCy"
      }
    },
    {
      "cell_type": "code",
      "source": [
        "boston_data['MEDV'].hist()"
      ],
      "metadata": {
        "colab": {
          "base_uri": "https://localhost:8080/",
          "height": 284
        },
        "id": "9rhVZxTZ2NhQ",
        "outputId": "b32bad79-ea2e-4427-ecb8-c039b5004c18"
      },
      "execution_count": null,
      "outputs": [
        {
          "output_type": "execute_result",
          "data": {
            "text/plain": [
              "<matplotlib.axes._subplots.AxesSubplot at 0x7f1d93fd7750>"
            ]
          },
          "metadata": {},
          "execution_count": 139
        },
        {
          "output_type": "display_data",
          "data": {
            "image/png": "[encoded data removed]",
            "text/plain": [
              "<Figure size 432x288 with 1 Axes>"
            ]
          },
          "metadata": {
            "needs_background": "light"
          }
        }
      ]
    },
    {
      "cell_type": "code",
      "source": [
        "plt.hist(boxcox_medv)"
      ],
      "metadata": {
        "colab": {
          "base_uri": "https://localhost:8080/",
          "height": 352
        },
        "id": "9EZsGZEJ2PQg",
        "outputId": "10ef040a-0924-4735-88bf-fe620573069e"
      },
      "execution_count": null,
      "outputs": [
        {
          "output_type": "execute_result",
          "data": {
            "text/plain": [
              "(array([  4.,  15.,  17.,  49.,  68., 151.,  99.,  50.,  23.,  30.]),\n",
              " array([1.92564954, 2.3487372 , 2.77182485, 3.1949125 , 3.61800016,\n",
              "        4.04108781, 4.46417546, 4.88726311, 5.31035077, 5.73343842,\n",
              "        6.15652607]),\n",
              " <a list of 10 Patch objects>)"
            ]
          },
          "metadata": {},
          "execution_count": 140
        },
        {
          "output_type": "display_data",
          "data": {
            "image/png": "[encoded data removed]",
            "text/plain": [
              "<Figure size 432x288 with 1 Axes>"
            ]
          },
          "metadata": {
            "needs_background": "light"
          }
        }
      ]
    },
    {
      "cell_type": "code",
      "source": [
        "normaltest(boxcox_medv)"
      ],
      "metadata": {
        "colab": {
          "base_uri": "https://localhost:8080/"
        },
        "id": "x17JmPtz2S7Y",
        "outputId": "932a1718-e02a-4899-ab92-0f2b7cadce66"
      },
      "execution_count": null,
      "outputs": [
        {
          "output_type": "execute_result",
          "data": {
            "text/plain": [
              "NormaltestResult(statistic=4.513528775533045, pvalue=0.1046886692817602)"
            ]
          },
          "metadata": {},
          "execution_count": 141
        }
      ]
    },
    {
      "cell_type": "markdown",
      "source": [
        "Significantly more normally distributed (according to p value) than the other two distributions - above 0.05, even!\n",
        "\n",
        "Now that we have a normally distributed y-variable, let's try a regression!"
      ],
      "metadata": {
        "id": "ved0StC42ZVF"
      }
    },
    {
      "cell_type": "code",
      "source": [
        "from sklearn.linear_model import LinearRegression\n",
        "from sklearn.metrics import r2_score\n",
        "from sklearn.model_selection import train_test_split\n",
        "from sklearn.preprocessing import (StandardScaler, \n",
        "                                   PolynomialFeatures)"
      ],
      "metadata": {
        "id": "_eC9BkbA2hKo"
      },
      "execution_count": null,
      "outputs": []
    },
    {
      "cell_type": "code",
      "source": [
        "lr = LinearRegression()"
      ],
      "metadata": {
        "id": "3Cj13VEU2mmW"
      },
      "execution_count": null,
      "outputs": []
    },
    {
      "cell_type": "markdown",
      "source": [
        "Reload clean version of boston_data:"
      ],
      "metadata": {
        "id": "fOGkIt2q2nul"
      }
    },
    {
      "cell_type": "code",
      "source": [
        "boston_data = boston_dataframe()"
      ],
      "metadata": {
        "id": "7oEw_wsP2q40"
      },
      "execution_count": null,
      "outputs": []
    },
    {
      "cell_type": "code",
      "source": [
        "y_col = \"MEDV\"\n",
        "\n",
        "X = boston_data.drop(y_col, axis=1)\n",
        "y = boston_data[y_col]"
      ],
      "metadata": {
        "id": "rzeikYA_21F9"
      },
      "execution_count": null,
      "outputs": []
    },
    {
      "cell_type": "code",
      "source": [
        "pf = PolynomialFeatures(degree=2, include_bias=False)\n",
        "X_pf = pf.fit_transform(X)"
      ],
      "metadata": {
        "id": "3Ii-5kc522iF"
      },
      "execution_count": null,
      "outputs": []
    },
    {
      "cell_type": "code",
      "source": [
        "X_train, X_test, y_train, y_test = train_test_split(X_pf, y, test_size=0.3, \n",
        "                                                    random_state=72018)"
      ],
      "metadata": {
        "id": "auiWasbX29m2"
      },
      "execution_count": null,
      "outputs": []
    },
    {
      "cell_type": "code",
      "source": [
        "s = StandardScaler()\n",
        "X_train_s = s.fit_transform(X_train)"
      ],
      "metadata": {
        "id": "7CErDZJx3EU3"
      },
      "execution_count": null,
      "outputs": []
    },
    {
      "cell_type": "code",
      "source": [
        "bc_result2 = boxcox(y_train)\n",
        "y_train_bc = bc_result2[0]\n",
        "lam2 = bc_result2[1]"
      ],
      "metadata": {
        "id": "-44kpfel3Il9"
      },
      "execution_count": null,
      "outputs": []
    },
    {
      "cell_type": "markdown",
      "source": [
        "As before, we'll now:\n",
        "\n",
        "1. Fit regression\n",
        "1. Transform testing data\n",
        "1. Predict on testing data"
      ],
      "metadata": {
        "id": "cB0iVHFa3Nie"
      }
    },
    {
      "cell_type": "code",
      "source": [
        "y_train_bc.shape"
      ],
      "metadata": {
        "colab": {
          "base_uri": "https://localhost:8080/"
        },
        "id": "pAJ1GrVv3Ru2",
        "outputId": "89e9e53c-c467-4ab1-fe1f-878306b0c339"
      },
      "execution_count": null,
      "outputs": [
        {
          "output_type": "execute_result",
          "data": {
            "text/plain": [
              "(354,)"
            ]
          },
          "metadata": {},
          "execution_count": 150
        }
      ]
    },
    {
      "cell_type": "code",
      "source": [
        "lr.fit(X_train_s, y_train_bc)\n",
        "X_test_s = s.transform(X_test)\n",
        "y_pred_bc = lr.predict(X_test_s)"
      ],
      "metadata": {
        "id": "XAJIsKHw3TJ2"
      },
      "execution_count": null,
      "outputs": []
    },
    {
      "cell_type": "markdown",
      "source": [
        "**inverse transform**"
      ],
      "metadata": {
        "id": "77xfOvNr3lWp"
      }
    },
    {
      "cell_type": "code",
      "source": [
        "from scipy.special import inv_boxcox"
      ],
      "metadata": {
        "id": "Dgvm85n53pNR"
      },
      "execution_count": null,
      "outputs": []
    },
    {
      "cell_type": "code",
      "source": [
        "bc_result = boxcox(boston_data.MEDV)\n",
        "boxcox_medv = bc_result[0]\n",
        "lam = bc_result[1]"
      ],
      "metadata": {
        "id": "iyOQW4Oy3s5E"
      },
      "execution_count": null,
      "outputs": []
    },
    {
      "cell_type": "code",
      "source": [
        "inv_boxcox(boxcox_medv, lam)[:10]"
      ],
      "metadata": {
        "colab": {
          "base_uri": "https://localhost:8080/"
        },
        "id": "iXUdRmob33EK",
        "outputId": "76e07ae4-d7ef-4b4d-c02b-5b9e6291e251"
      },
      "execution_count": null,
      "outputs": [
        {
          "output_type": "execute_result",
          "data": {
            "text/plain": [
              "array([24. , 21.6, 34.7, 33.4, 36.2, 28.7, 22.9, 27.1, 16.5, 18.9])"
            ]
          },
          "metadata": {},
          "execution_count": 154
        }
      ]
    },
    {
      "cell_type": "code",
      "source": [
        "boston_data['MEDV'].values[:10]"
      ],
      "metadata": {
        "colab": {
          "base_uri": "https://localhost:8080/"
        },
        "id": "Hu6wFako34dL",
        "outputId": "f94680df-969d-46f7-9d71-2f7e7a1ce3c1"
      },
      "execution_count": null,
      "outputs": [
        {
          "output_type": "execute_result",
          "data": {
            "text/plain": [
              "array([24. , 21.6, 34.7, 33.4, 36.2, 28.7, 22.9, 27.1, 16.5, 18.9])"
            ]
          },
          "metadata": {},
          "execution_count": 155
        }
      ]
    },
    {
      "cell_type": "markdown",
      "source": [
        "**R^2 Score**"
      ],
      "metadata": {
        "id": "AQLdDs3P4Efn"
      }
    },
    {
      "cell_type": "code",
      "source": [
        "y_pred_tran = inv_boxcox(y_pred_bc,lam2)\n",
        "r2_score(y_pred_tran,y_test)"
      ],
      "metadata": {
        "colab": {
          "base_uri": "https://localhost:8080/"
        },
        "id": "ERis5y9z4Hn8",
        "outputId": "418a1dc8-8f25-49f9-b291-ebec6ef1b3bb"
      },
      "execution_count": null,
      "outputs": [
        {
          "output_type": "execute_result",
          "data": {
            "text/plain": [
              "0.8794001851338568"
            ]
          },
          "metadata": {},
          "execution_count": 156
        }
      ]
    },
    {
      "cell_type": "markdown",
      "source": [
        "## LAB Exercise: \n",
        "\n",
        "### Determine the R^2 of a LinearRegression without the box cox transformation. Is it higher or lower?"
      ],
      "metadata": {
        "id": "I-XA7-Xz4OIL"
      }
    },
    {
      "cell_type": "code",
      "source": [
        "lr = LinearRegression()\n",
        "lr.fit(X_train_s,y_train)\n",
        "lr_pred = lr.predict(X_test_s)\n",
        "r2_score(y_test,lr_pred)"
      ],
      "metadata": {
        "id": "ddUK0dVk4R7n",
        "outputId": "41b9beaa-4d55-4ebb-b326-aeaed38b84d0",
        "colab": {
          "base_uri": "https://localhost:8080/"
        }
      },
      "execution_count": null,
      "outputs": [
        {
          "output_type": "execute_result",
          "data": {
            "text/plain": [
              "0.8687609133106017"
            ]
          },
          "metadata": {},
          "execution_count": 157
        }
      ]
    },
    {
      "cell_type": "markdown",
      "source": [
        "# **Training and Tests splits**"
      ],
      "metadata": {
        "id": "4Ro5TdOPRPoT"
      }
    },
    {
      "cell_type": "code",
      "source": [
        "import pandas as pd\n",
        "import numpy as np\n",
        "filepath='ameshousing.csv'\n",
        "data=pd.read_csv(filepath,sep=',')"
      ],
      "metadata": {
        "id": "JsD_b0IBRxQT"
      },
      "execution_count": null,
      "outputs": []
    },
    {
      "cell_type": "code",
      "source": [
        "data.info()"
      ],
      "metadata": {
        "colab": {
          "base_uri": "https://localhost:8080/"
        },
        "id": "PWNK0wBMSdUC",
        "outputId": "1c0df885-d92f-464d-da94-9cc8029cea1b"
      },
      "execution_count": null,
      "outputs": [
        {
          "output_type": "stream",
          "name": "stdout",
          "text": [
            "<class 'pandas.core.frame.DataFrame'>\n",
            "RangeIndex: 1379 entries, 0 to 1378\n",
            "Data columns (total 80 columns):\n",
            " #   Column         Non-Null Count  Dtype  \n",
            "---  ------         --------------  -----  \n",
            " 0   1stFlrSF       1379 non-null   float64\n",
            " 1   2ndFlrSF       1379 non-null   float64\n",
            " 2   3SsnPorch      1379 non-null   float64\n",
            " 3   Alley          1379 non-null   object \n",
            " 4   BedroomAbvGr   1379 non-null   int64  \n",
            " 5   BldgType       1379 non-null   object \n",
            " 6   BsmtCond       1379 non-null   object \n",
            " 7   BsmtExposure   1379 non-null   object \n",
            " 8   BsmtFinSF1     1379 non-null   float64\n",
            " 9   BsmtFinSF2     1379 non-null   float64\n",
            " 10  BsmtFinType1   1379 non-null   object \n",
            " 11  BsmtFinType2   1379 non-null   object \n",
            " 12  BsmtFullBath   1379 non-null   int64  \n",
            " 13  BsmtHalfBath   1379 non-null   int64  \n",
            " 14  BsmtQual       1379 non-null   object \n",
            " 15  BsmtUnfSF      1379 non-null   float64\n",
            " 16  CentralAir     1379 non-null   object \n",
            " 17  Condition1     1379 non-null   object \n",
            " 18  Condition2     1379 non-null   object \n",
            " 19  Electrical     1379 non-null   object \n",
            " 20  EnclosedPorch  1379 non-null   float64\n",
            " 21  ExterCond      1379 non-null   object \n",
            " 22  ExterQual      1379 non-null   object \n",
            " 23  Exterior1st    1379 non-null   object \n",
            " 24  Exterior2nd    1379 non-null   object \n",
            " 25  Fence          1379 non-null   object \n",
            " 26  FireplaceQu    1379 non-null   object \n",
            " 27  Fireplaces     1379 non-null   int64  \n",
            " 28  Foundation     1379 non-null   object \n",
            " 29  FullBath       1379 non-null   int64  \n",
            " 30  Functional     1379 non-null   object \n",
            " 31  GarageArea     1379 non-null   float64\n",
            " 32  GarageCars     1379 non-null   int64  \n",
            " 33  GarageCond     1379 non-null   object \n",
            " 34  GarageFinish   1379 non-null   object \n",
            " 35  GarageQual     1379 non-null   object \n",
            " 36  GarageType     1379 non-null   object \n",
            " 37  GarageYrBlt    1379 non-null   float64\n",
            " 38  GrLivArea      1379 non-null   float64\n",
            " 39  HalfBath       1379 non-null   int64  \n",
            " 40  Heating        1379 non-null   object \n",
            " 41  HeatingQC      1379 non-null   object \n",
            " 42  HouseStyle     1379 non-null   object \n",
            " 43  KitchenAbvGr   1379 non-null   int64  \n",
            " 44  KitchenQual    1379 non-null   object \n",
            " 45  LandContour    1379 non-null   object \n",
            " 46  LandSlope      1379 non-null   object \n",
            " 47  LotArea        1379 non-null   float64\n",
            " 48  LotConfig      1379 non-null   object \n",
            " 49  LotFrontage    1379 non-null   float64\n",
            " 50  LotShape       1379 non-null   object \n",
            " 51  LowQualFinSF   1379 non-null   float64\n",
            " 52  MSSubClass     1379 non-null   int64  \n",
            " 53  MSZoning       1379 non-null   object \n",
            " 54  MasVnrArea     1379 non-null   float64\n",
            " 55  MasVnrType     1379 non-null   object \n",
            " 56  MiscFeature    1379 non-null   object \n",
            " 57  MiscVal        1379 non-null   float64\n",
            " 58  MoSold         1379 non-null   int64  \n",
            " 59  Neighborhood   1379 non-null   object \n",
            " 60  OpenPorchSF    1379 non-null   float64\n",
            " 61  OverallCond    1379 non-null   int64  \n",
            " 62  OverallQual    1379 non-null   int64  \n",
            " 63  PavedDrive     1379 non-null   object \n",
            " 64  PoolArea       1379 non-null   float64\n",
            " 65  PoolQC         1379 non-null   object \n",
            " 66  RoofMatl       1379 non-null   object \n",
            " 67  RoofStyle      1379 non-null   object \n",
            " 68  SaleCondition  1379 non-null   object \n",
            " 69  SaleType       1379 non-null   object \n",
            " 70  ScreenPorch    1379 non-null   float64\n",
            " 71  Street         1379 non-null   object \n",
            " 72  TotRmsAbvGrd   1379 non-null   int64  \n",
            " 73  TotalBsmtSF    1379 non-null   float64\n",
            " 74  Utilities      1379 non-null   object \n",
            " 75  WoodDeckSF     1379 non-null   float64\n",
            " 76  YearBuilt      1379 non-null   int64  \n",
            " 77  YearRemodAdd   1379 non-null   int64  \n",
            " 78  YrSold         1379 non-null   int64  \n",
            " 79  SalePrice      1379 non-null   float64\n",
            "dtypes: float64(21), int64(16), object(43)\n",
            "memory usage: 862.0+ KB\n"
          ]
        }
      ]
    },
    {
      "cell_type": "code",
      "source": [
        "data.dtypes.value_counts()"
      ],
      "metadata": {
        "colab": {
          "base_uri": "https://localhost:8080/"
        },
        "id": "CE1RX2kgSjxU",
        "outputId": "94ff35af-dccd-4f8e-ddcc-b30ec9b422d8"
      },
      "execution_count": null,
      "outputs": [
        {
          "output_type": "execute_result",
          "data": {
            "text/plain": [
              "object     43\n",
              "float64    21\n",
              "int64      16\n",
              "dtype: int64"
            ]
          },
          "metadata": {},
          "execution_count": 68
        }
      ]
    },
    {
      "cell_type": "code",
      "source": [
        "data.value_counts()"
      ],
      "metadata": {
        "colab": {
          "base_uri": "https://localhost:8080/"
        },
        "id": "wUFHo80YSvUw",
        "outputId": "127453ef-20b4-479e-c100-2103e9a6ee80"
      },
      "execution_count": null,
      "outputs": [
        {
          "output_type": "execute_result",
          "data": {
            "text/plain": [
              "1stFlrSF  2ndFlrSF  3SsnPorch  Alley  BedroomAbvGr  BldgType  BsmtCond  BsmtExposure  BsmtFinSF1  BsmtFinSF2  BsmtFinType1  BsmtFinType2  BsmtFullBath  BsmtHalfBath  BsmtQual  BsmtUnfSF  CentralAir  Condition1  Condition2  Electrical  EnclosedPorch  ExterCond  ExterQual  Exterior1st  Exterior2nd  Fence  FireplaceQu  Fireplaces  Foundation  FullBath  Functional  GarageArea  GarageCars  GarageCond  GarageFinish  GarageQual  GarageType  GarageYrBlt  GrLivArea  HalfBath  Heating  HeatingQC  HouseStyle  KitchenAbvGr  KitchenQual  LandContour  LandSlope  LotArea  LotConfig  LotFrontage  LotShape  LowQualFinSF  MSSubClass  MSZoning  MasVnrArea  MasVnrType  MiscFeature  MiscVal  MoSold  Neighborhood  OpenPorchSF  OverallCond  OverallQual  PavedDrive  PoolArea  PoolQC  RoofMatl  RoofStyle  SaleCondition  SaleType  ScreenPorch  Street  TotRmsAbvGrd  TotalBsmtSF  Utilities  WoodDeckSF  YearBuilt  YearRemodAdd  YrSold  SalePrice\n",
              "4692.0    950.0     0.0        None   3             1Fam      TA        Gd            5644.0      0.0         GLQ           Unf           2             0             Ex        466.0      Y           Feedr       Norm        SBrkr       0.0            TA         Ex         Stucco       Stucco       None   Gd           3           PConc       2         Typ         1418.0      2           TA          Fin           TA          Attchd      2008.0       5642.0     1         GasA     Ex         2Story      1             Ex           Bnk          Gtl        63887.0  Corner     313.000000   IR3       0.0           60          RL        796.0       Stone       None         0.0      1       Edwards       292.0        5            10           Y           480.0     Gd      ClyTile   Hip        Partial        New       0.0          Pave    12            6110.0       AllPub     214.0       2008       2008          2008    160000.0     1\n",
              "960.0     0.0       0.0        None   3             2fmCon    TA        Av            789.0       0.0         ALQ           Unf           1             0             TA        171.0      N           RRAn        Norm        SBrkr       0.0            TA         TA         HdBoard      HdBoard      None   None         0           CBlock      1         Typ         576.0       2           TA          Unf           TA          Detchd      1970.0       960.0      0         GasW     TA         1Story      1             TA           Lvl          Gtl        9873.0   Inside     60.000000    Reg       0.0           190         RL        160.0       BrkFace     None         0.0      5       BrkSide       288.0        5            4            Y           0.0       None    CompShg   Gable      Normal         WD        0.0          Pave    6             960.0        AllPub     0.0         1970       1970          2006    129000.0     1\n",
              "958.0     581.0     0.0        Grvl   3             1Fam      None      None          0.0         0.0         None          None          0             0             None      650.0      Y           Norm        Norm        SBrkr       68.0           TA         TA         MetalSd      MetalSd      None   Po           1           PConc       2         Typ         686.0       2           TA          Unf           Gd          Detchd      1983.0       1539.0     0         GasA     Gd         2Story      1             Gd           Lvl          Gtl        10440.0  Inside     60.000000    Reg       0.0           70          RM        0.0         None        None         0.0      6       OldTown       78.0         8            5            P           0.0       None    CompShg   Gable      Normal         WD        0.0          Pave    8             650.0        AllPub     70.0        1904       2002          2008    157500.0     1\n",
              "          620.0     0.0        None   3             1Fam      TA        No            403.0       165.0       BLQ           Rec           1             0             TA        238.0      Y           Artery      Norm        FuseA       32.0           TA         TA         Wd Sdng      Wd Sdng      MnPrv  TA           2           CBlock      1         Typ         240.0       1           TA          Unf           TA          Attchd      1941.0       1578.0     0         GasA     TA         1.5Fin      1             Fa           Lvl          Gtl        9490.0   Inside     79.000000    Reg       0.0           50          RL        0.0         None        None         0.0      8       NAmes         0.0          7            6            Y           0.0       None    CompShg   Gable      Normal         WD        0.0          Pave    5             806.0        AllPub     0.0         1941       1950          2006    133000.0     1\n",
              "959.0     408.0     0.0        None   3             1Fam      Fa        No            425.0       0.0         LwQ           Unf           0             0             TA        459.0      Y           Norm        Norm        FuseA       0.0            TA         TA         Wd Sdng      Wd Sdng      None   Gd           1           BrkTil      1         Typ         560.0       1           TA          Unf           TA          Detchd      1978.0       1367.0     0         GasA     TA         1.5Fin      1             TA           Lvl          Gtl        6240.0   Inside     52.000000    Reg       0.0           50          RM        0.0         None        None         0.0      11      BrkSide       0.0          6            6            Y           0.0       None    CompShg   Gable      Normal         WD        120.0        Pave    6             884.0        AllPub     0.0         1931       1950          2007    127500.0     1\n",
              "                                                                                                                                                                                                                                                                                                                                                                                                                                                                                                                                                                                                                                                                                                                                                                                                                                                                                                                                                                     ..\n",
              "1288.0    0.0       0.0        None   1             TwnhsE    TA        No            786.0       0.0         GLQ           Unf           1             0             Gd        474.0      Y           Norm        Norm        SBrkr       0.0            TA         Gd         BrkFace      BrkFace      None   Gd           2           PConc       1         Typ         500.0       2           TA          Fin           TA          Attchd      1996.0       1288.0     1         GasA     Ex         1Story      1             Ex           Lvl          Gtl        14963.0  Inside     38.000000    IR2       0.0           120         RL        0.0         None        None         0.0      12      Veenker       30.0         5            8            Y           0.0       None    CompShg   Gable      Normal         WD        224.0        Pave    4             1260.0       AllPub     120.0       1996       1996          2008    245500.0     1\n",
              "1291.0    0.0       0.0        None   2             1Fam      TA        Mn            1003.0      0.0         GLQ           Unf           1             0             Gd        288.0      Y           Norm        Norm        SBrkr       0.0            TA         TA         Wd Sdng      Wd Sdng      None   Gd           1           PConc       1         Typ         431.0       2           TA          Unf           TA          Attchd      1996.0       1291.0     0         GasA     Ex         1Story      1             Gd           HLS          Gtl        2887.0   Inside     53.730811    Reg       0.0           120         RL        0.0         None        None         0.0      11      ClearCr       0.0          5            6            Y           0.0       None    CompShg   Gable      Normal         WD        0.0          Pave    6             1291.0       AllPub     307.0       1996       1997          2008    173000.0     1\n",
              "          1230.0    0.0        None   5             TwnhsE    TA        No            837.0       0.0         ALQ           Unf           1             0             Gd        105.0      Y           Norm        Norm        SBrkr       0.0            TA         TA         CemntBd      CmentBd      GdPrv  Gd           1           CBlock      2         Maj1        576.0       2           TA          Fin           TA          Attchd      1973.0       2521.0     1         GasA     Gd         2Story      1             TA           Lvl          Gtl        3964.0   Inside     42.000000    Reg       0.0           160         RM        0.0         None        None         0.0      6       MeadowV       20.0         4            6            Y           0.0       None    CompShg   Gable      Normal         WD        0.0          Pave    10            942.0        AllPub     728.0       1973       1973          2006    151400.0     1\n",
              "1294.0    0.0       0.0        None   2             1Fam      None      None          0.0         0.0         None          None          0             0             None      1286.0     Y           Norm        Norm        SBrkr       0.0            TA         Gd         VinylSd      VinylSd      None   Gd           1           PConc       2         Typ         662.0       2           TA          RFn           TA          Attchd      2006.0       1294.0     0         GasA     Ex         1Story      1             Gd           Lvl          Gtl        6762.0   Inside     64.000000    Reg       0.0           20          RL        0.0         None        None         0.0      7       CollgCr       55.0         5            7            Y           0.0       None    CompShg   Gable      Partial        New       0.0          Pave    6             1286.0       AllPub     168.0       2006       2006          2006    193879.0     1\n",
              "438.0     0.0       0.0        None   1             1Fam      Fa        No            290.0       0.0         Rec           Unf           0             0             TA        0.0        N           Norm        Norm        FuseF       0.0            TA         TA         Wd Sdng      Wd Sdng      None   None         0           CBlock      1         Typ         246.0       1           TA          Unf           TA          Detchd      1930.0       438.0      0         GasA     TA         1Story      1             Fa           Bnk          Gtl        8400.0   Inside     60.000000    Reg       0.0           30          RL        0.0         None        None         0.0      1       SWISU         0.0          5            2            N           0.0       None    CompShg   Gable      Normal         WD        0.0          Pave    3             290.0        AllPub     0.0         1920       1950          2009    60000.0      1\n",
              "Length: 1379, dtype: int64"
            ]
          },
          "metadata": {},
          "execution_count": 69
        }
      ]
    },
    {
      "cell_type": "code",
      "source": [
        "df=data\n",
        "one_hot_encoding=df.dtypes[df.dtypes==int]\n",
        "one_hot_encoding.head()"
      ],
      "metadata": {
        "colab": {
          "base_uri": "https://localhost:8080/"
        },
        "id": "Ului2-B-UM90",
        "outputId": "f2be11ad-3f4e-49a5-a9e4-b88fcdcc36be"
      },
      "execution_count": null,
      "outputs": [
        {
          "output_type": "execute_result",
          "data": {
            "text/plain": [
              "BedroomAbvGr    int64\n",
              "BsmtFullBath    int64\n",
              "BsmtHalfBath    int64\n",
              "Fireplaces      int64\n",
              "FullBath        int64\n",
              "dtype: object"
            ]
          },
          "metadata": {},
          "execution_count": 70
        }
      ]
    },
    {
      "cell_type": "code",
      "source": [
        "one_hot_encoding = one_hot_encoding.index.tolist()\n",
        "df[one_hot_encoding].head()"
      ],
      "metadata": {
        "colab": {
          "base_uri": "https://localhost:8080/",
          "height": 250
        },
        "id": "mah_5mDtUwA2",
        "outputId": "277c8f1f-53e1-4356-d88f-1cd9a55fa03a"
      },
      "execution_count": null,
      "outputs": [
        {
          "output_type": "execute_result",
          "data": {
            "text/html": [
              "\n",
              "  <div id=\"df-1c82e8d8-0ad2-411f-9d34-773cfcc2ab46\">\n",
              "    <div class=\"colab-df-container\">\n",
              "      <div>\n",
              "<style scoped>\n",
              "    .dataframe tbody tr th:only-of-type {\n",
              "        vertical-align: middle;\n",
              "    }\n",
              "\n",
              "    .dataframe tbody tr th {\n",
              "        vertical-align: top;\n",
              "    }\n",
              "\n",
              "    .dataframe thead th {\n",
              "        text-align: right;\n",
              "    }\n",
              "</style>\n",
              "<table border=\"1\" class=\"dataframe\">\n",
              "  <thead>\n",
              "    <tr style=\"text-align: right;\">\n",
              "      <th></th>\n",
              "      <th>BedroomAbvGr</th>\n",
              "      <th>BsmtFullBath</th>\n",
              "      <th>BsmtHalfBath</th>\n",
              "      <th>Fireplaces</th>\n",
              "      <th>FullBath</th>\n",
              "      <th>GarageCars</th>\n",
              "      <th>HalfBath</th>\n",
              "      <th>KitchenAbvGr</th>\n",
              "      <th>MSSubClass</th>\n",
              "      <th>MoSold</th>\n",
              "      <th>OverallCond</th>\n",
              "      <th>OverallQual</th>\n",
              "      <th>TotRmsAbvGrd</th>\n",
              "      <th>YearBuilt</th>\n",
              "      <th>YearRemodAdd</th>\n",
              "      <th>YrSold</th>\n",
              "    </tr>\n",
              "  </thead>\n",
              "  <tbody>\n",
              "    <tr>\n",
              "      <th>0</th>\n",
              "      <td>3</td>\n",
              "      <td>1</td>\n",
              "      <td>0</td>\n",
              "      <td>0</td>\n",
              "      <td>2</td>\n",
              "      <td>2</td>\n",
              "      <td>1</td>\n",
              "      <td>1</td>\n",
              "      <td>60</td>\n",
              "      <td>2</td>\n",
              "      <td>5</td>\n",
              "      <td>7</td>\n",
              "      <td>8</td>\n",
              "      <td>2003</td>\n",
              "      <td>2003</td>\n",
              "      <td>2008</td>\n",
              "    </tr>\n",
              "    <tr>\n",
              "      <th>1</th>\n",
              "      <td>3</td>\n",
              "      <td>0</td>\n",
              "      <td>1</td>\n",
              "      <td>1</td>\n",
              "      <td>2</td>\n",
              "      <td>2</td>\n",
              "      <td>0</td>\n",
              "      <td>1</td>\n",
              "      <td>20</td>\n",
              "      <td>5</td>\n",
              "      <td>8</td>\n",
              "      <td>6</td>\n",
              "      <td>6</td>\n",
              "      <td>1976</td>\n",
              "      <td>1976</td>\n",
              "      <td>2007</td>\n",
              "    </tr>\n",
              "    <tr>\n",
              "      <th>2</th>\n",
              "      <td>3</td>\n",
              "      <td>1</td>\n",
              "      <td>0</td>\n",
              "      <td>1</td>\n",
              "      <td>2</td>\n",
              "      <td>2</td>\n",
              "      <td>1</td>\n",
              "      <td>1</td>\n",
              "      <td>60</td>\n",
              "      <td>9</td>\n",
              "      <td>5</td>\n",
              "      <td>7</td>\n",
              "      <td>6</td>\n",
              "      <td>2001</td>\n",
              "      <td>2002</td>\n",
              "      <td>2008</td>\n",
              "    </tr>\n",
              "    <tr>\n",
              "      <th>3</th>\n",
              "      <td>3</td>\n",
              "      <td>1</td>\n",
              "      <td>0</td>\n",
              "      <td>1</td>\n",
              "      <td>1</td>\n",
              "      <td>3</td>\n",
              "      <td>0</td>\n",
              "      <td>1</td>\n",
              "      <td>70</td>\n",
              "      <td>2</td>\n",
              "      <td>5</td>\n",
              "      <td>7</td>\n",
              "      <td>7</td>\n",
              "      <td>1915</td>\n",
              "      <td>1970</td>\n",
              "      <td>2006</td>\n",
              "    </tr>\n",
              "    <tr>\n",
              "      <th>4</th>\n",
              "      <td>4</td>\n",
              "      <td>1</td>\n",
              "      <td>0</td>\n",
              "      <td>1</td>\n",
              "      <td>2</td>\n",
              "      <td>3</td>\n",
              "      <td>1</td>\n",
              "      <td>1</td>\n",
              "      <td>60</td>\n",
              "      <td>12</td>\n",
              "      <td>5</td>\n",
              "      <td>8</td>\n",
              "      <td>9</td>\n",
              "      <td>2000</td>\n",
              "      <td>2000</td>\n",
              "      <td>2008</td>\n",
              "    </tr>\n",
              "  </tbody>\n",
              "</table>\n",
              "</div>\n",
              "      <button class=\"colab-df-convert\" onclick=\"convertToInteractive('df-1c82e8d8-0ad2-411f-9d34-773cfcc2ab46')\"\n",
              "              title=\"Convert this dataframe to an interactive table.\"\n",
              "              style=\"display:none;\">\n",
              "        \n",
              "  <svg xmlns=\"http://www.w3.org/2000/svg\" height=\"24px\"viewBox=\"0 0 24 24\"\n",
              "       width=\"24px\">\n",
              "    <path d=\"M0 0h24v24H0V0z\" fill=\"none\"/>\n",
              "    <path d=\"M18.56 5.44l.94 2.06.94-2.06 2.06-.94-2.06-.94-.94-2.06-.94 2.06-2.06.94zm-11 1L8.5 8.5l.94-2.06 2.06-.94-2.06-.94L8.5 2.5l-.94 2.06-2.06.94zm10 10l.94 2.06.94-2.06 2.06-.94-2.06-.94-.94-2.06-.94 2.06-2.06.94z\"/><path d=\"M17.41 7.96l-1.37-1.37c-.4-.4-.92-.59-1.43-.59-.52 0-1.04.2-1.43.59L10.3 9.45l-7.72 7.72c-.78.78-.78 2.05 0 2.83L4 21.41c.39.39.9.59 1.41.59.51 0 1.02-.2 1.41-.59l7.78-7.78 2.81-2.81c.8-.78.8-2.07 0-2.86zM5.41 20L4 18.59l7.72-7.72 1.47 1.35L5.41 20z\"/>\n",
              "  </svg>\n",
              "      </button>\n",
              "      \n",
              "  <style>\n",
              "    .colab-df-container {\n",
              "      display:flex;\n",
              "      flex-wrap:wrap;\n",
              "      gap: 12px;\n",
              "    }\n",
              "\n",
              "    .colab-df-convert {\n",
              "      background-color: #E8F0FE;\n",
              "      border: none;\n",
              "      border-radius: 50%;\n",
              "      cursor: pointer;\n",
              "      display: none;\n",
              "      fill: #1967D2;\n",
              "      height: 32px;\n",
              "      padding: 0 0 0 0;\n",
              "      width: 32px;\n",
              "    }\n",
              "\n",
              "    .colab-df-convert:hover {\n",
              "      background-color: #E2EBFA;\n",
              "      box-shadow: 0px 1px 2px rgba(60, 64, 67, 0.3), 0px 1px 3px 1px rgba(60, 64, 67, 0.15);\n",
              "      fill: #174EA6;\n",
              "    }\n",
              "\n",
              "    [theme=dark] .colab-df-convert {\n",
              "      background-color: #3B4455;\n",
              "      fill: #D2E3FC;\n",
              "    }\n",
              "\n",
              "    [theme=dark] .colab-df-convert:hover {\n",
              "      background-color: #434B5C;\n",
              "      box-shadow: 0px 1px 3px 1px rgba(0, 0, 0, 0.15);\n",
              "      filter: drop-shadow(0px 1px 2px rgba(0, 0, 0, 0.3));\n",
              "      fill: #FFFFFF;\n",
              "    }\n",
              "  </style>\n",
              "\n",
              "      <script>\n",
              "        const buttonEl =\n",
              "          document.querySelector('#df-1c82e8d8-0ad2-411f-9d34-773cfcc2ab46 button.colab-df-convert');\n",
              "        buttonEl.style.display =\n",
              "          google.colab.kernel.accessAllowed ? 'block' : 'none';\n",
              "\n",
              "        async function convertToInteractive(key) {\n",
              "          const element = document.querySelector('#df-1c82e8d8-0ad2-411f-9d34-773cfcc2ab46');\n",
              "          const dataTable =\n",
              "            await google.colab.kernel.invokeFunction('convertToInteractive',\n",
              "                                                     [key], {});\n",
              "          if (!dataTable) return;\n",
              "\n",
              "          const docLinkHtml = 'Like what you see? Visit the ' +\n",
              "            '<a target=\"_blank\" href=https://colab.research.google.com/notebooks/data_table.ipynb>data table notebook</a>'\n",
              "            + ' to learn more about interactive tables.';\n",
              "          element.innerHTML = '';\n",
              "          dataTable['output_type'] = 'display_data';\n",
              "          await google.colab.output.renderOutput(dataTable, element);\n",
              "          const docLink = document.createElement('div');\n",
              "          docLink.innerHTML = docLinkHtml;\n",
              "          element.appendChild(docLink);\n",
              "        }\n",
              "      </script>\n",
              "    </div>\n",
              "  </div>\n",
              "  "
            ],
            "text/plain": [
              "   BedroomAbvGr  BsmtFullBath  BsmtHalfBath  ...  YearBuilt  YearRemodAdd  YrSold\n",
              "0             3             1             0  ...       2003          2003    2008\n",
              "1             3             0             1  ...       1976          1976    2007\n",
              "2             3             1             0  ...       2001          2002    2008\n",
              "3             3             1             0  ...       1915          1970    2006\n",
              "4             4             1             0  ...       2000          2000    2008\n",
              "\n",
              "[5 rows x 16 columns]"
            ]
          },
          "metadata": {},
          "execution_count": 71
        }
      ]
    },
    {
      "cell_type": "code",
      "source": [
        "mask=data.dtypes==np.object\n",
        "object_cols=data.columns[mask]\n",
        "print(mask)\n"
      ],
      "metadata": {
        "colab": {
          "base_uri": "https://localhost:8080/"
        },
        "id": "2dvjCdStVcpI",
        "outputId": "be7413e0-527c-44ad-b185-e721f734d9ab"
      },
      "execution_count": null,
      "outputs": [
        {
          "output_type": "stream",
          "name": "stdout",
          "text": [
            "1stFlrSF        False\n",
            "2ndFlrSF        False\n",
            "3SsnPorch       False\n",
            "Alley            True\n",
            "BedroomAbvGr    False\n",
            "                ...  \n",
            "WoodDeckSF      False\n",
            "YearBuilt       False\n",
            "YearRemodAdd    False\n",
            "YrSold          False\n",
            "SalePrice       False\n",
            "Length: 80, dtype: bool\n"
          ]
        }
      ]
    },
    {
      "cell_type": "code",
      "source": [
        "print(object_cols)"
      ],
      "metadata": {
        "colab": {
          "base_uri": "https://localhost:8080/"
        },
        "id": "wybndjD4VwBE",
        "outputId": "8927188c-4acc-45e4-bc25-4a008840047f"
      },
      "execution_count": null,
      "outputs": [
        {
          "output_type": "stream",
          "name": "stdout",
          "text": [
            "Index(['Alley', 'BldgType', 'BsmtCond', 'BsmtExposure', 'BsmtFinType1',\n",
            "       'BsmtFinType2', 'BsmtQual', 'CentralAir', 'Condition1', 'Condition2',\n",
            "       'Electrical', 'ExterCond', 'ExterQual', 'Exterior1st', 'Exterior2nd',\n",
            "       'Fence', 'FireplaceQu', 'Foundation', 'Functional', 'GarageCond',\n",
            "       'GarageFinish', 'GarageQual', 'GarageType', 'Heating', 'HeatingQC',\n",
            "       'HouseStyle', 'KitchenQual', 'LandContour', 'LandSlope', 'LotConfig',\n",
            "       'LotShape', 'MSZoning', 'MasVnrType', 'MiscFeature', 'Neighborhood',\n",
            "       'PavedDrive', 'PoolQC', 'RoofMatl', 'RoofStyle', 'SaleCondition',\n",
            "       'SaleType', 'Street', 'Utilities'],\n",
            "      dtype='object')\n"
          ]
        }
      ]
    },
    {
      "cell_type": "code",
      "source": [
        "len(object_cols)"
      ],
      "metadata": {
        "colab": {
          "base_uri": "https://localhost:8080/"
        },
        "id": "Umk0wu5bYXou",
        "outputId": "3ef6c032-6d88-482d-e222-458347d7afa1"
      },
      "execution_count": null,
      "outputs": [
        {
          "output_type": "execute_result",
          "data": {
            "text/plain": [
              "43"
            ]
          },
          "metadata": {},
          "execution_count": 74
        }
      ]
    },
    {
      "cell_type": "code",
      "source": [
        "num_object_cols=(data[object_cols].apply(lambda x: x.nunique()).sort_values(ascending=False))"
      ],
      "metadata": {
        "id": "15KtSDA9WFSw"
      },
      "execution_count": null,
      "outputs": []
    },
    {
      "cell_type": "code",
      "source": [
        "len(num_object_cols)"
      ],
      "metadata": {
        "colab": {
          "base_uri": "https://localhost:8080/"
        },
        "id": "io2d8qX7Yd8J",
        "outputId": "712143ff-120a-4cfc-d913-9dae01d1488c"
      },
      "execution_count": null,
      "outputs": [
        {
          "output_type": "execute_result",
          "data": {
            "text/plain": [
              "43"
            ]
          },
          "metadata": {},
          "execution_count": 76
        }
      ]
    },
    {
      "cell_type": "code",
      "source": [
        "print(num_object_cols)"
      ],
      "metadata": {
        "colab": {
          "base_uri": "https://localhost:8080/"
        },
        "id": "T0IKThU4W4pB",
        "outputId": "b7b41fce-b2ca-4af9-fc4f-a7d8e40fa2e1"
      },
      "execution_count": null,
      "outputs": [
        {
          "output_type": "stream",
          "name": "stdout",
          "text": [
            "Neighborhood     25\n",
            "Exterior2nd      16\n",
            "Exterior1st      14\n",
            "SaleType          9\n",
            "Condition1        9\n",
            "HouseStyle        8\n",
            "RoofMatl          8\n",
            "Condition2        8\n",
            "Functional        7\n",
            "BsmtFinType2      7\n",
            "FireplaceQu       6\n",
            "Foundation        6\n",
            "RoofStyle         6\n",
            "SaleCondition     6\n",
            "BsmtFinType1      6\n",
            "Heating           6\n",
            "GarageType        6\n",
            "BsmtExposure      5\n",
            "Electrical        5\n",
            "Fence             5\n",
            "GarageCond        5\n",
            "GarageQual        5\n",
            "BsmtQual          5\n",
            "LotConfig         5\n",
            "MSZoning          5\n",
            "MiscFeature       5\n",
            "BldgType          5\n",
            "HeatingQC         5\n",
            "KitchenQual       4\n",
            "LandContour       4\n",
            "BsmtCond          4\n",
            "LotShape          4\n",
            "MasVnrType        4\n",
            "ExterQual         4\n",
            "ExterCond         4\n",
            "PoolQC            4\n",
            "Alley             3\n",
            "GarageFinish      3\n",
            "LandSlope         3\n",
            "PavedDrive        3\n",
            "CentralAir        2\n",
            "Street            2\n",
            "Utilities         2\n",
            "dtype: int64\n"
          ]
        }
      ]
    },
    {
      "cell_type": "code",
      "source": [
        "#no need to encode if there is one value\n",
        "small_num_object_cols=num_object_cols.loc[num_object_cols>1]\n",
        "#number of one_hot_cols is one less than number of categories\n",
        "small_num_object_cols-=1\n",
        "\n",
        "small_num_object_cols.sum()\n"
      ],
      "metadata": {
        "colab": {
          "base_uri": "https://localhost:8080/"
        },
        "id": "UyI3PFuYY3Ca",
        "outputId": "a41971c1-5a34-41f9-df92-4397b9c8b59c"
      },
      "execution_count": null,
      "outputs": [
        {
          "output_type": "execute_result",
          "data": {
            "text/plain": [
              "215"
            ]
          },
          "metadata": {},
          "execution_count": 78
        }
      ]
    },
    {
      "cell_type": "code",
      "source": [
        "print(small_num_object_cols)"
      ],
      "metadata": {
        "colab": {
          "base_uri": "https://localhost:8080/"
        },
        "id": "jQr8zfKLZuYX",
        "outputId": "c982a63a-64ac-4280-e1f8-fa3e2e47164c"
      },
      "execution_count": null,
      "outputs": [
        {
          "output_type": "stream",
          "name": "stdout",
          "text": [
            "Neighborhood     24\n",
            "Exterior2nd      15\n",
            "Exterior1st      13\n",
            "SaleType          8\n",
            "Condition1        8\n",
            "HouseStyle        7\n",
            "RoofMatl          7\n",
            "Condition2        7\n",
            "Functional        6\n",
            "BsmtFinType2      6\n",
            "FireplaceQu       5\n",
            "Foundation        5\n",
            "RoofStyle         5\n",
            "SaleCondition     5\n",
            "BsmtFinType1      5\n",
            "Heating           5\n",
            "GarageType        5\n",
            "BsmtExposure      4\n",
            "Electrical        4\n",
            "Fence             4\n",
            "GarageCond        4\n",
            "GarageQual        4\n",
            "BsmtQual          4\n",
            "LotConfig         4\n",
            "MSZoning          4\n",
            "MiscFeature       4\n",
            "BldgType          4\n",
            "HeatingQC         4\n",
            "KitchenQual       3\n",
            "LandContour       3\n",
            "BsmtCond          3\n",
            "LotShape          3\n",
            "MasVnrType        3\n",
            "ExterQual         3\n",
            "ExterCond         3\n",
            "PoolQC            3\n",
            "Alley             2\n",
            "GarageFinish      2\n",
            "LandSlope         2\n",
            "PavedDrive        2\n",
            "CentralAir        1\n",
            "Street            1\n",
            "Utilities         1\n",
            "dtype: int64\n"
          ]
        }
      ]
    },
    {
      "cell_type": "markdown",
      "source": [
        "**One hot encoder**"
      ],
      "metadata": {
        "id": "17ifm7UJbk9D"
      }
    },
    {
      "cell_type": "code",
      "source": [
        "from sklearn.preprocessing import OneHotEncoder\n",
        "data_ohc=data.copy()\n",
        "ohc=OneHotEncoder(drop='first')"
      ],
      "metadata": {
        "id": "w5sHmrlfboLZ"
      },
      "execution_count": null,
      "outputs": []
    },
    {
      "cell_type": "code",
      "source": [
        "num_object_cols.index"
      ],
      "metadata": {
        "colab": {
          "base_uri": "https://localhost:8080/"
        },
        "id": "58cIyW39ciUD",
        "outputId": "13e8eeca-2bd4-44be-caba-b6b6cb775087"
      },
      "execution_count": null,
      "outputs": [
        {
          "output_type": "execute_result",
          "data": {
            "text/plain": [
              "Index(['Neighborhood', 'Exterior2nd', 'Exterior1st', 'SaleType', 'Condition1',\n",
              "       'HouseStyle', 'RoofMatl', 'Condition2', 'Functional', 'BsmtFinType2',\n",
              "       'FireplaceQu', 'Foundation', 'RoofStyle', 'SaleCondition',\n",
              "       'BsmtFinType1', 'Heating', 'GarageType', 'BsmtExposure', 'Electrical',\n",
              "       'Fence', 'GarageCond', 'GarageQual', 'BsmtQual', 'LotConfig',\n",
              "       'MSZoning', 'MiscFeature', 'BldgType', 'HeatingQC', 'KitchenQual',\n",
              "       'LandContour', 'BsmtCond', 'LotShape', 'MasVnrType', 'ExterQual',\n",
              "       'ExterCond', 'PoolQC', 'Alley', 'GarageFinish', 'LandSlope',\n",
              "       'PavedDrive', 'CentralAir', 'Street', 'Utilities'],\n",
              "      dtype='object')"
            ]
          },
          "metadata": {},
          "execution_count": 81
        }
      ]
    },
    {
      "cell_type": "code",
      "source": [
        "data['Neighborhood']"
      ],
      "metadata": {
        "colab": {
          "base_uri": "https://localhost:8080/"
        },
        "id": "LpqRc3sBdv5I",
        "outputId": "d60e0c46-b652-4196-a9f9-7e4baac5184d"
      },
      "execution_count": null,
      "outputs": [
        {
          "output_type": "execute_result",
          "data": {
            "text/plain": [
              "0       CollgCr\n",
              "1       Veenker\n",
              "2       CollgCr\n",
              "3       Crawfor\n",
              "4       NoRidge\n",
              "         ...   \n",
              "1374    Gilbert\n",
              "1375     NWAmes\n",
              "1376    Crawfor\n",
              "1377      NAmes\n",
              "1378    Edwards\n",
              "Name: Neighborhood, Length: 1379, dtype: object"
            ]
          },
          "metadata": {},
          "execution_count": 82
        }
      ]
    },
    {
      "cell_type": "code",
      "source": [
        "data[['Neighborhood']]##dataframe"
      ],
      "metadata": {
        "colab": {
          "base_uri": "https://localhost:8080/",
          "height": 424
        },
        "id": "K1-V8fF5d5Hn",
        "outputId": "6467b956-b5a0-449c-8280-c8cac394b1df"
      },
      "execution_count": null,
      "outputs": [
        {
          "output_type": "execute_result",
          "data": {
            "text/html": [
              "\n",
              "  <div id=\"df-2085ea8c-be40-454e-b79a-0b8cd7f3f8a0\">\n",
              "    <div class=\"colab-df-container\">\n",
              "      <div>\n",
              "<style scoped>\n",
              "    .dataframe tbody tr th:only-of-type {\n",
              "        vertical-align: middle;\n",
              "    }\n",
              "\n",
              "    .dataframe tbody tr th {\n",
              "        vertical-align: top;\n",
              "    }\n",
              "\n",
              "    .dataframe thead th {\n",
              "        text-align: right;\n",
              "    }\n",
              "</style>\n",
              "<table border=\"1\" class=\"dataframe\">\n",
              "  <thead>\n",
              "    <tr style=\"text-align: right;\">\n",
              "      <th></th>\n",
              "      <th>Neighborhood</th>\n",
              "    </tr>\n",
              "  </thead>\n",
              "  <tbody>\n",
              "    <tr>\n",
              "      <th>0</th>\n",
              "      <td>CollgCr</td>\n",
              "    </tr>\n",
              "    <tr>\n",
              "      <th>1</th>\n",
              "      <td>Veenker</td>\n",
              "    </tr>\n",
              "    <tr>\n",
              "      <th>2</th>\n",
              "      <td>CollgCr</td>\n",
              "    </tr>\n",
              "    <tr>\n",
              "      <th>3</th>\n",
              "      <td>Crawfor</td>\n",
              "    </tr>\n",
              "    <tr>\n",
              "      <th>4</th>\n",
              "      <td>NoRidge</td>\n",
              "    </tr>\n",
              "    <tr>\n",
              "      <th>...</th>\n",
              "      <td>...</td>\n",
              "    </tr>\n",
              "    <tr>\n",
              "      <th>1374</th>\n",
              "      <td>Gilbert</td>\n",
              "    </tr>\n",
              "    <tr>\n",
              "      <th>1375</th>\n",
              "      <td>NWAmes</td>\n",
              "    </tr>\n",
              "    <tr>\n",
              "      <th>1376</th>\n",
              "      <td>Crawfor</td>\n",
              "    </tr>\n",
              "    <tr>\n",
              "      <th>1377</th>\n",
              "      <td>NAmes</td>\n",
              "    </tr>\n",
              "    <tr>\n",
              "      <th>1378</th>\n",
              "      <td>Edwards</td>\n",
              "    </tr>\n",
              "  </tbody>\n",
              "</table>\n",
              "<p>1379 rows × 1 columns</p>\n",
              "</div>\n",
              "      <button class=\"colab-df-convert\" onclick=\"convertToInteractive('df-2085ea8c-be40-454e-b79a-0b8cd7f3f8a0')\"\n",
              "              title=\"Convert this dataframe to an interactive table.\"\n",
              "              style=\"display:none;\">\n",
              "        \n",
              "  <svg xmlns=\"http://www.w3.org/2000/svg\" height=\"24px\"viewBox=\"0 0 24 24\"\n",
              "       width=\"24px\">\n",
              "    <path d=\"M0 0h24v24H0V0z\" fill=\"none\"/>\n",
              "    <path d=\"M18.56 5.44l.94 2.06.94-2.06 2.06-.94-2.06-.94-.94-2.06-.94 2.06-2.06.94zm-11 1L8.5 8.5l.94-2.06 2.06-.94-2.06-.94L8.5 2.5l-.94 2.06-2.06.94zm10 10l.94 2.06.94-2.06 2.06-.94-2.06-.94-.94-2.06-.94 2.06-2.06.94z\"/><path d=\"M17.41 7.96l-1.37-1.37c-.4-.4-.92-.59-1.43-.59-.52 0-1.04.2-1.43.59L10.3 9.45l-7.72 7.72c-.78.78-.78 2.05 0 2.83L4 21.41c.39.39.9.59 1.41.59.51 0 1.02-.2 1.41-.59l7.78-7.78 2.81-2.81c.8-.78.8-2.07 0-2.86zM5.41 20L4 18.59l7.72-7.72 1.47 1.35L5.41 20z\"/>\n",
              "  </svg>\n",
              "      </button>\n",
              "      \n",
              "  <style>\n",
              "    .colab-df-container {\n",
              "      display:flex;\n",
              "      flex-wrap:wrap;\n",
              "      gap: 12px;\n",
              "    }\n",
              "\n",
              "    .colab-df-convert {\n",
              "      background-color: #E8F0FE;\n",
              "      border: none;\n",
              "      border-radius: 50%;\n",
              "      cursor: pointer;\n",
              "      display: none;\n",
              "      fill: #1967D2;\n",
              "      height: 32px;\n",
              "      padding: 0 0 0 0;\n",
              "      width: 32px;\n",
              "    }\n",
              "\n",
              "    .colab-df-convert:hover {\n",
              "      background-color: #E2EBFA;\n",
              "      box-shadow: 0px 1px 2px rgba(60, 64, 67, 0.3), 0px 1px 3px 1px rgba(60, 64, 67, 0.15);\n",
              "      fill: #174EA6;\n",
              "    }\n",
              "\n",
              "    [theme=dark] .colab-df-convert {\n",
              "      background-color: #3B4455;\n",
              "      fill: #D2E3FC;\n",
              "    }\n",
              "\n",
              "    [theme=dark] .colab-df-convert:hover {\n",
              "      background-color: #434B5C;\n",
              "      box-shadow: 0px 1px 3px 1px rgba(0, 0, 0, 0.15);\n",
              "      filter: drop-shadow(0px 1px 2px rgba(0, 0, 0, 0.3));\n",
              "      fill: #FFFFFF;\n",
              "    }\n",
              "  </style>\n",
              "\n",
              "      <script>\n",
              "        const buttonEl =\n",
              "          document.querySelector('#df-2085ea8c-be40-454e-b79a-0b8cd7f3f8a0 button.colab-df-convert');\n",
              "        buttonEl.style.display =\n",
              "          google.colab.kernel.accessAllowed ? 'block' : 'none';\n",
              "\n",
              "        async function convertToInteractive(key) {\n",
              "          const element = document.querySelector('#df-2085ea8c-be40-454e-b79a-0b8cd7f3f8a0');\n",
              "          const dataTable =\n",
              "            await google.colab.kernel.invokeFunction('convertToInteractive',\n",
              "                                                     [key], {});\n",
              "          if (!dataTable) return;\n",
              "\n",
              "          const docLinkHtml = 'Like what you see? Visit the ' +\n",
              "            '<a target=\"_blank\" href=https://colab.research.google.com/notebooks/data_table.ipynb>data table notebook</a>'\n",
              "            + ' to learn more about interactive tables.';\n",
              "          element.innerHTML = '';\n",
              "          dataTable['output_type'] = 'display_data';\n",
              "          await google.colab.output.renderOutput(dataTable, element);\n",
              "          const docLink = document.createElement('div');\n",
              "          docLink.innerHTML = docLinkHtml;\n",
              "          element.appendChild(docLink);\n",
              "        }\n",
              "      </script>\n",
              "    </div>\n",
              "  </div>\n",
              "  "
            ],
            "text/plain": [
              "     Neighborhood\n",
              "0         CollgCr\n",
              "1         Veenker\n",
              "2         CollgCr\n",
              "3         Crawfor\n",
              "4         NoRidge\n",
              "...           ...\n",
              "1374      Gilbert\n",
              "1375       NWAmes\n",
              "1376      Crawfor\n",
              "1377        NAmes\n",
              "1378      Edwards\n",
              "\n",
              "[1379 rows x 1 columns]"
            ]
          },
          "metadata": {},
          "execution_count": 83
        }
      ]
    },
    {
      "cell_type": "code",
      "source": [
        "for col in num_object_cols:\n",
        "  #one hot encode the data this returns the sparse array\n",
        "  new_data=ohc.fit_transform(data_ohc[['Neighborhood']])"
      ],
      "metadata": {
        "id": "Jj4Pg-BAcxLc"
      },
      "execution_count": null,
      "outputs": []
    },
    {
      "cell_type": "code",
      "source": [
        "new_data"
      ],
      "metadata": {
        "colab": {
          "base_uri": "https://localhost:8080/"
        },
        "id": "XrDUskdReVQU",
        "outputId": "e0f89e58-9912-4713-e3f5-4f7785736cd5"
      },
      "execution_count": null,
      "outputs": [
        {
          "output_type": "execute_result",
          "data": {
            "text/plain": [
              "<1379x24 sparse matrix of type '<class 'numpy.float64'>'\n",
              "\twith 1362 stored elements in Compressed Sparse Row format>"
            ]
          },
          "metadata": {},
          "execution_count": 85
        }
      ]
    },
    {
      "cell_type": "code",
      "source": [
        "pd.DataFrame(new_data)"
      ],
      "metadata": {
        "colab": {
          "base_uri": "https://localhost:8080/",
          "height": 424
        },
        "id": "nHcT9v1uelH7",
        "outputId": "ac9ddb08-0eb1-498e-e911-4ec8dd787cd9"
      },
      "execution_count": null,
      "outputs": [
        {
          "output_type": "execute_result",
          "data": {
            "text/html": [
              "\n",
              "  <div id=\"df-79d655a6-ecb3-438c-8736-c5f9adff5016\">\n",
              "    <div class=\"colab-df-container\">\n",
              "      <div>\n",
              "<style scoped>\n",
              "    .dataframe tbody tr th:only-of-type {\n",
              "        vertical-align: middle;\n",
              "    }\n",
              "\n",
              "    .dataframe tbody tr th {\n",
              "        vertical-align: top;\n",
              "    }\n",
              "\n",
              "    .dataframe thead th {\n",
              "        text-align: right;\n",
              "    }\n",
              "</style>\n",
              "<table border=\"1\" class=\"dataframe\">\n",
              "  <thead>\n",
              "    <tr style=\"text-align: right;\">\n",
              "      <th></th>\n",
              "      <th>0</th>\n",
              "    </tr>\n",
              "  </thead>\n",
              "  <tbody>\n",
              "    <tr>\n",
              "      <th>0</th>\n",
              "      <td>(0, 4)\\t1.0</td>\n",
              "    </tr>\n",
              "    <tr>\n",
              "      <th>1</th>\n",
              "      <td>(0, 23)\\t1.0</td>\n",
              "    </tr>\n",
              "    <tr>\n",
              "      <th>2</th>\n",
              "      <td>(0, 4)\\t1.0</td>\n",
              "    </tr>\n",
              "    <tr>\n",
              "      <th>3</th>\n",
              "      <td>(0, 5)\\t1.0</td>\n",
              "    </tr>\n",
              "    <tr>\n",
              "      <th>4</th>\n",
              "      <td>(0, 14)\\t1.0</td>\n",
              "    </tr>\n",
              "    <tr>\n",
              "      <th>...</th>\n",
              "      <td>...</td>\n",
              "    </tr>\n",
              "    <tr>\n",
              "      <th>1374</th>\n",
              "      <td>(0, 7)\\t1.0</td>\n",
              "    </tr>\n",
              "    <tr>\n",
              "      <th>1375</th>\n",
              "      <td>(0, 13)\\t1.0</td>\n",
              "    </tr>\n",
              "    <tr>\n",
              "      <th>1376</th>\n",
              "      <td>(0, 5)\\t1.0</td>\n",
              "    </tr>\n",
              "    <tr>\n",
              "      <th>1377</th>\n",
              "      <td>(0, 11)\\t1.0</td>\n",
              "    </tr>\n",
              "    <tr>\n",
              "      <th>1378</th>\n",
              "      <td>(0, 6)\\t1.0</td>\n",
              "    </tr>\n",
              "  </tbody>\n",
              "</table>\n",
              "<p>1379 rows × 1 columns</p>\n",
              "</div>\n",
              "      <button class=\"colab-df-convert\" onclick=\"convertToInteractive('df-79d655a6-ecb3-438c-8736-c5f9adff5016')\"\n",
              "              title=\"Convert this dataframe to an interactive table.\"\n",
              "              style=\"display:none;\">\n",
              "        \n",
              "  <svg xmlns=\"http://www.w3.org/2000/svg\" height=\"24px\"viewBox=\"0 0 24 24\"\n",
              "       width=\"24px\">\n",
              "    <path d=\"M0 0h24v24H0V0z\" fill=\"none\"/>\n",
              "    <path d=\"M18.56 5.44l.94 2.06.94-2.06 2.06-.94-2.06-.94-.94-2.06-.94 2.06-2.06.94zm-11 1L8.5 8.5l.94-2.06 2.06-.94-2.06-.94L8.5 2.5l-.94 2.06-2.06.94zm10 10l.94 2.06.94-2.06 2.06-.94-2.06-.94-.94-2.06-.94 2.06-2.06.94z\"/><path d=\"M17.41 7.96l-1.37-1.37c-.4-.4-.92-.59-1.43-.59-.52 0-1.04.2-1.43.59L10.3 9.45l-7.72 7.72c-.78.78-.78 2.05 0 2.83L4 21.41c.39.39.9.59 1.41.59.51 0 1.02-.2 1.41-.59l7.78-7.78 2.81-2.81c.8-.78.8-2.07 0-2.86zM5.41 20L4 18.59l7.72-7.72 1.47 1.35L5.41 20z\"/>\n",
              "  </svg>\n",
              "      </button>\n",
              "      \n",
              "  <style>\n",
              "    .colab-df-container {\n",
              "      display:flex;\n",
              "      flex-wrap:wrap;\n",
              "      gap: 12px;\n",
              "    }\n",
              "\n",
              "    .colab-df-convert {\n",
              "      background-color: #E8F0FE;\n",
              "      border: none;\n",
              "      border-radius: 50%;\n",
              "      cursor: pointer;\n",
              "      display: none;\n",
              "      fill: #1967D2;\n",
              "      height: 32px;\n",
              "      padding: 0 0 0 0;\n",
              "      width: 32px;\n",
              "    }\n",
              "\n",
              "    .colab-df-convert:hover {\n",
              "      background-color: #E2EBFA;\n",
              "      box-shadow: 0px 1px 2px rgba(60, 64, 67, 0.3), 0px 1px 3px 1px rgba(60, 64, 67, 0.15);\n",
              "      fill: #174EA6;\n",
              "    }\n",
              "\n",
              "    [theme=dark] .colab-df-convert {\n",
              "      background-color: #3B4455;\n",
              "      fill: #D2E3FC;\n",
              "    }\n",
              "\n",
              "    [theme=dark] .colab-df-convert:hover {\n",
              "      background-color: #434B5C;\n",
              "      box-shadow: 0px 1px 3px 1px rgba(0, 0, 0, 0.15);\n",
              "      filter: drop-shadow(0px 1px 2px rgba(0, 0, 0, 0.3));\n",
              "      fill: #FFFFFF;\n",
              "    }\n",
              "  </style>\n",
              "\n",
              "      <script>\n",
              "        const buttonEl =\n",
              "          document.querySelector('#df-79d655a6-ecb3-438c-8736-c5f9adff5016 button.colab-df-convert');\n",
              "        buttonEl.style.display =\n",
              "          google.colab.kernel.accessAllowed ? 'block' : 'none';\n",
              "\n",
              "        async function convertToInteractive(key) {\n",
              "          const element = document.querySelector('#df-79d655a6-ecb3-438c-8736-c5f9adff5016');\n",
              "          const dataTable =\n",
              "            await google.colab.kernel.invokeFunction('convertToInteractive',\n",
              "                                                     [key], {});\n",
              "          if (!dataTable) return;\n",
              "\n",
              "          const docLinkHtml = 'Like what you see? Visit the ' +\n",
              "            '<a target=\"_blank\" href=https://colab.research.google.com/notebooks/data_table.ipynb>data table notebook</a>'\n",
              "            + ' to learn more about interactive tables.';\n",
              "          element.innerHTML = '';\n",
              "          dataTable['output_type'] = 'display_data';\n",
              "          await google.colab.output.renderOutput(dataTable, element);\n",
              "          const docLink = document.createElement('div');\n",
              "          docLink.innerHTML = docLinkHtml;\n",
              "          element.appendChild(docLink);\n",
              "        }\n",
              "      </script>\n",
              "    </div>\n",
              "  </div>\n",
              "  "
            ],
            "text/plain": [
              "                   0\n",
              "0        (0, 4)\\t1.0\n",
              "1       (0, 23)\\t1.0\n",
              "2        (0, 4)\\t1.0\n",
              "3        (0, 5)\\t1.0\n",
              "4       (0, 14)\\t1.0\n",
              "...              ...\n",
              "1374     (0, 7)\\t1.0\n",
              "1375    (0, 13)\\t1.0\n",
              "1376     (0, 5)\\t1.0\n",
              "1377    (0, 11)\\t1.0\n",
              "1378     (0, 6)\\t1.0\n",
              "\n",
              "[1379 rows x 1 columns]"
            ]
          },
          "metadata": {},
          "execution_count": 86
        }
      ]
    },
    {
      "cell_type": "code",
      "source": [
        "pd.DataFrame(new_data.toarray())"
      ],
      "metadata": {
        "colab": {
          "base_uri": "https://localhost:8080/",
          "height": 424
        },
        "id": "p3Yyy4cmfSoZ",
        "outputId": "908f6b05-4547-46a3-daf2-66454f57b13c"
      },
      "execution_count": null,
      "outputs": [
        {
          "output_type": "execute_result",
          "data": {
            "text/html": [
              "\n",
              "  <div id=\"df-4a4cf234-cd45-4c0b-8450-40ee224c9765\">\n",
              "    <div class=\"colab-df-container\">\n",
              "      <div>\n",
              "<style scoped>\n",
              "    .dataframe tbody tr th:only-of-type {\n",
              "        vertical-align: middle;\n",
              "    }\n",
              "\n",
              "    .dataframe tbody tr th {\n",
              "        vertical-align: top;\n",
              "    }\n",
              "\n",
              "    .dataframe thead th {\n",
              "        text-align: right;\n",
              "    }\n",
              "</style>\n",
              "<table border=\"1\" class=\"dataframe\">\n",
              "  <thead>\n",
              "    <tr style=\"text-align: right;\">\n",
              "      <th></th>\n",
              "      <th>0</th>\n",
              "      <th>1</th>\n",
              "      <th>2</th>\n",
              "      <th>3</th>\n",
              "      <th>4</th>\n",
              "      <th>5</th>\n",
              "      <th>6</th>\n",
              "      <th>7</th>\n",
              "      <th>8</th>\n",
              "      <th>9</th>\n",
              "      <th>10</th>\n",
              "      <th>11</th>\n",
              "      <th>12</th>\n",
              "      <th>13</th>\n",
              "      <th>14</th>\n",
              "      <th>15</th>\n",
              "      <th>16</th>\n",
              "      <th>17</th>\n",
              "      <th>18</th>\n",
              "      <th>19</th>\n",
              "      <th>20</th>\n",
              "      <th>21</th>\n",
              "      <th>22</th>\n",
              "      <th>23</th>\n",
              "    </tr>\n",
              "  </thead>\n",
              "  <tbody>\n",
              "    <tr>\n",
              "      <th>0</th>\n",
              "      <td>0.0</td>\n",
              "      <td>0.0</td>\n",
              "      <td>0.0</td>\n",
              "      <td>0.0</td>\n",
              "      <td>1.0</td>\n",
              "      <td>0.0</td>\n",
              "      <td>0.0</td>\n",
              "      <td>0.0</td>\n",
              "      <td>0.0</td>\n",
              "      <td>0.0</td>\n",
              "      <td>0.0</td>\n",
              "      <td>0.0</td>\n",
              "      <td>0.0</td>\n",
              "      <td>0.0</td>\n",
              "      <td>0.0</td>\n",
              "      <td>0.0</td>\n",
              "      <td>0.0</td>\n",
              "      <td>0.0</td>\n",
              "      <td>0.0</td>\n",
              "      <td>0.0</td>\n",
              "      <td>0.0</td>\n",
              "      <td>0.0</td>\n",
              "      <td>0.0</td>\n",
              "      <td>0.0</td>\n",
              "    </tr>\n",
              "    <tr>\n",
              "      <th>1</th>\n",
              "      <td>0.0</td>\n",
              "      <td>0.0</td>\n",
              "      <td>0.0</td>\n",
              "      <td>0.0</td>\n",
              "      <td>0.0</td>\n",
              "      <td>0.0</td>\n",
              "      <td>0.0</td>\n",
              "      <td>0.0</td>\n",
              "      <td>0.0</td>\n",
              "      <td>0.0</td>\n",
              "      <td>0.0</td>\n",
              "      <td>0.0</td>\n",
              "      <td>0.0</td>\n",
              "      <td>0.0</td>\n",
              "      <td>0.0</td>\n",
              "      <td>0.0</td>\n",
              "      <td>0.0</td>\n",
              "      <td>0.0</td>\n",
              "      <td>0.0</td>\n",
              "      <td>0.0</td>\n",
              "      <td>0.0</td>\n",
              "      <td>0.0</td>\n",
              "      <td>0.0</td>\n",
              "      <td>1.0</td>\n",
              "    </tr>\n",
              "    <tr>\n",
              "      <th>2</th>\n",
              "      <td>0.0</td>\n",
              "      <td>0.0</td>\n",
              "      <td>0.0</td>\n",
              "      <td>0.0</td>\n",
              "      <td>1.0</td>\n",
              "      <td>0.0</td>\n",
              "      <td>0.0</td>\n",
              "      <td>0.0</td>\n",
              "      <td>0.0</td>\n",
              "      <td>0.0</td>\n",
              "      <td>0.0</td>\n",
              "      <td>0.0</td>\n",
              "      <td>0.0</td>\n",
              "      <td>0.0</td>\n",
              "      <td>0.0</td>\n",
              "      <td>0.0</td>\n",
              "      <td>0.0</td>\n",
              "      <td>0.0</td>\n",
              "      <td>0.0</td>\n",
              "      <td>0.0</td>\n",
              "      <td>0.0</td>\n",
              "      <td>0.0</td>\n",
              "      <td>0.0</td>\n",
              "      <td>0.0</td>\n",
              "    </tr>\n",
              "    <tr>\n",
              "      <th>3</th>\n",
              "      <td>0.0</td>\n",
              "      <td>0.0</td>\n",
              "      <td>0.0</td>\n",
              "      <td>0.0</td>\n",
              "      <td>0.0</td>\n",
              "      <td>1.0</td>\n",
              "      <td>0.0</td>\n",
              "      <td>0.0</td>\n",
              "      <td>0.0</td>\n",
              "      <td>0.0</td>\n",
              "      <td>0.0</td>\n",
              "      <td>0.0</td>\n",
              "      <td>0.0</td>\n",
              "      <td>0.0</td>\n",
              "      <td>0.0</td>\n",
              "      <td>0.0</td>\n",
              "      <td>0.0</td>\n",
              "      <td>0.0</td>\n",
              "      <td>0.0</td>\n",
              "      <td>0.0</td>\n",
              "      <td>0.0</td>\n",
              "      <td>0.0</td>\n",
              "      <td>0.0</td>\n",
              "      <td>0.0</td>\n",
              "    </tr>\n",
              "    <tr>\n",
              "      <th>4</th>\n",
              "      <td>0.0</td>\n",
              "      <td>0.0</td>\n",
              "      <td>0.0</td>\n",
              "      <td>0.0</td>\n",
              "      <td>0.0</td>\n",
              "      <td>0.0</td>\n",
              "      <td>0.0</td>\n",
              "      <td>0.0</td>\n",
              "      <td>0.0</td>\n",
              "      <td>0.0</td>\n",
              "      <td>0.0</td>\n",
              "      <td>0.0</td>\n",
              "      <td>0.0</td>\n",
              "      <td>0.0</td>\n",
              "      <td>1.0</td>\n",
              "      <td>0.0</td>\n",
              "      <td>0.0</td>\n",
              "      <td>0.0</td>\n",
              "      <td>0.0</td>\n",
              "      <td>0.0</td>\n",
              "      <td>0.0</td>\n",
              "      <td>0.0</td>\n",
              "      <td>0.0</td>\n",
              "      <td>0.0</td>\n",
              "    </tr>\n",
              "    <tr>\n",
              "      <th>...</th>\n",
              "      <td>...</td>\n",
              "      <td>...</td>\n",
              "      <td>...</td>\n",
              "      <td>...</td>\n",
              "      <td>...</td>\n",
              "      <td>...</td>\n",
              "      <td>...</td>\n",
              "      <td>...</td>\n",
              "      <td>...</td>\n",
              "      <td>...</td>\n",
              "      <td>...</td>\n",
              "      <td>...</td>\n",
              "      <td>...</td>\n",
              "      <td>...</td>\n",
              "      <td>...</td>\n",
              "      <td>...</td>\n",
              "      <td>...</td>\n",
              "      <td>...</td>\n",
              "      <td>...</td>\n",
              "      <td>...</td>\n",
              "      <td>...</td>\n",
              "      <td>...</td>\n",
              "      <td>...</td>\n",
              "      <td>...</td>\n",
              "    </tr>\n",
              "    <tr>\n",
              "      <th>1374</th>\n",
              "      <td>0.0</td>\n",
              "      <td>0.0</td>\n",
              "      <td>0.0</td>\n",
              "      <td>0.0</td>\n",
              "      <td>0.0</td>\n",
              "      <td>0.0</td>\n",
              "      <td>0.0</td>\n",
              "      <td>1.0</td>\n",
              "      <td>0.0</td>\n",
              "      <td>0.0</td>\n",
              "      <td>0.0</td>\n",
              "      <td>0.0</td>\n",
              "      <td>0.0</td>\n",
              "      <td>0.0</td>\n",
              "      <td>0.0</td>\n",
              "      <td>0.0</td>\n",
              "      <td>0.0</td>\n",
              "      <td>0.0</td>\n",
              "      <td>0.0</td>\n",
              "      <td>0.0</td>\n",
              "      <td>0.0</td>\n",
              "      <td>0.0</td>\n",
              "      <td>0.0</td>\n",
              "      <td>0.0</td>\n",
              "    </tr>\n",
              "    <tr>\n",
              "      <th>1375</th>\n",
              "      <td>0.0</td>\n",
              "      <td>0.0</td>\n",
              "      <td>0.0</td>\n",
              "      <td>0.0</td>\n",
              "      <td>0.0</td>\n",
              "      <td>0.0</td>\n",
              "      <td>0.0</td>\n",
              "      <td>0.0</td>\n",
              "      <td>0.0</td>\n",
              "      <td>0.0</td>\n",
              "      <td>0.0</td>\n",
              "      <td>0.0</td>\n",
              "      <td>0.0</td>\n",
              "      <td>1.0</td>\n",
              "      <td>0.0</td>\n",
              "      <td>0.0</td>\n",
              "      <td>0.0</td>\n",
              "      <td>0.0</td>\n",
              "      <td>0.0</td>\n",
              "      <td>0.0</td>\n",
              "      <td>0.0</td>\n",
              "      <td>0.0</td>\n",
              "      <td>0.0</td>\n",
              "      <td>0.0</td>\n",
              "    </tr>\n",
              "    <tr>\n",
              "      <th>1376</th>\n",
              "      <td>0.0</td>\n",
              "      <td>0.0</td>\n",
              "      <td>0.0</td>\n",
              "      <td>0.0</td>\n",
              "      <td>0.0</td>\n",
              "      <td>1.0</td>\n",
              "      <td>0.0</td>\n",
              "      <td>0.0</td>\n",
              "      <td>0.0</td>\n",
              "      <td>0.0</td>\n",
              "      <td>0.0</td>\n",
              "      <td>0.0</td>\n",
              "      <td>0.0</td>\n",
              "      <td>0.0</td>\n",
              "      <td>0.0</td>\n",
              "      <td>0.0</td>\n",
              "      <td>0.0</td>\n",
              "      <td>0.0</td>\n",
              "      <td>0.0</td>\n",
              "      <td>0.0</td>\n",
              "      <td>0.0</td>\n",
              "      <td>0.0</td>\n",
              "      <td>0.0</td>\n",
              "      <td>0.0</td>\n",
              "    </tr>\n",
              "    <tr>\n",
              "      <th>1377</th>\n",
              "      <td>0.0</td>\n",
              "      <td>0.0</td>\n",
              "      <td>0.0</td>\n",
              "      <td>0.0</td>\n",
              "      <td>0.0</td>\n",
              "      <td>0.0</td>\n",
              "      <td>0.0</td>\n",
              "      <td>0.0</td>\n",
              "      <td>0.0</td>\n",
              "      <td>0.0</td>\n",
              "      <td>0.0</td>\n",
              "      <td>1.0</td>\n",
              "      <td>0.0</td>\n",
              "      <td>0.0</td>\n",
              "      <td>0.0</td>\n",
              "      <td>0.0</td>\n",
              "      <td>0.0</td>\n",
              "      <td>0.0</td>\n",
              "      <td>0.0</td>\n",
              "      <td>0.0</td>\n",
              "      <td>0.0</td>\n",
              "      <td>0.0</td>\n",
              "      <td>0.0</td>\n",
              "      <td>0.0</td>\n",
              "    </tr>\n",
              "    <tr>\n",
              "      <th>1378</th>\n",
              "      <td>0.0</td>\n",
              "      <td>0.0</td>\n",
              "      <td>0.0</td>\n",
              "      <td>0.0</td>\n",
              "      <td>0.0</td>\n",
              "      <td>0.0</td>\n",
              "      <td>1.0</td>\n",
              "      <td>0.0</td>\n",
              "      <td>0.0</td>\n",
              "      <td>0.0</td>\n",
              "      <td>0.0</td>\n",
              "      <td>0.0</td>\n",
              "      <td>0.0</td>\n",
              "      <td>0.0</td>\n",
              "      <td>0.0</td>\n",
              "      <td>0.0</td>\n",
              "      <td>0.0</td>\n",
              "      <td>0.0</td>\n",
              "      <td>0.0</td>\n",
              "      <td>0.0</td>\n",
              "      <td>0.0</td>\n",
              "      <td>0.0</td>\n",
              "      <td>0.0</td>\n",
              "      <td>0.0</td>\n",
              "    </tr>\n",
              "  </tbody>\n",
              "</table>\n",
              "<p>1379 rows × 24 columns</p>\n",
              "</div>\n",
              "      <button class=\"colab-df-convert\" onclick=\"convertToInteractive('df-4a4cf234-cd45-4c0b-8450-40ee224c9765')\"\n",
              "              title=\"Convert this dataframe to an interactive table.\"\n",
              "              style=\"display:none;\">\n",
              "        \n",
              "  <svg xmlns=\"http://www.w3.org/2000/svg\" height=\"24px\"viewBox=\"0 0 24 24\"\n",
              "       width=\"24px\">\n",
              "    <path d=\"M0 0h24v24H0V0z\" fill=\"none\"/>\n",
              "    <path d=\"M18.56 5.44l.94 2.06.94-2.06 2.06-.94-2.06-.94-.94-2.06-.94 2.06-2.06.94zm-11 1L8.5 8.5l.94-2.06 2.06-.94-2.06-.94L8.5 2.5l-.94 2.06-2.06.94zm10 10l.94 2.06.94-2.06 2.06-.94-2.06-.94-.94-2.06-.94 2.06-2.06.94z\"/><path d=\"M17.41 7.96l-1.37-1.37c-.4-.4-.92-.59-1.43-.59-.52 0-1.04.2-1.43.59L10.3 9.45l-7.72 7.72c-.78.78-.78 2.05 0 2.83L4 21.41c.39.39.9.59 1.41.59.51 0 1.02-.2 1.41-.59l7.78-7.78 2.81-2.81c.8-.78.8-2.07 0-2.86zM5.41 20L4 18.59l7.72-7.72 1.47 1.35L5.41 20z\"/>\n",
              "  </svg>\n",
              "      </button>\n",
              "      \n",
              "  <style>\n",
              "    .colab-df-container {\n",
              "      display:flex;\n",
              "      flex-wrap:wrap;\n",
              "      gap: 12px;\n",
              "    }\n",
              "\n",
              "    .colab-df-convert {\n",
              "      background-color: #E8F0FE;\n",
              "      border: none;\n",
              "      border-radius: 50%;\n",
              "      cursor: pointer;\n",
              "      display: none;\n",
              "      fill: #1967D2;\n",
              "      height: 32px;\n",
              "      padding: 0 0 0 0;\n",
              "      width: 32px;\n",
              "    }\n",
              "\n",
              "    .colab-df-convert:hover {\n",
              "      background-color: #E2EBFA;\n",
              "      box-shadow: 0px 1px 2px rgba(60, 64, 67, 0.3), 0px 1px 3px 1px rgba(60, 64, 67, 0.15);\n",
              "      fill: #174EA6;\n",
              "    }\n",
              "\n",
              "    [theme=dark] .colab-df-convert {\n",
              "      background-color: #3B4455;\n",
              "      fill: #D2E3FC;\n",
              "    }\n",
              "\n",
              "    [theme=dark] .colab-df-convert:hover {\n",
              "      background-color: #434B5C;\n",
              "      box-shadow: 0px 1px 3px 1px rgba(0, 0, 0, 0.15);\n",
              "      filter: drop-shadow(0px 1px 2px rgba(0, 0, 0, 0.3));\n",
              "      fill: #FFFFFF;\n",
              "    }\n",
              "  </style>\n",
              "\n",
              "      <script>\n",
              "        const buttonEl =\n",
              "          document.querySelector('#df-4a4cf234-cd45-4c0b-8450-40ee224c9765 button.colab-df-convert');\n",
              "        buttonEl.style.display =\n",
              "          google.colab.kernel.accessAllowed ? 'block' : 'none';\n",
              "\n",
              "        async function convertToInteractive(key) {\n",
              "          const element = document.querySelector('#df-4a4cf234-cd45-4c0b-8450-40ee224c9765');\n",
              "          const dataTable =\n",
              "            await google.colab.kernel.invokeFunction('convertToInteractive',\n",
              "                                                     [key], {});\n",
              "          if (!dataTable) return;\n",
              "\n",
              "          const docLinkHtml = 'Like what you see? Visit the ' +\n",
              "            '<a target=\"_blank\" href=https://colab.research.google.com/notebooks/data_table.ipynb>data table notebook</a>'\n",
              "            + ' to learn more about interactive tables.';\n",
              "          element.innerHTML = '';\n",
              "          dataTable['output_type'] = 'display_data';\n",
              "          await google.colab.output.renderOutput(dataTable, element);\n",
              "          const docLink = document.createElement('div');\n",
              "          docLink.innerHTML = docLinkHtml;\n",
              "          element.appendChild(docLink);\n",
              "        }\n",
              "      </script>\n",
              "    </div>\n",
              "  </div>\n",
              "  "
            ],
            "text/plain": [
              "       0    1    2    3    4    5    6   ...   17   18   19   20   21   22   23\n",
              "0     0.0  0.0  0.0  0.0  1.0  0.0  0.0  ...  0.0  0.0  0.0  0.0  0.0  0.0  0.0\n",
              "1     0.0  0.0  0.0  0.0  0.0  0.0  0.0  ...  0.0  0.0  0.0  0.0  0.0  0.0  1.0\n",
              "2     0.0  0.0  0.0  0.0  1.0  0.0  0.0  ...  0.0  0.0  0.0  0.0  0.0  0.0  0.0\n",
              "3     0.0  0.0  0.0  0.0  0.0  1.0  0.0  ...  0.0  0.0  0.0  0.0  0.0  0.0  0.0\n",
              "4     0.0  0.0  0.0  0.0  0.0  0.0  0.0  ...  0.0  0.0  0.0  0.0  0.0  0.0  0.0\n",
              "...   ...  ...  ...  ...  ...  ...  ...  ...  ...  ...  ...  ...  ...  ...  ...\n",
              "1374  0.0  0.0  0.0  0.0  0.0  0.0  0.0  ...  0.0  0.0  0.0  0.0  0.0  0.0  0.0\n",
              "1375  0.0  0.0  0.0  0.0  0.0  0.0  0.0  ...  0.0  0.0  0.0  0.0  0.0  0.0  0.0\n",
              "1376  0.0  0.0  0.0  0.0  0.0  1.0  0.0  ...  0.0  0.0  0.0  0.0  0.0  0.0  0.0\n",
              "1377  0.0  0.0  0.0  0.0  0.0  0.0  0.0  ...  0.0  0.0  0.0  0.0  0.0  0.0  0.0\n",
              "1378  0.0  0.0  0.0  0.0  0.0  0.0  1.0  ...  0.0  0.0  0.0  0.0  0.0  0.0  0.0\n",
              "\n",
              "[1379 rows x 24 columns]"
            ]
          },
          "metadata": {},
          "execution_count": 87
        }
      ]
    },
    {
      "cell_type": "code",
      "source": [
        "cats=ohc.categories_\n",
        "cats"
      ],
      "metadata": {
        "colab": {
          "base_uri": "https://localhost:8080/"
        },
        "id": "3FDa-JoSfxw-",
        "outputId": "c0f309a9-9c8e-4f5d-9e06-6ff3b087490c"
      },
      "execution_count": null,
      "outputs": [
        {
          "output_type": "execute_result",
          "data": {
            "text/plain": [
              "[array(['Blmngtn', 'Blueste', 'BrDale', 'BrkSide', 'ClearCr', 'CollgCr',\n",
              "        'Crawfor', 'Edwards', 'Gilbert', 'IDOTRR', 'MeadowV', 'Mitchel',\n",
              "        'NAmes', 'NPkVill', 'NWAmes', 'NoRidge', 'NridgHt', 'OldTown',\n",
              "        'SWISU', 'Sawyer', 'SawyerW', 'Somerst', 'StoneBr', 'Timber',\n",
              "        'Veenker'], dtype=object)]"
            ]
          },
          "metadata": {},
          "execution_count": 88
        }
      ]
    },
    {
      "cell_type": "markdown",
      "source": [
        "# **Cross Validation**"
      ],
      "metadata": {
        "id": "kqnRC-1OA7Pa"
      }
    },
    {
      "cell_type": "code",
      "source": [
        "import numpy as np\n",
        "import pickle\n",
        "import pandas as pd\n",
        "import matplotlib.pyplot as plt\n",
        "from sklearn.preprocessing import StandardScaler,PolynomialFeatures\n",
        "from sklearn.model_selection import KFold,cross_val_predict\n",
        "from sklearn.linear_model import LinearRegression,Lasso,Ridge\n",
        "from sklearn.metrics import r2_score\n",
        "from sklearn.pipeline import Pipeline"
      ],
      "metadata": {
        "id": "ZgVNYCQLBF6c"
      },
      "execution_count": null,
      "outputs": []
    },
    {
      "cell_type": "markdown",
      "source": [
        "pickle saves python objects its like dictionary"
      ],
      "metadata": {
        "id": "1SOjYDy6CzlC"
      }
    },
    {
      "cell_type": "code",
      "source": [
        "boston=pickle.load(open('/content/bouston_housing_clean.pickle','rb'))"
      ],
      "metadata": {
        "id": "u4V-Vu60DB25"
      },
      "execution_count": null,
      "outputs": []
    },
    {
      "cell_type": "code",
      "source": [
        "boston.keys()"
      ],
      "metadata": {
        "colab": {
          "base_uri": "https://localhost:8080/"
        },
        "id": "oqmdDIEvETbz",
        "outputId": "6c1566f2-00f5-4db4-81f8-5ae4799e63b3"
      },
      "execution_count": null,
      "outputs": [
        {
          "output_type": "execute_result",
          "data": {
            "text/plain": [
              "dict_keys(['dataframe', 'description'])"
            ]
          },
          "metadata": {},
          "execution_count": 3
        }
      ]
    },
    {
      "cell_type": "code",
      "source": [
        "boston_data=boston['dataframe']\n",
        "boston_description=boston['description']"
      ],
      "metadata": {
        "id": "NmVl8XpHEcER"
      },
      "execution_count": null,
      "outputs": []
    },
    {
      "cell_type": "markdown",
      "source": [
        "we pulled out boston_dataframe as for pandas dataframe"
      ],
      "metadata": {
        "id": "I2hWDWRZEy4D"
      }
    },
    {
      "cell_type": "code",
      "source": [
        "boston_data.head()"
      ],
      "metadata": {
        "colab": {
          "base_uri": "https://localhost:8080/",
          "height": 206
        },
        "id": "sUy2gdggEto8",
        "outputId": "13e89e32-892e-4bb8-b2e6-d799507f59cc"
      },
      "execution_count": null,
      "outputs": [
        {
          "output_type": "execute_result",
          "data": {
            "text/html": [
              "\n",
              "  <div id=\"df-59bebf8c-3dd0-409b-8f0b-8c712f12a165\">\n",
              "    <div class=\"colab-df-container\">\n",
              "      <div>\n",
              "<style scoped>\n",
              "    .dataframe tbody tr th:only-of-type {\n",
              "        vertical-align: middle;\n",
              "    }\n",
              "\n",
              "    .dataframe tbody tr th {\n",
              "        vertical-align: top;\n",
              "    }\n",
              "\n",
              "    .dataframe thead th {\n",
              "        text-align: right;\n",
              "    }\n",
              "</style>\n",
              "<table border=\"1\" class=\"dataframe\">\n",
              "  <thead>\n",
              "    <tr style=\"text-align: right;\">\n",
              "      <th></th>\n",
              "      <th>CRIM</th>\n",
              "      <th>ZN</th>\n",
              "      <th>INDUS</th>\n",
              "      <th>CHAS</th>\n",
              "      <th>NOX</th>\n",
              "      <th>RM</th>\n",
              "      <th>AGE</th>\n",
              "      <th>DIS</th>\n",
              "      <th>RAD</th>\n",
              "      <th>TAX</th>\n",
              "      <th>PTRATIO</th>\n",
              "      <th>B</th>\n",
              "      <th>LSTAT</th>\n",
              "      <th>MEDV</th>\n",
              "    </tr>\n",
              "  </thead>\n",
              "  <tbody>\n",
              "    <tr>\n",
              "      <th>0</th>\n",
              "      <td>0.00632</td>\n",
              "      <td>18.0</td>\n",
              "      <td>2.31</td>\n",
              "      <td>0.0</td>\n",
              "      <td>0.538</td>\n",
              "      <td>6.575</td>\n",
              "      <td>65.2</td>\n",
              "      <td>4.0900</td>\n",
              "      <td>1.0</td>\n",
              "      <td>296.0</td>\n",
              "      <td>15.3</td>\n",
              "      <td>396.90</td>\n",
              "      <td>4.98</td>\n",
              "      <td>24.0</td>\n",
              "    </tr>\n",
              "    <tr>\n",
              "      <th>1</th>\n",
              "      <td>0.02731</td>\n",
              "      <td>0.0</td>\n",
              "      <td>7.07</td>\n",
              "      <td>0.0</td>\n",
              "      <td>0.469</td>\n",
              "      <td>6.421</td>\n",
              "      <td>78.9</td>\n",
              "      <td>4.9671</td>\n",
              "      <td>2.0</td>\n",
              "      <td>242.0</td>\n",
              "      <td>17.8</td>\n",
              "      <td>396.90</td>\n",
              "      <td>9.14</td>\n",
              "      <td>21.6</td>\n",
              "    </tr>\n",
              "    <tr>\n",
              "      <th>2</th>\n",
              "      <td>0.02729</td>\n",
              "      <td>0.0</td>\n",
              "      <td>7.07</td>\n",
              "      <td>0.0</td>\n",
              "      <td>0.469</td>\n",
              "      <td>7.185</td>\n",
              "      <td>61.1</td>\n",
              "      <td>4.9671</td>\n",
              "      <td>2.0</td>\n",
              "      <td>242.0</td>\n",
              "      <td>17.8</td>\n",
              "      <td>392.83</td>\n",
              "      <td>4.03</td>\n",
              "      <td>34.7</td>\n",
              "    </tr>\n",
              "    <tr>\n",
              "      <th>3</th>\n",
              "      <td>0.03237</td>\n",
              "      <td>0.0</td>\n",
              "      <td>2.18</td>\n",
              "      <td>0.0</td>\n",
              "      <td>0.458</td>\n",
              "      <td>6.998</td>\n",
              "      <td>45.8</td>\n",
              "      <td>6.0622</td>\n",
              "      <td>3.0</td>\n",
              "      <td>222.0</td>\n",
              "      <td>18.7</td>\n",
              "      <td>394.63</td>\n",
              "      <td>2.94</td>\n",
              "      <td>33.4</td>\n",
              "    </tr>\n",
              "    <tr>\n",
              "      <th>4</th>\n",
              "      <td>0.06905</td>\n",
              "      <td>0.0</td>\n",
              "      <td>2.18</td>\n",
              "      <td>0.0</td>\n",
              "      <td>0.458</td>\n",
              "      <td>7.147</td>\n",
              "      <td>54.2</td>\n",
              "      <td>6.0622</td>\n",
              "      <td>3.0</td>\n",
              "      <td>222.0</td>\n",
              "      <td>18.7</td>\n",
              "      <td>396.90</td>\n",
              "      <td>5.33</td>\n",
              "      <td>36.2</td>\n",
              "    </tr>\n",
              "  </tbody>\n",
              "</table>\n",
              "</div>\n",
              "      <button class=\"colab-df-convert\" onclick=\"convertToInteractive('df-59bebf8c-3dd0-409b-8f0b-8c712f12a165')\"\n",
              "              title=\"Convert this dataframe to an interactive table.\"\n",
              "              style=\"display:none;\">\n",
              "        \n",
              "  <svg xmlns=\"http://www.w3.org/2000/svg\" height=\"24px\"viewBox=\"0 0 24 24\"\n",
              "       width=\"24px\">\n",
              "    <path d=\"M0 0h24v24H0V0z\" fill=\"none\"/>\n",
              "    <path d=\"M18.56 5.44l.94 2.06.94-2.06 2.06-.94-2.06-.94-.94-2.06-.94 2.06-2.06.94zm-11 1L8.5 8.5l.94-2.06 2.06-.94-2.06-.94L8.5 2.5l-.94 2.06-2.06.94zm10 10l.94 2.06.94-2.06 2.06-.94-2.06-.94-.94-2.06-.94 2.06-2.06.94z\"/><path d=\"M17.41 7.96l-1.37-1.37c-.4-.4-.92-.59-1.43-.59-.52 0-1.04.2-1.43.59L10.3 9.45l-7.72 7.72c-.78.78-.78 2.05 0 2.83L4 21.41c.39.39.9.59 1.41.59.51 0 1.02-.2 1.41-.59l7.78-7.78 2.81-2.81c.8-.78.8-2.07 0-2.86zM5.41 20L4 18.59l7.72-7.72 1.47 1.35L5.41 20z\"/>\n",
              "  </svg>\n",
              "      </button>\n",
              "      \n",
              "  <style>\n",
              "    .colab-df-container {\n",
              "      display:flex;\n",
              "      flex-wrap:wrap;\n",
              "      gap: 12px;\n",
              "    }\n",
              "\n",
              "    .colab-df-convert {\n",
              "      background-color: #E8F0FE;\n",
              "      border: none;\n",
              "      border-radius: 50%;\n",
              "      cursor: pointer;\n",
              "      display: none;\n",
              "      fill: #1967D2;\n",
              "      height: 32px;\n",
              "      padding: 0 0 0 0;\n",
              "      width: 32px;\n",
              "    }\n",
              "\n",
              "    .colab-df-convert:hover {\n",
              "      background-color: #E2EBFA;\n",
              "      box-shadow: 0px 1px 2px rgba(60, 64, 67, 0.3), 0px 1px 3px 1px rgba(60, 64, 67, 0.15);\n",
              "      fill: #174EA6;\n",
              "    }\n",
              "\n",
              "    [theme=dark] .colab-df-convert {\n",
              "      background-color: #3B4455;\n",
              "      fill: #D2E3FC;\n",
              "    }\n",
              "\n",
              "    [theme=dark] .colab-df-convert:hover {\n",
              "      background-color: #434B5C;\n",
              "      box-shadow: 0px 1px 3px 1px rgba(0, 0, 0, 0.15);\n",
              "      filter: drop-shadow(0px 1px 2px rgba(0, 0, 0, 0.3));\n",
              "      fill: #FFFFFF;\n",
              "    }\n",
              "  </style>\n",
              "\n",
              "      <script>\n",
              "        const buttonEl =\n",
              "          document.querySelector('#df-59bebf8c-3dd0-409b-8f0b-8c712f12a165 button.colab-df-convert');\n",
              "        buttonEl.style.display =\n",
              "          google.colab.kernel.accessAllowed ? 'block' : 'none';\n",
              "\n",
              "        async function convertToInteractive(key) {\n",
              "          const element = document.querySelector('#df-59bebf8c-3dd0-409b-8f0b-8c712f12a165');\n",
              "          const dataTable =\n",
              "            await google.colab.kernel.invokeFunction('convertToInteractive',\n",
              "                                                     [key], {});\n",
              "          if (!dataTable) return;\n",
              "\n",
              "          const docLinkHtml = 'Like what you see? Visit the ' +\n",
              "            '<a target=\"_blank\" href=https://colab.research.google.com/notebooks/data_table.ipynb>data table notebook</a>'\n",
              "            + ' to learn more about interactive tables.';\n",
              "          element.innerHTML = '';\n",
              "          dataTable['output_type'] = 'display_data';\n",
              "          await google.colab.output.renderOutput(dataTable, element);\n",
              "          const docLink = document.createElement('div');\n",
              "          docLink.innerHTML = docLinkHtml;\n",
              "          element.appendChild(docLink);\n",
              "        }\n",
              "      </script>\n",
              "    </div>\n",
              "  </div>\n",
              "  "
            ],
            "text/plain": [
              "      CRIM    ZN  INDUS  CHAS    NOX  ...    TAX  PTRATIO       B  LSTAT  MEDV\n",
              "0  0.00632  18.0   2.31   0.0  0.538  ...  296.0     15.3  396.90   4.98  24.0\n",
              "1  0.02731   0.0   7.07   0.0  0.469  ...  242.0     17.8  396.90   9.14  21.6\n",
              "2  0.02729   0.0   7.07   0.0  0.469  ...  242.0     17.8  392.83   4.03  34.7\n",
              "3  0.03237   0.0   2.18   0.0  0.458  ...  222.0     18.7  394.63   2.94  33.4\n",
              "4  0.06905   0.0   2.18   0.0  0.458  ...  222.0     18.7  396.90   5.33  36.2\n",
              "\n",
              "[5 rows x 14 columns]"
            ]
          },
          "metadata": {},
          "execution_count": 5
        }
      ]
    },
    {
      "cell_type": "markdown",
      "source": [
        "our goal is going to be, how can we predict feature values when we only have the data available to us in this dataset? So what we're going to want to do is use KFolds and separate out into three different folds, three different train and test sets, and we want to think about how are we going to do this in Python code. "
      ],
      "metadata": {
        "id": "AfAJzUmvFMdS"
      }
    },
    {
      "cell_type": "markdown",
      "source": [
        "So x is just going to be equal to boston_data, and we're doing.drop just to remove the outcome variable, and then y is just going to be equal to the outcome variable"
      ],
      "metadata": {
        "id": "Q_gcvyYSF8Sj"
      }
    },
    {
      "cell_type": "code",
      "source": [
        "x=boston_data.drop('MEDV',axis=1)\n",
        "y=boston_data.MEDV"
      ],
      "metadata": {
        "id": "B1bWH-9iFgG1"
      },
      "execution_count": null,
      "outputs": []
    },
    {
      "cell_type": "code",
      "source": [
        "kf=KFold(shuffle=True,random_state=72011,n_splits=3)"
      ],
      "metadata": {
        "id": "t6IFokCrGDd6"
      },
      "execution_count": null,
      "outputs": []
    },
    {
      "cell_type": "markdown",
      "source": [
        "We're going to have three folds, meaning three training sets and three test sets, where none of the test sets are going to overlap. If you recall from lecture, the training sets can overlap, but the test sets have to be exclusive so that we are looking at different test sets every single time."
      ],
      "metadata": {
        "id": "RrNS3Ei2Gk2T"
      }
    },
    {
      "cell_type": "code",
      "source": [
        "kf.split(x)"
      ],
      "metadata": {
        "colab": {
          "base_uri": "https://localhost:8080/"
        },
        "id": "-Oemz8uxGuoE",
        "outputId": "305feec4-24dc-4dc4-b005-4f76fb0c2b32"
      },
      "execution_count": null,
      "outputs": [
        {
          "output_type": "execute_result",
          "data": {
            "text/plain": [
              "<generator object _BaseKFold.split at 0x7fb0c6b1cb50>"
            ]
          },
          "metadata": {},
          "execution_count": 8
        }
      ]
    },
    {
      "cell_type": "markdown",
      "source": [
        "That's going to give us a generator object. That generator object you can think of as a list. A list where each value in that list is a tuple. That tuple is going to be first, all the indices that we want to set to our train index, and the second part of that tuple is going to be the test index. So it's going to be three tuples,"
      ],
      "metadata": {
        "id": "-_F-yrHpHLoD"
      }
    },
    {
      "cell_type": "code",
      "source": [
        "x.shape"
      ],
      "metadata": {
        "colab": {
          "base_uri": "https://localhost:8080/"
        },
        "id": "FERoCZQaH0Zx",
        "outputId": "f811f964-8506-457f-c8d7-16370352d34f"
      },
      "execution_count": null,
      "outputs": [
        {
          "output_type": "execute_result",
          "data": {
            "text/plain": [
              "(506, 13)"
            ]
          },
          "metadata": {},
          "execution_count": 9
        }
      ]
    },
    {
      "cell_type": "markdown",
      "source": [
        "We have our train index, that's just going to be a list of numbers, and that list of numbers is going to be somewhere between, let's just look at x.shape, it's going to be within 506. So values between zero and 505,"
      ],
      "metadata": {
        "id": "_Zw35NE0IJFG"
      }
    },
    {
      "cell_type": "code",
      "source": [
        "x.tail()"
      ],
      "metadata": {
        "colab": {
          "base_uri": "https://localhost:8080/",
          "height": 206
        },
        "id": "Dy5AKl1WIQHZ",
        "outputId": "f2e63191-03be-456c-e069-c716758462cc"
      },
      "execution_count": null,
      "outputs": [
        {
          "output_type": "execute_result",
          "data": {
            "text/html": [
              "\n",
              "  <div id=\"df-7960d057-bd5a-4d85-a173-e1c50783b18f\">\n",
              "    <div class=\"colab-df-container\">\n",
              "      <div>\n",
              "<style scoped>\n",
              "    .dataframe tbody tr th:only-of-type {\n",
              "        vertical-align: middle;\n",
              "    }\n",
              "\n",
              "    .dataframe tbody tr th {\n",
              "        vertical-align: top;\n",
              "    }\n",
              "\n",
              "    .dataframe thead th {\n",
              "        text-align: right;\n",
              "    }\n",
              "</style>\n",
              "<table border=\"1\" class=\"dataframe\">\n",
              "  <thead>\n",
              "    <tr style=\"text-align: right;\">\n",
              "      <th></th>\n",
              "      <th>CRIM</th>\n",
              "      <th>ZN</th>\n",
              "      <th>INDUS</th>\n",
              "      <th>CHAS</th>\n",
              "      <th>NOX</th>\n",
              "      <th>RM</th>\n",
              "      <th>AGE</th>\n",
              "      <th>DIS</th>\n",
              "      <th>RAD</th>\n",
              "      <th>TAX</th>\n",
              "      <th>PTRATIO</th>\n",
              "      <th>B</th>\n",
              "      <th>LSTAT</th>\n",
              "    </tr>\n",
              "  </thead>\n",
              "  <tbody>\n",
              "    <tr>\n",
              "      <th>501</th>\n",
              "      <td>0.06263</td>\n",
              "      <td>0.0</td>\n",
              "      <td>11.93</td>\n",
              "      <td>0.0</td>\n",
              "      <td>0.573</td>\n",
              "      <td>6.593</td>\n",
              "      <td>69.1</td>\n",
              "      <td>2.4786</td>\n",
              "      <td>1.0</td>\n",
              "      <td>273.0</td>\n",
              "      <td>21.0</td>\n",
              "      <td>391.99</td>\n",
              "      <td>9.67</td>\n",
              "    </tr>\n",
              "    <tr>\n",
              "      <th>502</th>\n",
              "      <td>0.04527</td>\n",
              "      <td>0.0</td>\n",
              "      <td>11.93</td>\n",
              "      <td>0.0</td>\n",
              "      <td>0.573</td>\n",
              "      <td>6.120</td>\n",
              "      <td>76.7</td>\n",
              "      <td>2.2875</td>\n",
              "      <td>1.0</td>\n",
              "      <td>273.0</td>\n",
              "      <td>21.0</td>\n",
              "      <td>396.90</td>\n",
              "      <td>9.08</td>\n",
              "    </tr>\n",
              "    <tr>\n",
              "      <th>503</th>\n",
              "      <td>0.06076</td>\n",
              "      <td>0.0</td>\n",
              "      <td>11.93</td>\n",
              "      <td>0.0</td>\n",
              "      <td>0.573</td>\n",
              "      <td>6.976</td>\n",
              "      <td>91.0</td>\n",
              "      <td>2.1675</td>\n",
              "      <td>1.0</td>\n",
              "      <td>273.0</td>\n",
              "      <td>21.0</td>\n",
              "      <td>396.90</td>\n",
              "      <td>5.64</td>\n",
              "    </tr>\n",
              "    <tr>\n",
              "      <th>504</th>\n",
              "      <td>0.10959</td>\n",
              "      <td>0.0</td>\n",
              "      <td>11.93</td>\n",
              "      <td>0.0</td>\n",
              "      <td>0.573</td>\n",
              "      <td>6.794</td>\n",
              "      <td>89.3</td>\n",
              "      <td>2.3889</td>\n",
              "      <td>1.0</td>\n",
              "      <td>273.0</td>\n",
              "      <td>21.0</td>\n",
              "      <td>393.45</td>\n",
              "      <td>6.48</td>\n",
              "    </tr>\n",
              "    <tr>\n",
              "      <th>505</th>\n",
              "      <td>0.04741</td>\n",
              "      <td>0.0</td>\n",
              "      <td>11.93</td>\n",
              "      <td>0.0</td>\n",
              "      <td>0.573</td>\n",
              "      <td>6.030</td>\n",
              "      <td>80.8</td>\n",
              "      <td>2.5050</td>\n",
              "      <td>1.0</td>\n",
              "      <td>273.0</td>\n",
              "      <td>21.0</td>\n",
              "      <td>396.90</td>\n",
              "      <td>7.88</td>\n",
              "    </tr>\n",
              "  </tbody>\n",
              "</table>\n",
              "</div>\n",
              "      <button class=\"colab-df-convert\" onclick=\"convertToInteractive('df-7960d057-bd5a-4d85-a173-e1c50783b18f')\"\n",
              "              title=\"Convert this dataframe to an interactive table.\"\n",
              "              style=\"display:none;\">\n",
              "        \n",
              "  <svg xmlns=\"http://www.w3.org/2000/svg\" height=\"24px\"viewBox=\"0 0 24 24\"\n",
              "       width=\"24px\">\n",
              "    <path d=\"M0 0h24v24H0V0z\" fill=\"none\"/>\n",
              "    <path d=\"M18.56 5.44l.94 2.06.94-2.06 2.06-.94-2.06-.94-.94-2.06-.94 2.06-2.06.94zm-11 1L8.5 8.5l.94-2.06 2.06-.94-2.06-.94L8.5 2.5l-.94 2.06-2.06.94zm10 10l.94 2.06.94-2.06 2.06-.94-2.06-.94-.94-2.06-.94 2.06-2.06.94z\"/><path d=\"M17.41 7.96l-1.37-1.37c-.4-.4-.92-.59-1.43-.59-.52 0-1.04.2-1.43.59L10.3 9.45l-7.72 7.72c-.78.78-.78 2.05 0 2.83L4 21.41c.39.39.9.59 1.41.59.51 0 1.02-.2 1.41-.59l7.78-7.78 2.81-2.81c.8-.78.8-2.07 0-2.86zM5.41 20L4 18.59l7.72-7.72 1.47 1.35L5.41 20z\"/>\n",
              "  </svg>\n",
              "      </button>\n",
              "      \n",
              "  <style>\n",
              "    .colab-df-container {\n",
              "      display:flex;\n",
              "      flex-wrap:wrap;\n",
              "      gap: 12px;\n",
              "    }\n",
              "\n",
              "    .colab-df-convert {\n",
              "      background-color: #E8F0FE;\n",
              "      border: none;\n",
              "      border-radius: 50%;\n",
              "      cursor: pointer;\n",
              "      display: none;\n",
              "      fill: #1967D2;\n",
              "      height: 32px;\n",
              "      padding: 0 0 0 0;\n",
              "      width: 32px;\n",
              "    }\n",
              "\n",
              "    .colab-df-convert:hover {\n",
              "      background-color: #E2EBFA;\n",
              "      box-shadow: 0px 1px 2px rgba(60, 64, 67, 0.3), 0px 1px 3px 1px rgba(60, 64, 67, 0.15);\n",
              "      fill: #174EA6;\n",
              "    }\n",
              "\n",
              "    [theme=dark] .colab-df-convert {\n",
              "      background-color: #3B4455;\n",
              "      fill: #D2E3FC;\n",
              "    }\n",
              "\n",
              "    [theme=dark] .colab-df-convert:hover {\n",
              "      background-color: #434B5C;\n",
              "      box-shadow: 0px 1px 3px 1px rgba(0, 0, 0, 0.15);\n",
              "      filter: drop-shadow(0px 1px 2px rgba(0, 0, 0, 0.3));\n",
              "      fill: #FFFFFF;\n",
              "    }\n",
              "  </style>\n",
              "\n",
              "      <script>\n",
              "        const buttonEl =\n",
              "          document.querySelector('#df-7960d057-bd5a-4d85-a173-e1c50783b18f button.colab-df-convert');\n",
              "        buttonEl.style.display =\n",
              "          google.colab.kernel.accessAllowed ? 'block' : 'none';\n",
              "\n",
              "        async function convertToInteractive(key) {\n",
              "          const element = document.querySelector('#df-7960d057-bd5a-4d85-a173-e1c50783b18f');\n",
              "          const dataTable =\n",
              "            await google.colab.kernel.invokeFunction('convertToInteractive',\n",
              "                                                     [key], {});\n",
              "          if (!dataTable) return;\n",
              "\n",
              "          const docLinkHtml = 'Like what you see? Visit the ' +\n",
              "            '<a target=\"_blank\" href=https://colab.research.google.com/notebooks/data_table.ipynb>data table notebook</a>'\n",
              "            + ' to learn more about interactive tables.';\n",
              "          element.innerHTML = '';\n",
              "          dataTable['output_type'] = 'display_data';\n",
              "          await google.colab.output.renderOutput(dataTable, element);\n",
              "          const docLink = document.createElement('div');\n",
              "          docLink.innerHTML = docLinkHtml;\n",
              "          element.appendChild(docLink);\n",
              "        }\n",
              "      </script>\n",
              "    </div>\n",
              "  </div>\n",
              "  "
            ],
            "text/plain": [
              "        CRIM   ZN  INDUS  CHAS    NOX  ...  RAD    TAX  PTRATIO       B  LSTAT\n",
              "501  0.06263  0.0  11.93   0.0  0.573  ...  1.0  273.0     21.0  391.99   9.67\n",
              "502  0.04527  0.0  11.93   0.0  0.573  ...  1.0  273.0     21.0  396.90   9.08\n",
              "503  0.06076  0.0  11.93   0.0  0.573  ...  1.0  273.0     21.0  396.90   5.64\n",
              "504  0.10959  0.0  11.93   0.0  0.573  ...  1.0  273.0     21.0  393.45   6.48\n",
              "505  0.04741  0.0  11.93   0.0  0.573  ...  1.0  273.0     21.0  396.90   7.88\n",
              "\n",
              "[5 rows x 13 columns]"
            ]
          },
          "metadata": {},
          "execution_count": 10
        }
      ]
    },
    {
      "cell_type": "code",
      "source": [
        "for train_index,test_index in kf.split(x):\n",
        "    print(\"Train_index\",train_index[:10],len(train_index))\n",
        "    print(\"Test_index\",test_index[:10],len(test_index))"
      ],
      "metadata": {
        "colab": {
          "base_uri": "https://localhost:8080/"
        },
        "id": "jp-ZWn11HOti",
        "outputId": "55fc1765-8c6a-485a-c39f-7ffcef064f27"
      },
      "execution_count": null,
      "outputs": [
        {
          "output_type": "stream",
          "name": "stdout",
          "text": [
            "Train_index [ 1  2  5 10 14 15 16 19 22 23] 337\n",
            "Test_index [ 0  3  4  6  7  8  9 11 12 13] 169\n",
            "Train_index [ 0  3  4  5  6  7  8  9 10 11] 337\n",
            "Test_index [ 1  2 15 16 22 23 25 26 27 33] 169\n",
            "Train_index [ 0  1  2  3  4  6  7  8  9 11] 338\n",
            "Test_index [ 5 10 14 19 24 35 37 41 45 48] 168\n"
          ]
        }
      ]
    },
    {
      "cell_type": "markdown",
      "source": [
        "Remember, the train indices can overlap, and you should see some overlap. Here, you see the two and the two, two and two, and there should be some overlap, but the tests indices will not have any overlap. These are each going to be unique and these are going to be different holdout sets"
      ],
      "metadata": {
        "id": "dA77zHqFIiD1"
      }
    },
    {
      "cell_type": "markdown",
      "source": [
        "We're going to set our x_train, x_test, y_train, and y_test to the following outputs. It's going to be x, so our original x with all of our rows, but we're only going to take the rows for our first train index, and we're obviously going to take all of our columns from x. We're then going to set to x_test all of our test indices. So now we've set the x_train and the x_test. Then y_train is just going to be y and it's going to be the matching train index to our x_train that we specified first, and then we're going to set our y towards the test index to match up with the x_test index"
      ],
      "metadata": {
        "id": "NEN4x0jqLlax"
      }
    },
    {
      "cell_type": "code",
      "source": [
        "scores=[]\n",
        "lr=LinearRegression()\n",
        "for train_index,test_index in kf.split(x):\n",
        "    x_train,x_test,y_train,y_test=(x.iloc[train_index,:],x.iloc[test_index,:],y[train_index],y[test_index])\n",
        "    lr.fit(x_train,y_train)\n",
        "    y_pred=lr.predict(x_test)\n",
        "    score=r2_score(y_test.values,y_pred)\n",
        "    scores.append(score)\n",
        "scores\n"
      ],
      "metadata": {
        "colab": {
          "base_uri": "https://localhost:8080/"
        },
        "id": "TXEx-FO3IsZu",
        "outputId": "1cb57252-e2e0-4ec4-8cb5-37601b81f8eb"
      },
      "execution_count": null,
      "outputs": [
        {
          "output_type": "execute_result",
          "data": {
            "text/plain": [
              "[0.7490635794803917, 0.7067454648932306, 0.6858880335748618]"
            ]
          },
          "metadata": {},
          "execution_count": 12
        }
      ]
    },
    {
      "cell_type": "code",
      "source": [
        "scores=[]\n",
        "lr=LinearRegression()\n",
        "s=StandardScaler()\n",
        "for train_index,test_index in kf.split(x):\n",
        "    x_train,x_test,y_train,y_test=(x.iloc[train_index,:],x.iloc[test_index,:],y[train_index],y[test_index])\n",
        "    x_train_s=s.fit_transform(x_train)\n",
        "    lr.fit(x_train_s,y_train)\n",
        "    x_test_s=s.transform(x_test)\n",
        "    y_pred=lr.predict(x_test_s)\n",
        "    score=r2_score(y_test.values,y_pred)\n",
        "    scores.append(score)\n",
        "scores"
      ],
      "metadata": {
        "colab": {
          "base_uri": "https://localhost:8080/"
        },
        "id": "kL4qBTTCQUtD",
        "outputId": "e7718920-8ad5-4bdf-a769-1eac7926bb23"
      },
      "execution_count": null,
      "outputs": [
        {
          "output_type": "execute_result",
          "data": {
            "text/plain": [
              "[0.749063579480393, 0.7067454648932313, 0.685888033574861]"
            ]
          },
          "metadata": {},
          "execution_count": 13
        }
      ]
    },
    {
      "cell_type": "markdown",
      "source": [
        "we see here that our scores are exactly the same and that's because for vanilla linear regression, without any regularization, and that's going to be a term we'll introduce later on, but the idea there being that there's lasso and ridge, which we talked about, which will allow you to prevent overfitting. Those will need you to scale your data for regular linear regression. Scaling won't actually affect performance"
      ],
      "metadata": {
        "id": "y6SPQ_-DRrsf"
      }
    },
    {
      "cell_type": "markdown",
      "source": [
        "Pipelines are going to allow you to chain together multiple operators on your data as long as they each have a fit method. They all have to have a fit method, and then on top of that, every step leading up to the last step has to have a fit and transform so that the output of one can be the input of the next step. So you can chain together more than two steps. You can chain together 10 steps as long as each one of those steps has fit transform, and the last step has fit"
      ],
      "metadata": {
        "id": "HvkcLfHrSe08"
      }
    },
    {
      "cell_type": "code",
      "source": [
        "lr=LinearRegression()\n",
        "s=StandardScaler()\n"
      ],
      "metadata": {
        "id": "EjfmJzMjSt7F"
      },
      "execution_count": null,
      "outputs": []
    },
    {
      "cell_type": "code",
      "source": [
        "estimator=Pipeline([('scaler',s),('regression',lr)])"
      ],
      "metadata": {
        "id": "ta9JfaOkS0uU"
      },
      "execution_count": null,
      "outputs": []
    },
    {
      "cell_type": "markdown",
      "source": [
        "Our pipeline's going to have two steps. First, it will scale our data, then it will pass that through to a linear regression."
      ],
      "metadata": {
        "id": "RzjAUnzcT4r8"
      }
    },
    {
      "cell_type": "code",
      "source": [
        "estimator.fit(x_train,y_train)"
      ],
      "metadata": {
        "colab": {
          "base_uri": "https://localhost:8080/"
        },
        "id": "2ztZBIozTmwz",
        "outputId": "fe37d84d-8e84-4c22-ec19-06300a9aa526"
      },
      "execution_count": null,
      "outputs": [
        {
          "output_type": "execute_result",
          "data": {
            "text/plain": [
              "Pipeline(steps=[('scaler', StandardScaler()),\n",
              "                ('regression', LinearRegression())])"
            ]
          },
          "metadata": {},
          "execution_count": 16
        }
      ]
    },
    {
      "cell_type": "code",
      "source": [
        "estimator.predict(x_test)"
      ],
      "metadata": {
        "colab": {
          "base_uri": "https://localhost:8080/"
        },
        "id": "5Qyyq7m6T9y2",
        "outputId": "d453799d-b704-41b2-f95e-9a5ab1604eb7"
      },
      "execution_count": null,
      "outputs": [
        {
          "output_type": "execute_result",
          "data": {
            "text/plain": [
              "array([25.33172158, 19.75515371, 19.42043739, 18.08582615, 15.95332724,\n",
              "       23.16407849, 22.47358509, 28.44943984, 21.6586703 ,  9.7542986 ,\n",
              "       21.4080268 , 24.00702143, 27.81817133, 25.23935958, 33.11485333,\n",
              "       29.93236676, 21.93809229, 24.56712805, 24.36649537, 23.32351705,\n",
              "       23.49548334, 22.00921077, 30.70794209, 30.94728631, 28.70875562,\n",
              "       35.84501085, 24.85921837, 18.2607698 , 20.60875609, 22.77182025,\n",
              "       23.06442042, 21.9071854 , 20.81483047, 20.70092127, 15.05943591,\n",
              "       20.64108775, 19.9201418 , 20.58033668, 13.87019995, 14.26945224,\n",
              "        7.70096275, 14.25703118, 17.13328955, 18.34159388, 16.74629259,\n",
              "       20.20255956, 33.14178128, 28.21296185, 42.78678244, 28.37306475,\n",
              "       25.37176186, 24.84739465, 31.09653538, 33.67779337, 24.27738674,\n",
              "       32.99330445, 32.19228019, 31.46015316, 36.448578  , 33.18537893,\n",
              "       35.16873405, 37.60183857, 23.87048578, 17.95991148, 16.67417416,\n",
              "       16.7902173 , 22.39614967, 25.28912123, 11.47183892, 24.38912462,\n",
              "       28.3678891 , 29.29490143, 32.89415076, 23.47301141, 39.17709839,\n",
              "       38.19815227, 35.86799758, 30.59685679, 28.56007518, 27.93262391,\n",
              "       24.46871819, 16.54604284, 24.68752621, 21.93768537, 43.75624137,\n",
              "       36.7448208 , 41.32930189, 35.12525847, 30.78670921, 38.83021447,\n",
              "       21.98607267, 36.25494445, 35.56464296, 39.24735602, 26.93839561,\n",
              "       34.55186961, 24.4870122 , 31.11705113, 32.91036071, 33.23634277,\n",
              "       28.45409424, 17.26327596, 22.82621672, 25.20492417, 17.73035127,\n",
              "       18.22863904, 24.26109022, 24.92648675, 19.14829145, 21.72283785,\n",
              "       20.5876173 , 19.18075616, 21.12462891, 31.08836091, 21.77833549,\n",
              "       26.44496928, 19.24784291, 18.63104762, 18.60751993, 10.96694342,\n",
              "       14.01061162,  8.81846463, 24.15792145, 24.68352381, -0.24982524,\n",
              "       25.83173138, 18.24734069, 20.60252032,  2.38775933, 17.3460482 ,\n",
              "       19.21468358, 15.71012811, 12.0866672 , 13.52044662, 18.20204882,\n",
              "       15.0013055 , 16.03354385, 14.12231093, 10.79435278, 16.6516478 ,\n",
              "       14.93176553, 14.91499221, 14.13305834, 21.94921001, 17.6462208 ,\n",
              "       14.54872287, 12.50748481, 17.37273578, 18.15026493, 11.68177967,\n",
              "       18.45557336, 23.41587056, 16.62193976, 16.76047536, 17.4109902 ,\n",
              "       19.6023606 , 19.56128709, 20.06733454, 14.92359479, 16.95139121,\n",
              "       20.0523566 , 19.10434038, 23.24712314, 20.7572985 , 13.55906642,\n",
              "       20.85720714, 26.37842031, 21.99859254])"
            ]
          },
          "metadata": {},
          "execution_count": 17
        }
      ]
    },
    {
      "cell_type": "markdown",
      "source": [
        "Now, rather than doing that for-loop, if we want to get the prediction for each one of our holdout sets in our K-folds, we can use this function called cross val predict."
      ],
      "metadata": {
        "id": "NNdzIsoZUREj"
      }
    },
    {
      "cell_type": "code",
      "source": [
        "kf"
      ],
      "metadata": {
        "colab": {
          "base_uri": "https://localhost:8080/"
        },
        "id": "DWKf3YkBUUsr",
        "outputId": "fe23522d-8c6f-467c-c847-bd24e4a30b8f"
      },
      "execution_count": null,
      "outputs": [
        {
          "output_type": "execute_result",
          "data": {
            "text/plain": [
              "KFold(n_splits=3, random_state=72011, shuffle=True)"
            ]
          },
          "metadata": {},
          "execution_count": 18
        }
      ]
    },
    {
      "cell_type": "markdown",
      "source": [
        "We're going to pass in that K-folds object here into our cross val predict, which is why we reintroduced it. We're going to say, I want to form my estimator, and that's the pipeline that we created above. For my initial values of x, so no splits, the cross val predict will do the splitting for you. For my initial y, I want to pass in how many folds? So you can say I want the K-folds object that we specified here, which will ensure that you're not just passing in three splits, but also that it's a shuffle, it'll be a specific type of split. You could also just pass into here for your CV, the number 3, and that will create three splits, but they may not be shuffled. This allows you to specify exactly how you want it to split."
      ],
      "metadata": {
        "id": "nPEcbc77VLrM"
      }
    },
    {
      "cell_type": "code",
      "source": [
        "predictions=cross_val_predict(estimator,x,y,cv=kf)"
      ],
      "metadata": {
        "id": "9xy7kEYdUXZT"
      },
      "execution_count": null,
      "outputs": []
    },
    {
      "cell_type": "code",
      "source": [
        "len(predictions)"
      ],
      "metadata": {
        "colab": {
          "base_uri": "https://localhost:8080/"
        },
        "id": "zxw6sequUhE_",
        "outputId": "06e69515-61e0-4db5-88da-e16cdb9d075b"
      },
      "execution_count": null,
      "outputs": [
        {
          "output_type": "execute_result",
          "data": {
            "text/plain": [
              "506"
            ]
          },
          "metadata": {},
          "execution_count": 20
        }
      ]
    },
    {
      "cell_type": "code",
      "source": [
        "r2_score(y,predictions)"
      ],
      "metadata": {
        "colab": {
          "base_uri": "https://localhost:8080/"
        },
        "id": "6dDezOoRUk1w",
        "outputId": "5ea84ab0-b5a5-47d3-e297-bda08544e15d"
      },
      "execution_count": null,
      "outputs": [
        {
          "output_type": "execute_result",
          "data": {
            "text/plain": [
              "0.7170401442366913"
            ]
          },
          "metadata": {},
          "execution_count": 21
        }
      ]
    },
    {
      "cell_type": "code",
      "source": [
        "np.mean(scores)"
      ],
      "metadata": {
        "colab": {
          "base_uri": "https://localhost:8080/"
        },
        "id": "57WZ-FssUso6",
        "outputId": "d6b52a42-5a17-4377-d780-16c27ff97857"
      },
      "execution_count": null,
      "outputs": [
        {
          "output_type": "execute_result",
          "data": {
            "text/plain": [
              "0.7138990259828284"
            ]
          },
          "metadata": {},
          "execution_count": 22
        }
      ]
    },
    {
      "cell_type": "markdown",
      "source": [
        "What's important to note is that the cross val predicts did not actually fit the model at any step along the way. It's going to give you all the outputs, but it essentially came up with three different models; one trained on the first two-thirds, one trained on the next two-thirds, and so on.\n",
        "\n",
        "Well, actually, we've refit our estimator, but otherwise, I wouldn't be able to run estimator.predict.\n",
        "\n",
        "We can't here because I fit it backup here. But otherwise, after you run cross val predict, just be aware that the estimator had never been fitted"
      ],
      "metadata": {
        "id": "sh8REKRtVmgm"
      }
    },
    {
      "cell_type": "markdown",
      "source": [
        "**Hyper parameter tuning**"
      ],
      "metadata": {
        "id": "Z075pM4qlOc6"
      }
    },
    {
      "cell_type": "markdown",
      "source": [
        "numpy.geomspace\n",
        "\n",
        "numpy.geomspace(start, stop, num=50, endpoint=True, dtype=None, axis=0)\n",
        "\n",
        "Return numbers spaced evenly on a log scale (a geometric progression).\n",
        "\n",
        "\n",
        "This is similar to logspace, but with endpoints specified directly. Each output sample is a constant multiple of the previous."
      ],
      "metadata": {
        "id": "Ts6j2b_LmVCA"
      }
    },
    {
      "cell_type": "code",
      "source": [
        "np.geomspace(1,27,4)"
      ],
      "metadata": {
        "colab": {
          "base_uri": "https://localhost:8080/"
        },
        "id": "RX50GekVlV0J",
        "outputId": "0122baba-962f-4db5-fac2-a1e1cbf93830"
      },
      "execution_count": null,
      "outputs": [
        {
          "output_type": "execute_result",
          "data": {
            "text/plain": [
              "array([ 1.,  3.,  9., 27.])"
            ]
          },
          "metadata": {},
          "execution_count": 23
        }
      ]
    },
    {
      "cell_type": "code",
      "source": [
        "np.geomspace(10,99,4)"
      ],
      "metadata": {
        "colab": {
          "base_uri": "https://localhost:8080/"
        },
        "id": "g5eQnpBInbkA",
        "outputId": "c1acb2ea-aba0-48b3-a5a6-d9bca21e2198"
      },
      "execution_count": null,
      "outputs": [
        {
          "output_type": "execute_result",
          "data": {
            "text/plain": [
              "array([10.        , 21.47229169, 46.10593104, 99.        ])"
            ]
          },
          "metadata": {},
          "execution_count": 23
        }
      ]
    },
    {
      "cell_type": "code",
      "source": [
        "import numpy as np\n",
        "np.geomspace(1e-09,1,10)"
      ],
      "metadata": {
        "colab": {
          "base_uri": "https://localhost:8080/"
        },
        "id": "_SswmBBAoK90",
        "outputId": "55304501-08c8-490a-e096-6a23bb131eeb"
      },
      "execution_count": null,
      "outputs": [
        {
          "output_type": "execute_result",
          "data": {
            "text/plain": [
              "array([1.e-09, 1.e-08, 1.e-07, 1.e-06, 1.e-05, 1.e-04, 1.e-03, 1.e-02,\n",
              "       1.e-01, 1.e+00])"
            ]
          },
          "metadata": {},
          "execution_count": 2
        }
      ]
    },
    {
      "cell_type": "markdown",
      "source": [
        "**LASSO**"
      ],
      "metadata": {
        "id": "YAWu2oxeoT7I"
      }
    },
    {
      "cell_type": "markdown",
      "source": [
        "class sklearn.linear_model.Lasso(alpha=1.0, *, fit_intercept=True, normalize='deprecated', precompute=False, copy_X=True, max_iter=1000, tol=0.0001, warm_start=False, positive=False, random_state=None, selection='cyclic')"
      ],
      "metadata": {
        "id": "FLAL0EHdpUec"
      }
    },
    {
      "cell_type": "code",
      "source": [
        "scores=[]\n",
        "coefs=[]\n",
        "for alpha in alphas:\n",
        "    las=Lasso(alpha,max_iter=100000)\n",
        "    estimator=Pipeline([('scaler',s),('Lasso regression',las)])\n",
        "    predictions=cross_val_predict(estimator,x,y,cv=kf)\n",
        "    score=r2_score(y,predictions)\n",
        "    scores.append(score)"
      ],
      "metadata": {
        "id": "HCr-Vwx7oXzu"
      },
      "execution_count": null,
      "outputs": []
    },
    {
      "cell_type": "code",
      "source": [
        "list(zip(alphas,scores))"
      ],
      "metadata": {
        "colab": {
          "base_uri": "https://localhost:8080/"
        },
        "id": "dXWOTX87p-ri",
        "outputId": "0a4a3af7-e2ae-43ba-cc47-94764d88098c"
      },
      "execution_count": null,
      "outputs": [
        {
          "output_type": "execute_result",
          "data": {
            "text/plain": [
              "[(1e-09, 0.7170401443107435),\n",
              " (1e-08, 0.7170401449758408),\n",
              " (1e-07, 0.7170401516615408),\n",
              " (1e-06, 0.7170402176858433),\n",
              " (1e-05, 0.7170408880161592),\n",
              " (0.0001, 0.7170474630424206),\n",
              " (0.001, 0.7171136491363526),\n",
              " (0.01, 0.717686516037082),\n",
              " (0.1, 0.7152669891624295),\n",
              " (1.0, 0.6494072359438501)]"
            ]
          },
          "metadata": {},
          "execution_count": 26
        }
      ]
    },
    {
      "cell_type": "code",
      "source": [
        "Lasso(alpha=1e-6).fit(x,y).coef_"
      ],
      "metadata": {
        "colab": {
          "base_uri": "https://localhost:8080/"
        },
        "id": "RfAmH84fqPZk",
        "outputId": "fb9e473c-0357-41ac-e8fd-513471370797"
      },
      "execution_count": null,
      "outputs": [
        {
          "output_type": "execute_result",
          "data": {
            "text/plain": [
              "array([-1.07170372e-01,  4.63952623e-02,  2.08588308e-02,  2.68854318e+00,\n",
              "       -1.77954207e+01,  3.80475296e+00,  7.50802707e-04, -1.47575348e+00,\n",
              "        3.05654279e-01, -1.23293755e-02, -9.53459908e-01,  9.39253013e-03,\n",
              "       -5.25467196e-01])"
            ]
          },
          "metadata": {},
          "execution_count": 27
        }
      ]
    },
    {
      "cell_type": "code",
      "source": [
        "Lasso(alpha=1).fit(x,y).coef_"
      ],
      "metadata": {
        "colab": {
          "base_uri": "https://localhost:8080/"
        },
        "id": "iDjO_0p4qXlf",
        "outputId": "0a11e20c-8b56-42d9-b6dc-b3ba43c7709b"
      },
      "execution_count": null,
      "outputs": [
        {
          "output_type": "execute_result",
          "data": {
            "text/plain": [
              "array([-0.06342255,  0.04916867, -0.        ,  0.        , -0.        ,\n",
              "        0.94678567,  0.02092737, -0.66900864,  0.26417501, -0.01520915,\n",
              "       -0.72319901,  0.00829117, -0.76143296])"
            ]
          },
          "metadata": {},
          "execution_count": 28
        }
      ]
    },
    {
      "cell_type": "markdown",
      "source": [
        "if we look at the coefficients for very little alphas, for those that will reduce complexity much less, you see that our coefficients are all different numerical values. Whereas if I do alpha equals 1, which is much higher alpha value, so much less complexity, we end up removing many of our coefficients, right? These coefficients are each going to relate to a feature, and we have removed those features, essentially, from our prediction values."
      ],
      "metadata": {
        "id": "0T1zl-0WqzZs"
      }
    },
    {
      "cell_type": "code",
      "source": [
        "pf=PolynomialFeatures(degree=3)\n",
        "alphas=np.geomspace(0.001,10,5)\n",
        "scores=[]\n",
        "for alpha in alphas:\n",
        "    las=Lasso(alpha,max_iter=100000)\n",
        "    estimator=Pipeline([('make_higher_degree',pf),('scaler',s),('Lasso regression',las)])\n",
        "    predictions=cross_val_predict(estimator,x,y,cv=kf)\n",
        "    score=r2_score(y,predictions)\n",
        "    scores.append(score)"
      ],
      "metadata": {
        "colab": {
          "base_uri": "https://localhost:8080/"
        },
        "id": "Pm2WVM74rJ41",
        "outputId": "df3e77ce-ea1b-4c52-c691-a4b931af532c"
      },
      "execution_count": null,
      "outputs": [
        {
          "output_type": "stream",
          "name": "stderr",
          "text": [
            "/usr/local/lib/python3.7/dist-packages/sklearn/linear_model/_coordinate_descent.py:648: ConvergenceWarning: Objective did not converge. You might want to increase the number of iterations, check the scale of the features or consider increasing regularisation. Duality gap: 6.061e+01, tolerance: 2.648e+00\n",
            "  coef_, l1_reg, l2_reg, X, y, max_iter, tol, rng, random, positive\n",
            "/usr/local/lib/python3.7/dist-packages/sklearn/linear_model/_coordinate_descent.py:648: ConvergenceWarning: Objective did not converge. You might want to increase the number of iterations, check the scale of the features or consider increasing regularisation. Duality gap: 2.360e+01, tolerance: 3.079e+00\n",
            "  coef_, l1_reg, l2_reg, X, y, max_iter, tol, rng, random, positive\n",
            "/usr/local/lib/python3.7/dist-packages/sklearn/linear_model/_coordinate_descent.py:648: ConvergenceWarning: Objective did not converge. You might want to increase the number of iterations, check the scale of the features or consider increasing regularisation. Duality gap: 5.787e+01, tolerance: 2.806e+00\n",
            "  coef_, l1_reg, l2_reg, X, y, max_iter, tol, rng, random, positive\n"
          ]
        }
      ]
    },
    {
      "cell_type": "code",
      "source": [
        "alphas"
      ],
      "metadata": {
        "colab": {
          "base_uri": "https://localhost:8080/"
        },
        "id": "Ot6U7HP-smFj",
        "outputId": "d7d04a27-0fa0-4cfd-970c-b974074498d9"
      },
      "execution_count": null,
      "outputs": [
        {
          "output_type": "execute_result",
          "data": {
            "text/plain": [
              "array([1.e-03, 1.e-02, 1.e-01, 1.e+00, 1.e+01])"
            ]
          },
          "metadata": {},
          "execution_count": 30
        }
      ]
    },
    {
      "cell_type": "code",
      "source": [
        "scores"
      ],
      "metadata": {
        "colab": {
          "base_uri": "https://localhost:8080/"
        },
        "id": "Zlm4JXvfsoxB",
        "outputId": "de7ff4c3-dcbf-4a2e-935b-2ded4c8f74b0"
      },
      "execution_count": null,
      "outputs": [
        {
          "output_type": "execute_result",
          "data": {
            "text/plain": [
              "[0.7671146636196338,\n",
              " 0.873556517264515,\n",
              " 0.808639597048974,\n",
              " 0.7415588425386419,\n",
              " -0.006083330312897539]"
            ]
          },
          "metadata": {},
          "execution_count": 31
        }
      ]
    },
    {
      "cell_type": "code",
      "source": [
        "best_estimator=Pipeline([('make_higher_degree',pf),('scaler',s),('Lasso regression',Lasso(alpha=0.01,max_iter=100000))])\n",
        "best_estimator.fit(x,y)\n",
        "best_estimator.score(x,y)"
      ],
      "metadata": {
        "colab": {
          "base_uri": "https://localhost:8080/"
        },
        "id": "kGk_L0ljs8CV",
        "outputId": "566c4ff2-525d-44aa-8257-b2e74971e41d"
      },
      "execution_count": null,
      "outputs": [
        {
          "output_type": "execute_result",
          "data": {
            "text/plain": [
              "0.9351365368088853"
            ]
          },
          "metadata": {},
          "execution_count": 32
        }
      ]
    },
    {
      "cell_type": "code",
      "source": [
        "best_estimator.named_steps['Lasso regression'].coef_"
      ],
      "metadata": {
        "colab": {
          "base_uri": "https://localhost:8080/"
        },
        "id": "-ZS9bMm5tTdZ",
        "outputId": "72efd3c9-320c-4011-9002-b0e128d62e34"
      },
      "execution_count": null,
      "outputs": [
        {
          "output_type": "execute_result",
          "data": {
            "text/plain": [
              "array([ 0.        , -0.        , -0.        , -0.        ,  0.        ,\n",
              "        0.        ,  1.75294424,  1.41590199, -6.3822662 ,  0.8280436 ,\n",
              "        0.        ,  0.        ,  0.92751636,  0.        ,  0.        ,\n",
              "       -0.        , -0.        ,  0.79856607, -0.        , -0.        ,\n",
              "       -0.        , -0.        , -0.        , -0.        , -0.        ,\n",
              "       -0.        ,  0.        ,  0.        , -0.        , -0.        ,\n",
              "       -0.        ,  0.        , -0.        , -0.        , -0.        ,\n",
              "        0.        ,  0.        , -0.        , -0.        ,  0.        ,\n",
              "       -0.        , -0.        , -0.        ,  0.        , -1.88026407,\n",
              "        0.        ,  0.        , -0.        ,  0.        , -0.        ,\n",
              "        0.        , -0.        , -0.        ,  0.        ,  0.        ,\n",
              "        0.        ,  0.        ,  0.        ,  0.        ,  0.        ,\n",
              "       -0.        ,  0.        , -0.        , -0.        ,  0.        ,\n",
              "        0.        , -0.        ,  0.        ,  0.        ,  4.48100065,\n",
              "        0.        , -0.        ,  0.        , -0.        , -0.        ,\n",
              "        0.7526247 , -0.        ,  0.        , -0.        ,  0.        ,\n",
              "        0.        ,  0.        ,  0.        , -0.        , -0.        ,\n",
              "       -0.        , -0.        ,  0.        , -0.        , -0.        ,\n",
              "        0.        ,  0.        ,  0.        ,  5.30081122, -0.        ,\n",
              "        0.        ,  0.        ,  0.        , -0.        ,  0.        ,\n",
              "        0.        ,  0.        , -0.        ,  0.        ,  0.        ,\n",
              "        0.        , -0.50454438,  0.        ,  0.        ,  0.        ,\n",
              "        0.        ,  0.        ,  0.64115219,  0.        ,  0.        ,\n",
              "        0.        ,  0.        ,  0.37638782, -0.3012629 ,  0.        ,\n",
              "       -0.30754411, -0.        , -0.        , -0.        ,  0.        ,\n",
              "        0.        ,  0.8930979 ,  0.        , -0.        ,  0.        ,\n",
              "        0.        ,  0.        , -0.        , -0.        , -0.        ,\n",
              "       -0.        , -0.        , -0.        , -0.        ,  0.        ,\n",
              "        0.        ,  0.68197331,  0.        , -0.        ,  0.        ,\n",
              "       -0.82169878,  0.        ,  0.71864585,  1.6691852 ,  0.        ,\n",
              "       -1.05441925, -0.73760721, -0.        , -0.        , -0.        ,\n",
              "       -0.        , -0.        , -0.        , -0.        , -0.        ,\n",
              "       -0.        , -0.        , -0.        , -0.        , -0.        ,\n",
              "       -0.        , -0.        ,  0.        , -0.        , -1.78649199,\n",
              "       -0.        , -0.        , -0.        , -0.        ,  0.        ,\n",
              "        0.29669241, -0.        , -0.        , -0.        , -0.        ,\n",
              "        0.        , -0.        , -0.        , -0.        , -0.        ,\n",
              "        0.        , -0.        , -0.        , -0.        ,  0.        ,\n",
              "       -0.        , -0.        ,  0.        , -0.28172399,  0.        ,\n",
              "        0.08424305,  0.27373047, -0.        , -0.26503414,  0.        ,\n",
              "        0.        ,  0.        , -0.        , -0.        , -0.        ,\n",
              "        0.        ,  0.        , -0.        , -0.26803827,  0.        ,\n",
              "       -0.        , -0.        ,  0.        ,  0.        , -0.        ,\n",
              "        0.18868179, -0.        , -0.        ,  0.        , -0.        ,\n",
              "       -0.        , -0.        , -0.        , -0.        ,  0.19423288,\n",
              "       -0.        , -0.        , -0.        , -0.09289503,  0.        ,\n",
              "        0.        , -0.        , -0.        ,  0.        ,  0.        ,\n",
              "        0.        ,  0.        , -0.        ,  0.26322411, -0.        ,\n",
              "       -0.        ,  0.        ,  0.        ,  0.        ,  0.        ,\n",
              "       -0.34516598, -0.15605662, -0.        , -0.        ,  0.        ,\n",
              "       -0.        , -0.        ,  0.        , -0.        , -0.        ,\n",
              "       -0.        ,  0.        , -0.        , -0.        , -0.12688402,\n",
              "        0.        ,  0.        , -0.        , -0.93925687,  0.91840479,\n",
              "        0.        ,  0.        ,  0.        ,  0.        ,  0.        ,\n",
              "        0.        , -0.        , -0.        ,  0.24944559,  0.        ,\n",
              "       -0.        ,  0.        ,  3.78825904,  0.65354599,  0.        ,\n",
              "        0.        ,  0.        ,  0.        ,  0.        , -2.79719913,\n",
              "       -0.        , -0.        , -0.        , -0.        ,  0.        ,\n",
              "        0.        ,  0.        ,  0.        ,  0.        ,  0.        ,\n",
              "       -0.        ,  0.        , -0.        ,  0.        ,  0.        ,\n",
              "        0.        , -0.        ,  0.        , -0.        ,  0.        ,\n",
              "        0.        , -0.        ,  0.        ,  0.        , -0.22617625,\n",
              "        0.        , -0.26726795,  0.        ,  0.        ,  3.23863835,\n",
              "        0.        ,  0.        , -0.        , -0.73215522,  0.98732545,\n",
              "       -0.        ,  0.        , -0.69445995, -0.        ,  2.7061173 ,\n",
              "        0.        ,  0.        ,  0.        ,  0.        , -0.        ,\n",
              "        0.        ,  0.        ,  2.40867466, -1.66021023, -0.        ,\n",
              "       -0.        , -0.        , -0.        , -3.79092034,  0.        ,\n",
              "        0.        , -0.        , -0.        ,  0.        ,  0.        ,\n",
              "        0.        ,  0.        ,  0.        ,  0.        ,  0.        ,\n",
              "       -0.39875467, -0.0179026 , -0.        ,  0.        ,  0.        ,\n",
              "       -0.        , -0.        ,  0.        , -0.        , -0.21323285,\n",
              "       -0.        ,  0.        , -4.44165966, -0.        , -0.        ,\n",
              "        0.        , -0.        ,  0.        ,  0.        ,  0.        ,\n",
              "        0.        ,  0.        ,  0.        ,  0.        ,  0.70238275,\n",
              "        0.76278707,  0.        ,  0.        ,  0.        ,  0.        ,\n",
              "        0.33452143,  0.        ,  0.        ,  1.24357214,  0.29312129,\n",
              "        0.        ,  0.        ,  0.        ,  0.        ,  0.        ,\n",
              "        0.        ,  0.        ,  0.46948446,  0.        ,  0.        ,\n",
              "       -0.        , -0.        , -0.        ,  0.88118933, -0.        ,\n",
              "       -0.        , -0.39555286,  0.        ,  0.        ,  0.        ,\n",
              "       -0.        ,  0.        , -0.        , -0.        , -2.7494278 ,\n",
              "        0.        , -0.        , -0.        ,  0.        , -0.        ,\n",
              "       -0.        , -0.        , -0.        , -0.        ,  0.        ,\n",
              "        0.        ,  0.        ,  0.        , -0.        ,  0.70040794,\n",
              "       -0.        ,  0.        ,  0.        ,  0.        , -2.03292743,\n",
              "        0.        ,  0.        ,  0.        , -0.        , -0.        ,\n",
              "       -0.        , -0.        ,  0.        ,  0.        ,  0.38145567,\n",
              "        3.98366685, -1.57724292,  0.        , -1.32062051, -5.33574178,\n",
              "       -0.        ,  0.        , -2.42037319, -0.        , -0.        ,\n",
              "       -0.        , -0.        , -0.01514147, -0.17195549, -0.        ,\n",
              "        0.        , -0.        , -0.        ,  0.        , -0.        ,\n",
              "       -0.        , -0.        , -0.        ,  0.        , -0.        ,\n",
              "       -0.        , -0.        , -0.        , -0.        , -0.        ,\n",
              "       -0.99807856, -0.        , -0.        , -0.        , -0.        ,\n",
              "        0.        ,  0.        , -0.48892575,  1.7636744 ,  0.        ,\n",
              "        0.        , -0.47111586, -0.        ,  2.18393525, -0.21131424,\n",
              "       -1.72527878,  0.        , -0.        , -0.        ,  0.        ,\n",
              "        0.        ,  0.        , -0.        , -0.        ,  0.        ,\n",
              "        0.        , -0.91410592, -0.        , -0.        , -0.        ,\n",
              "       -0.        , -0.        , -0.74251789,  0.        ,  0.        ,\n",
              "        0.        ,  0.        ,  1.06139857,  0.        , -0.        ,\n",
              "       -2.48666604, -0.        , -0.        , -0.        ,  4.03607868,\n",
              "       -0.        ,  0.        , -0.        ,  0.32811525,  0.        ,\n",
              "        0.        ,  0.        , -0.        ,  0.        , -3.01112314,\n",
              "        0.        ,  0.        ,  0.        , -0.        , -0.        ,\n",
              "        0.        ,  0.        ,  0.        , -0.        ,  0.        ,\n",
              "        0.        , -0.        , -0.        , -7.17436187,  0.24997125,\n",
              "        0.        ,  0.        ,  0.        , -0.        ,  4.51448666,\n",
              "        0.        , -0.        , -0.        , -0.        ,  0.        ,\n",
              "        0.        ,  0.        ,  0.        , -0.        ,  0.        ,\n",
              "        0.        , -0.88433267,  0.        ,  5.82630617,  1.00280685])"
            ]
          },
          "metadata": {},
          "execution_count": 33
        }
      ]
    },
    {
      "cell_type": "markdown",
      "source": [
        "**Ridge Regression**"
      ],
      "metadata": {
        "id": "qSOCHsBfGDLV"
      }
    },
    {
      "cell_type": "code",
      "source": [
        "pf=PolynomialFeatures(degree=3)\n",
        "alphas=np.geomspace(0.001,10,5)\n",
        "scores=[]\n",
        "for alpha in alphas:\n",
        "    rid=Ridge(alpha,max_iter=100000)\n",
        "    estimator=Pipeline([('make_higher_degree',pf),('scaler',s),('Ridge regression',rid)])\n",
        "    predictions=cross_val_predict(estimator,x,y,cv=kf)\n",
        "    score=r2_score(y,predictions)\n",
        "    scores.append(score)\n",
        "plt.plot(alphas,scores)\n",
        "scores\n"
      ],
      "metadata": {
        "colab": {
          "base_uri": "https://localhost:8080/",
          "height": 352
        },
        "id": "X9HP6q1hFxoM",
        "outputId": "fa7f5d81-bd23-4174-f71a-aaa0aeaae348"
      },
      "execution_count": null,
      "outputs": [
        {
          "output_type": "execute_result",
          "data": {
            "text/plain": [
              "[-0.86983161301188,\n",
              " 0.3056690105822608,\n",
              " 0.7499745554327117,\n",
              " 0.8540932641878904,\n",
              " 0.8540074267966675]"
            ]
          },
          "metadata": {},
          "execution_count": 37
        },
        {
          "output_type": "display_data",
          "data": {
            "image/png": "[encoded data removed]",
            "text/plain": [
              "<Figure size 432x288 with 1 Axes>"
            ]
          },
          "metadata": {
            "needs_background": "light"
          }
        }
      ]
    },
    {
      "cell_type": "markdown",
      "source": [
        "**GRID SEARCH CV**\n",
        "\n",
        "to show you how we can use Grid Search CV to take everything that we just learnt with all the four loops, how we went with four loops for the Kfolds, and how we pass that through to cross val predict to make that more succinct. Now we are using the four loop through each one of our hyper-parameters, and then passing through cross val predicts, how we can do all of that in just one step using Grid Search CV."
      ],
      "metadata": {
        "id": "UrQLS1l3HfEq"
      }
    },
    {
      "cell_type": "code",
      "source": [
        "from sklearn.model_selection import GridSearchCV\n",
        "estimator=Pipeline([('polynomial_features',PolynomialFeatures()),('scaler',StandardScaler()),('Ridge_regression',Ridge())])\n",
        "params={\n",
        "    'polynomial_features__degree':[1,2,3],\n",
        "    'Ridge_regression__alpha':np.geomspace(4,20,30)\n",
        "}\n",
        "grid=GridSearchCV(estimator,params,cv=kf)"
      ],
      "metadata": {
        "id": "7Hx9gVgaHyA3"
      },
      "execution_count": null,
      "outputs": []
    },
    {
      "cell_type": "code",
      "source": [
        "estimator.fit(x,y)"
      ],
      "metadata": {
        "colab": {
          "base_uri": "https://localhost:8080/"
        },
        "id": "tvZ4WqT_I8bc",
        "outputId": "96ccfa4e-9c1c-4d3f-c381-9f18524dd6c0"
      },
      "execution_count": null,
      "outputs": [
        {
          "output_type": "execute_result",
          "data": {
            "text/plain": [
              "Pipeline(steps=[('polynomial_features', PolynomialFeatures()),\n",
              "                ('scaler', StandardScaler()), ('Ridge_regression', Ridge())])"
            ]
          },
          "metadata": {},
          "execution_count": 88
        }
      ]
    },
    {
      "cell_type": "code",
      "source": [
        "estimator.get_params().keys()"
      ],
      "metadata": {
        "colab": {
          "base_uri": "https://localhost:8080/"
        },
        "id": "t1p3LXU6KhV4",
        "outputId": "1a0bcb37-c532-40af-99d9-bca8cff4e189"
      },
      "execution_count": null,
      "outputs": [
        {
          "output_type": "execute_result",
          "data": {
            "text/plain": [
              "dict_keys(['memory', 'steps', 'verbose', 'polynomial_features', 'scaler', 'Ridge_regression', 'polynomial_features__degree', 'polynomial_features__include_bias', 'polynomial_features__interaction_only', 'polynomial_features__order', 'scaler__copy', 'scaler__with_mean', 'scaler__with_std', 'Ridge_regression__alpha', 'Ridge_regression__copy_X', 'Ridge_regression__fit_intercept', 'Ridge_regression__max_iter', 'Ridge_regression__normalize', 'Ridge_regression__positive', 'Ridge_regression__random_state', 'Ridge_regression__solver', 'Ridge_regression__tol'])"
            ]
          },
          "metadata": {},
          "execution_count": 89
        }
      ]
    },
    {
      "cell_type": "code",
      "source": [
        "estimator.score(x,y)"
      ],
      "metadata": {
        "colab": {
          "base_uri": "https://localhost:8080/"
        },
        "id": "asv9VVsxLpxn",
        "outputId": "0738bbda-2573-48ce-c450-c2212286209a"
      },
      "execution_count": null,
      "outputs": [
        {
          "output_type": "execute_result",
          "data": {
            "text/plain": [
              "0.9112630335229069"
            ]
          },
          "metadata": {},
          "execution_count": 90
        }
      ]
    },
    {
      "cell_type": "code",
      "source": [
        "grid.fit(x,y)"
      ],
      "metadata": {
        "colab": {
          "base_uri": "https://localhost:8080/"
        },
        "id": "MZrUH8yJJUoH",
        "outputId": "3291801b-a49e-4aba-b280-754b26a03a4b"
      },
      "execution_count": null,
      "outputs": [
        {
          "output_type": "execute_result",
          "data": {
            "text/plain": [
              "GridSearchCV(cv=KFold(n_splits=3, random_state=72011, shuffle=True),\n",
              "             estimator=Pipeline(steps=[('polynomial_features',\n",
              "                                        PolynomialFeatures()),\n",
              "                                       ('scaler', StandardScaler()),\n",
              "                                       ('Ridge_regression', Ridge())]),\n",
              "             param_grid={'Ridge_regression__alpha': array([ 4.        ,  4.22826702,  4.46956049,  4.7246238 ,  4.99424274,\n",
              "        5.27924796,  5.58051751,  5.89897953,  6.23561514,  6.59146146,\n",
              "        6.96761476,  7.36523392,  7.78554391,  8.22983963,  8.69948987,\n",
              "        9.19594151,  9.72072404, 10.27545421, 10.86184103, 11.48169104,\n",
              "       12.13691388, 12.82952815, 13.56166768, 14.33558803, 15.15367351,\n",
              "       16.01844446, 16.93256509, 17.89885162, 18.92028098, 20.        ]),\n",
              "                         'polynomial_features__degree': [1, 2, 3]})"
            ]
          },
          "metadata": {},
          "execution_count": 91
        }
      ]
    },
    {
      "cell_type": "code",
      "source": [
        "grid.best_score_"
      ],
      "metadata": {
        "colab": {
          "base_uri": "https://localhost:8080/"
        },
        "id": "AoBA4mJ8Q_tJ",
        "outputId": "d5a9c48f-7e36-4d8b-e733-b37a4e516b98"
      },
      "execution_count": null,
      "outputs": [
        {
          "output_type": "execute_result",
          "data": {
            "text/plain": [
              "0.8601653498266836"
            ]
          },
          "metadata": {},
          "execution_count": 92
        }
      ]
    },
    {
      "cell_type": "code",
      "source": [
        "grid.best_params_"
      ],
      "metadata": {
        "colab": {
          "base_uri": "https://localhost:8080/"
        },
        "id": "TB2NG4xSRE7Q",
        "outputId": "caefbe66-bf57-4096-d2ee-3cbf93548238"
      },
      "execution_count": null,
      "outputs": [
        {
          "output_type": "execute_result",
          "data": {
            "text/plain": [
              "{'Ridge_regression__alpha': 4.0, 'polynomial_features__degree': 3}"
            ]
          },
          "metadata": {},
          "execution_count": 93
        }
      ]
    },
    {
      "cell_type": "code",
      "source": [
        "y_predict=grid.predict(x)"
      ],
      "metadata": {
        "id": "vdu0hz8LRJnG"
      },
      "execution_count": null,
      "outputs": []
    },
    {
      "cell_type": "code",
      "source": [
        "r2_score(y,y_predict)"
      ],
      "metadata": {
        "colab": {
          "base_uri": "https://localhost:8080/"
        },
        "id": "oKPbNeuARO6w",
        "outputId": "e49d77af-710f-4863-c57d-2959f38f2c22"
      },
      "execution_count": null,
      "outputs": [
        {
          "output_type": "execute_result",
          "data": {
            "text/plain": [
              "0.9371998534579354"
            ]
          },
          "metadata": {},
          "execution_count": 95
        }
      ]
    },
    {
      "cell_type": "code",
      "source": [
        "grid.best_estimator_.named_steps['Ridge_regression'].coef_"
      ],
      "metadata": {
        "colab": {
          "base_uri": "https://localhost:8080/"
        },
        "id": "XByfHI-YRX7B",
        "outputId": "7799ac35-a627-43df-fe96-b5937f50d23b"
      },
      "execution_count": null,
      "outputs": [
        {
          "output_type": "execute_result",
          "data": {
            "text/plain": [
              "array([ 0.00000000e+00,  6.68250560e-02, -4.02437693e-01, -3.36562335e-01,\n",
              "        8.97450485e-02,  1.26048617e-01,  2.13159436e+00,  1.11865845e+00,\n",
              "       -1.30664235e+00,  1.27880901e+00,  2.06486257e-01,  1.01466852e-02,\n",
              "        8.50846904e-01,  1.72105441e-01,  7.09048168e-02, -8.14157563e-02,\n",
              "        1.69197919e-01,  1.02819052e+00, -2.29055044e-01,  1.27853996e-01,\n",
              "       -8.07122112e-02, -2.43093961e-01, -9.25607273e-02,  1.92646670e-02,\n",
              "        3.08201775e-02,  2.90142560e-01,  1.34300197e-01, -6.84567622e-02,\n",
              "       -3.19459300e-01, -2.77519399e-02, -1.96327085e-01,  2.11686939e-02,\n",
              "       -1.33790119e-01, -2.72500635e-01, -9.06495871e-02, -1.50347189e-01,\n",
              "       -7.62178275e-02, -2.45863879e-01, -4.44323971e-01,  3.06933639e-01,\n",
              "       -9.30007672e-02, -5.09965898e-02,  7.32361439e-03,  2.98896745e-01,\n",
              "       -1.14438166e+00,  6.47363815e-01,  6.10602237e-01, -3.70080218e-01,\n",
              "        1.65677405e-01, -7.94538772e-01,  8.97450485e-02, -6.50826118e-02,\n",
              "       -1.29051668e-01,  4.91108346e-02,  2.04174194e-01,  1.13974954e-02,\n",
              "        1.38982962e-01,  4.35686202e-02,  1.32793260e-01, -1.43526579e-02,\n",
              "        1.13257680e-02,  7.02130550e-01,  5.74880405e-02, -9.67340973e-01,\n",
              "        4.49584005e-01,  4.25928054e-03, -4.94450423e-01,  4.76588545e-01,\n",
              "        2.79899732e-01,  2.32300049e+00,  2.97755630e-01, -3.91253691e-01,\n",
              "        3.68560076e-01, -4.68179684e-01, -1.60111976e-01,  1.06151218e+00,\n",
              "       -3.80858368e-01,  6.74415713e-01,  9.77590167e-02,  1.32781419e+00,\n",
              "        3.25072416e-01,  6.02841367e-01,  3.79695891e-01,  1.61586195e-01,\n",
              "       -1.67436774e-01, -2.15589586e-01, -9.53719513e-01, -6.34299554e-01,\n",
              "       -6.97619463e-01, -6.24558791e-01, -4.96379531e-02,  6.02162369e-01,\n",
              "        1.11055259e+00,  1.22078936e+00, -3.23087867e-01,  2.32020498e-01,\n",
              "        7.37514275e-01,  4.20670218e-01, -3.89625680e-01,  2.36987996e-01,\n",
              "        4.72412021e-01,  2.34253043e-01,  2.52986448e-01,  3.81293748e-01,\n",
              "        7.89099580e-01, -7.89774078e-02, -7.65205668e-01,  7.78756258e-02,\n",
              "       -2.21066585e-01,  1.46395160e-01,  2.29424401e-01, -1.08927713e-01,\n",
              "        8.00702365e-01,  6.72555800e-02,  7.06890224e-02,  6.78625209e-02,\n",
              "        2.18849831e-01,  1.99675747e-01, -2.76291686e-01,  2.33110477e-01,\n",
              "       -2.16721545e-01,  8.91673764e-02, -3.93805155e-01,  1.00447488e-01,\n",
              "        1.82457400e-02,  1.88266986e-01,  8.96090308e-01,  3.96387103e-02,\n",
              "       -7.45280551e-02,  1.36607966e-01,  2.56545058e-01,  1.13049599e+00,\n",
              "       -1.33806790e-01,  2.47388003e-01,  5.58503934e-02, -1.17971585e-01,\n",
              "       -7.76806726e-02,  6.97289422e-02,  1.21425820e-01,  3.71081104e-01,\n",
              "        2.67045897e-01,  1.02819052e+00,  3.17994233e-01, -6.62799926e-01,\n",
              "        5.20266637e-01, -8.17586973e-01, -1.36046773e-02,  5.31046538e-01,\n",
              "        6.84213515e-01,  2.81503882e-01, -1.46038549e+00, -4.68600143e-01,\n",
              "       -1.36473560e-01, -5.01346734e-01, -6.95071392e-02, -4.61188882e-01,\n",
              "       -3.18374098e-01, -2.89171908e-01, -2.10957110e-01, -2.91070189e-01,\n",
              "       -2.50550340e-01, -1.25114607e-02, -4.53136084e-02, -1.43846598e-01,\n",
              "        2.52928930e-02,  5.27201238e-02, -6.69412225e-01,  9.54417487e-01,\n",
              "       -2.09712506e-01, -9.86707170e-01, -1.85141191e-01, -9.74591658e-02,\n",
              "       -1.20106258e-01, -4.48103488e-01, -5.48857373e-02,  9.20449087e-01,\n",
              "       -3.80930596e-01, -2.57527566e-01, -2.38852612e-01,  7.05520431e-02,\n",
              "        2.59957876e-01, -1.33488315e-01, -1.07740722e-01, -1.01322757e-01,\n",
              "       -3.23733661e-02,  1.84608047e-01, -2.96130712e-02, -4.54022940e-03,\n",
              "        1.56507329e-01,  1.95393265e-01,  1.17094949e-02,  2.28325003e-01,\n",
              "        1.22631323e-01, -7.43239569e-01,  5.62362708e-01, -3.89585260e-01,\n",
              "        7.55080037e-01, -2.41858930e-01, -2.15215089e-01, -7.79421525e-02,\n",
              "        3.79636190e-01,  2.57217442e-01, -2.86179117e-01, -4.21058424e-01,\n",
              "       -5.94312236e-01,  3.18453854e-01,  9.83301656e-02,  9.21206387e-02,\n",
              "       -2.39432774e-01, -6.46291073e-02, -9.10616924e-02, -1.57582227e-01,\n",
              "        3.37988475e-01,  4.82652135e-01,  2.41093658e-02,  7.64644744e-01,\n",
              "       -5.00732185e-01, -2.57905200e-01,  1.77918000e-01, -2.77519399e-02,\n",
              "       -1.58789924e-02, -3.18474743e-02,  9.54894743e-02, -3.62414449e-02,\n",
              "        3.56136669e-01, -2.38194681e-02, -4.84665853e-02, -4.10558110e-02,\n",
              "       -1.98875179e-01,  7.62397729e-02,  1.90278962e-01,  1.43466874e-01,\n",
              "       -8.47889453e-02,  3.55188908e-01,  2.56965613e-01,  2.02401777e-02,\n",
              "       -5.99081648e-02, -1.39146549e-01,  5.05894146e-01, -1.90893647e-03,\n",
              "        4.29176097e-03,  3.61144877e-01,  1.33650173e-01,  2.98221904e-01,\n",
              "        1.58402545e-01, -6.88633177e-01, -3.51036337e-01,  1.79178345e-01,\n",
              "       -1.48114351e-01,  6.70953459e-02, -1.77456247e-01, -1.01723418e-01,\n",
              "       -6.03355908e-02, -4.80161740e-01, -1.37685763e-01, -3.01356561e-01,\n",
              "        4.04516108e-01, -4.53252609e-02,  1.62918972e-01, -5.28708785e-01,\n",
              "        3.85765604e-01, -8.22722312e-02,  5.27897395e-02, -5.54772355e-01,\n",
              "        5.81035956e-01,  4.03455782e-01,  3.86944247e-02,  1.96552770e-01,\n",
              "        1.70143141e-01,  7.26832109e-02,  1.59310830e-01, -1.02556408e-01,\n",
              "       -2.39536622e-01,  3.45380899e-01, -1.62446221e-01,  7.71149359e-03,\n",
              "        3.48283919e-01,  8.34333737e-01,  4.99704813e-01,  6.57818928e-01,\n",
              "        4.67940566e-01,  1.19761959e-01,  2.81747121e-01,  7.92503186e-01,\n",
              "       -1.33011514e+00, -9.30007672e-02, -1.67257016e-01, -3.10173116e-01,\n",
              "        1.28074337e-01,  2.23483825e-01, -1.05768435e-01,  6.08412679e-02,\n",
              "       -1.39722132e-01,  1.14725011e-01,  4.25249929e-02,  7.40451202e-02,\n",
              "        1.18048880e-01, -1.16521558e-01,  7.56003170e-01,  2.42568116e-02,\n",
              "        2.66908250e-01, -2.61642620e-01,  1.78080996e-01, -5.77092205e-01,\n",
              "        2.89944965e-01,  4.40563247e-01, -5.66522836e-01, -2.07648165e-01,\n",
              "        3.74104763e-01, -6.94411044e-01,  1.48799441e-01, -1.11083964e+00,\n",
              "        2.45966217e-01, -7.67299217e-02,  9.30867034e-01,  6.82079919e-01,\n",
              "        2.03714984e-01, -3.53576699e-01, -1.11532920e+00,  8.95193016e-01,\n",
              "       -4.10988999e-01,  7.65889067e-01, -8.56569067e-01, -4.33297894e-01,\n",
              "        1.49374649e+00, -8.76489306e-02,  2.69889321e-01,  6.08692816e-01,\n",
              "        5.56340399e-01, -8.18562041e-01, -2.13051688e-03,  6.24427197e-01,\n",
              "        8.81577950e-01, -1.06779358e+00, -2.45607269e-01, -1.56307846e-01,\n",
              "       -5.65280684e-01, -2.48340433e-01, -1.25167055e+00,  8.56940430e-01,\n",
              "        8.97450485e-02, -6.50826118e-02, -1.29051668e-01,  4.91108346e-02,\n",
              "        2.04174194e-01,  1.13974954e-02,  1.38982962e-01,  4.35686202e-02,\n",
              "        1.32793260e-01, -1.43526579e-02, -1.92672322e-01, -4.47856712e-01,\n",
              "       -5.82283216e-02,  2.45280596e-01, -2.92734703e-01, -9.18027469e-02,\n",
              "       -1.47685786e-01, -7.80820334e-02,  3.54547405e-02, -5.35873615e-01,\n",
              "       -7.79922931e-02,  2.73463000e-01, -2.36909584e+00, -1.04596929e+00,\n",
              "       -6.24756129e-01,  1.21129790e-03, -2.04836418e-01,  9.89422355e-02,\n",
              "        1.04548190e-01, -1.12636100e-01,  1.59427387e-01, -1.21181637e-02,\n",
              "        1.67294835e-01, -8.69582002e-02,  2.51213811e-01,  2.59836467e-01,\n",
              "        4.48110717e-01,  1.46004999e-01,  2.64286228e-01, -1.83951161e-01,\n",
              "       -6.91614664e-02, -2.60917044e-02, -2.10250992e-02,  5.89745199e-02,\n",
              "        7.01677841e-01,  1.08470192e-01,  7.98523291e-02,  2.53137410e-01,\n",
              "        3.23715765e-01,  1.05422310e-02,  6.78616491e-02,  1.24041882e-01,\n",
              "        4.47619802e-01, -1.93164126e-01, -1.29779150e-01,  4.56423338e-03,\n",
              "       -7.33704825e-02, -5.85663806e-01,  3.45198000e-01, -3.10425423e-01,\n",
              "       -2.84117982e-01, -6.72030508e-01,  6.41525789e-03,  5.05186236e-01,\n",
              "        7.67990538e-01, -6.70790391e-01,  1.44297067e-01, -3.30141556e-01,\n",
              "       -5.78179941e-01, -1.07823430e+00,  2.31553021e-01, -9.30817198e-02,\n",
              "       -3.55288106e-01,  2.77316697e-01,  1.09225393e-01, -4.63021766e-01,\n",
              "       -5.09808409e-01, -6.76792539e-01, -2.24310940e-01,  3.92535029e-02,\n",
              "        6.13869754e-01,  4.94413740e-01, -4.39054052e-01, -4.44727031e-01,\n",
              "        1.03242270e+00, -6.51898847e-01, -9.56196093e-02,  2.85894066e-01,\n",
              "        6.24070114e-02, -1.05985054e+00, -2.35848862e-01,  1.52987762e-01,\n",
              "       -1.25913284e-01, -6.81958665e-01, -6.02492179e-01, -3.81539188e-01,\n",
              "        3.94051149e-03,  3.64431770e-02,  4.22213818e-01,  8.51183996e-01,\n",
              "        2.55551672e+00, -6.46193991e-01,  7.05826897e-01, -1.17630110e+00,\n",
              "       -1.51822367e+00, -2.34195281e-01,  1.27631299e+00, -1.22897091e+00,\n",
              "       -3.23138675e-01,  1.44947368e-01,  1.42330734e-01, -7.13696903e-01,\n",
              "       -7.97862554e-01, -8.70768685e-01, -4.55466758e-01,  2.29099827e-01,\n",
              "       -5.70425576e-01, -8.25867869e-01, -1.24828788e-02,  7.34657943e-03,\n",
              "       -9.62313635e-01, -1.14882954e+00, -4.11973125e-01,  7.05106373e-02,\n",
              "       -1.96700107e-01, -3.12509860e-01, -6.15942916e-01, -3.63876088e-01,\n",
              "       -7.97826702e-01, -7.09137527e-01, -9.55150858e-01, -2.30940891e-01,\n",
              "       -2.74166509e-01,  1.21216019e-01, -6.43160463e-01,  5.01096181e-01,\n",
              "        8.54290184e-01, -9.07951600e-01,  1.37582624e+00,  2.85210419e-01,\n",
              "        2.62971136e-01, -7.05867408e-01, -5.09749531e-01,  1.60098365e+00,\n",
              "       -4.76805607e-01, -1.42538373e+00,  1.19597431e-02,  4.81113675e-01,\n",
              "       -1.35502553e-02,  2.52648979e-01,  7.32314383e-01,  1.20374398e+00,\n",
              "       -3.47967098e-01, -6.16959199e-01,  1.38840228e-01,  4.88629446e-01,\n",
              "       -1.08346950e+00, -8.00514813e-01,  3.45781852e-01, -4.10393615e-01,\n",
              "       -4.45511661e-02, -1.23101438e-01, -6.83678279e-01,  7.71241940e-01,\n",
              "        3.53094381e-01,  5.17584799e-01,  4.32337413e-01,  6.95624430e-01,\n",
              "        1.35688301e-01, -3.37874338e-01, -1.35559530e+00, -3.49665798e-01,\n",
              "       -2.22682065e-01, -2.84920186e-01,  1.91771968e+00, -2.96232787e-01,\n",
              "        4.43055803e-01, -4.23559873e-01,  1.65094145e+00,  2.37683295e-02,\n",
              "       -1.27123749e-01,  8.46890525e-02, -1.95910542e-01,  3.77288225e-01,\n",
              "       -1.62471155e+00, -2.66427752e-01, -1.13297458e-01, -7.16330586e-02,\n",
              "       -3.98872671e-01, -1.11073745e+00,  2.20306995e-01,  5.76130032e-01,\n",
              "        4.11955121e-01, -7.68467508e-01,  1.02854885e+00,  9.83600154e-01,\n",
              "       -3.71008081e-01,  6.78112357e-02, -1.92496849e+00,  7.09087128e-01,\n",
              "       -1.66757455e-01,  5.21403393e-01,  2.19513394e-01, -9.88760498e-01,\n",
              "        1.18963735e+00,  7.62673107e-01, -1.67954815e-01, -5.30768380e-01,\n",
              "       -1.29741093e+00,  8.34469513e-01,  4.93703720e-01,  3.38874510e-01,\n",
              "        2.92740371e-01, -3.01098201e-01,  2.30753021e-01,  5.29733674e-01,\n",
              "       -5.92888277e-01,  9.57727066e-01,  1.13551267e+00,  2.75499065e-01])"
            ]
          },
          "metadata": {},
          "execution_count": 96
        }
      ]
    },
    {
      "cell_type": "markdown",
      "source": [
        "# **Polynomial Features and Regularization**"
      ],
      "metadata": {
        "id": "4JH3UJ5mSRDa"
      }
    },
    {
      "cell_type": "code",
      "source": [
        "import pandas as pd\n",
        "import numpy as np\n",
        "import matplotlib.pyplot as plt\n",
        "import seaborn as sns"
      ],
      "metadata": {
        "id": "H_RO7k-NS1M3"
      },
      "execution_count": null,
      "outputs": []
    },
    {
      "cell_type": "code",
      "source": [
        "data=pd.read_csv(\"/content/x_y_sinusoiddata.csv\")"
      ],
      "metadata": {
        "id": "dTZV5KjLTQ6C"
      },
      "execution_count": null,
      "outputs": []
    },
    {
      "cell_type": "code",
      "source": [
        "x_real=np.linspace(0,1,100)\n",
        "y_real=np.sin(2*np.pi*x_real)\n",
        "ax=data.plot('x','y',ls='',marker='o',label='data')\n",
        "ax.plot(x_real,y_real,ls='-',marker='',label='real function')\n",
        "ax.legend()\n",
        "ax.set(xlabel='x_data',ylabel='y_data')"
      ],
      "metadata": {
        "colab": {
          "base_uri": "https://localhost:8080/",
          "height": 297
        },
        "id": "aXJ-3b2OTX47",
        "outputId": "689707f3-e2b1-49e3-f800-1f77295c5709"
      },
      "execution_count": null,
      "outputs": [
        {
          "output_type": "execute_result",
          "data": {
            "text/plain": [
              "[Text(0, 0.5, 'y_data'), Text(0.5, 0, 'x_data')]"
            ]
          },
          "metadata": {},
          "execution_count": 3
        },
        {
          "output_type": "display_data",
          "data": {
            "image/png": "[encoded data removed]",
            "text/plain": [
              "<Figure size 432x288 with 1 Axes>"
            ]
          },
          "metadata": {
            "needs_background": "light"
          }
        }
      ]
    },
    {
      "cell_type": "code",
      "source": [
        "data.head()"
      ],
      "metadata": {
        "colab": {
          "base_uri": "https://localhost:8080/",
          "height": 206
        },
        "id": "tHdtaJqzWEUu",
        "outputId": "4c83429b-03ec-4108-d2d5-22623420464c"
      },
      "execution_count": null,
      "outputs": [
        {
          "output_type": "execute_result",
          "data": {
            "text/html": [
              "\n",
              "  <div id=\"df-1692d891-4e56-440e-85d0-34a1d395fc8e\">\n",
              "    <div class=\"colab-df-container\">\n",
              "      <div>\n",
              "<style scoped>\n",
              "    .dataframe tbody tr th:only-of-type {\n",
              "        vertical-align: middle;\n",
              "    }\n",
              "\n",
              "    .dataframe tbody tr th {\n",
              "        vertical-align: top;\n",
              "    }\n",
              "\n",
              "    .dataframe thead th {\n",
              "        text-align: right;\n",
              "    }\n",
              "</style>\n",
              "<table border=\"1\" class=\"dataframe\">\n",
              "  <thead>\n",
              "    <tr style=\"text-align: right;\">\n",
              "      <th></th>\n",
              "      <th>x</th>\n",
              "      <th>y</th>\n",
              "    </tr>\n",
              "  </thead>\n",
              "  <tbody>\n",
              "    <tr>\n",
              "      <th>0</th>\n",
              "      <td>0.038571</td>\n",
              "      <td>0.066391</td>\n",
              "    </tr>\n",
              "    <tr>\n",
              "      <th>1</th>\n",
              "      <td>0.166776</td>\n",
              "      <td>1.027483</td>\n",
              "    </tr>\n",
              "    <tr>\n",
              "      <th>2</th>\n",
              "      <td>0.183153</td>\n",
              "      <td>1.245302</td>\n",
              "    </tr>\n",
              "    <tr>\n",
              "      <th>3</th>\n",
              "      <td>0.187359</td>\n",
              "      <td>1.004781</td>\n",
              "    </tr>\n",
              "    <tr>\n",
              "      <th>4</th>\n",
              "      <td>0.243116</td>\n",
              "      <td>1.264121</td>\n",
              "    </tr>\n",
              "  </tbody>\n",
              "</table>\n",
              "</div>\n",
              "      <button class=\"colab-df-convert\" onclick=\"convertToInteractive('df-1692d891-4e56-440e-85d0-34a1d395fc8e')\"\n",
              "              title=\"Convert this dataframe to an interactive table.\"\n",
              "              style=\"display:none;\">\n",
              "        \n",
              "  <svg xmlns=\"http://www.w3.org/2000/svg\" height=\"24px\"viewBox=\"0 0 24 24\"\n",
              "       width=\"24px\">\n",
              "    <path d=\"M0 0h24v24H0V0z\" fill=\"none\"/>\n",
              "    <path d=\"M18.56 5.44l.94 2.06.94-2.06 2.06-.94-2.06-.94-.94-2.06-.94 2.06-2.06.94zm-11 1L8.5 8.5l.94-2.06 2.06-.94-2.06-.94L8.5 2.5l-.94 2.06-2.06.94zm10 10l.94 2.06.94-2.06 2.06-.94-2.06-.94-.94-2.06-.94 2.06-2.06.94z\"/><path d=\"M17.41 7.96l-1.37-1.37c-.4-.4-.92-.59-1.43-.59-.52 0-1.04.2-1.43.59L10.3 9.45l-7.72 7.72c-.78.78-.78 2.05 0 2.83L4 21.41c.39.39.9.59 1.41.59.51 0 1.02-.2 1.41-.59l7.78-7.78 2.81-2.81c.8-.78.8-2.07 0-2.86zM5.41 20L4 18.59l7.72-7.72 1.47 1.35L5.41 20z\"/>\n",
              "  </svg>\n",
              "      </button>\n",
              "      \n",
              "  <style>\n",
              "    .colab-df-container {\n",
              "      display:flex;\n",
              "      flex-wrap:wrap;\n",
              "      gap: 12px;\n",
              "    }\n",
              "\n",
              "    .colab-df-convert {\n",
              "      background-color: #E8F0FE;\n",
              "      border: none;\n",
              "      border-radius: 50%;\n",
              "      cursor: pointer;\n",
              "      display: none;\n",
              "      fill: #1967D2;\n",
              "      height: 32px;\n",
              "      padding: 0 0 0 0;\n",
              "      width: 32px;\n",
              "    }\n",
              "\n",
              "    .colab-df-convert:hover {\n",
              "      background-color: #E2EBFA;\n",
              "      box-shadow: 0px 1px 2px rgba(60, 64, 67, 0.3), 0px 1px 3px 1px rgba(60, 64, 67, 0.15);\n",
              "      fill: #174EA6;\n",
              "    }\n",
              "\n",
              "    [theme=dark] .colab-df-convert {\n",
              "      background-color: #3B4455;\n",
              "      fill: #D2E3FC;\n",
              "    }\n",
              "\n",
              "    [theme=dark] .colab-df-convert:hover {\n",
              "      background-color: #434B5C;\n",
              "      box-shadow: 0px 1px 3px 1px rgba(0, 0, 0, 0.15);\n",
              "      filter: drop-shadow(0px 1px 2px rgba(0, 0, 0, 0.3));\n",
              "      fill: #FFFFFF;\n",
              "    }\n",
              "  </style>\n",
              "\n",
              "      <script>\n",
              "        const buttonEl =\n",
              "          document.querySelector('#df-1692d891-4e56-440e-85d0-34a1d395fc8e button.colab-df-convert');\n",
              "        buttonEl.style.display =\n",
              "          google.colab.kernel.accessAllowed ? 'block' : 'none';\n",
              "\n",
              "        async function convertToInteractive(key) {\n",
              "          const element = document.querySelector('#df-1692d891-4e56-440e-85d0-34a1d395fc8e');\n",
              "          const dataTable =\n",
              "            await google.colab.kernel.invokeFunction('convertToInteractive',\n",
              "                                                     [key], {});\n",
              "          if (!dataTable) return;\n",
              "\n",
              "          const docLinkHtml = 'Like what you see? Visit the ' +\n",
              "            '<a target=\"_blank\" href=https://colab.research.google.com/notebooks/data_table.ipynb>data table notebook</a>'\n",
              "            + ' to learn more about interactive tables.';\n",
              "          element.innerHTML = '';\n",
              "          dataTable['output_type'] = 'display_data';\n",
              "          await google.colab.output.renderOutput(dataTable, element);\n",
              "          const docLink = document.createElement('div');\n",
              "          docLink.innerHTML = docLinkHtml;\n",
              "          element.appendChild(docLink);\n",
              "        }\n",
              "      </script>\n",
              "    </div>\n",
              "  </div>\n",
              "  "
            ],
            "text/plain": [
              "          x         y\n",
              "0  0.038571  0.066391\n",
              "1  0.166776  1.027483\n",
              "2  0.183153  1.245302\n",
              "3  0.187359  1.004781\n",
              "4  0.243116  1.264121"
            ]
          },
          "metadata": {},
          "execution_count": 4
        }
      ]
    },
    {
      "cell_type": "code",
      "source": [
        "data['y']"
      ],
      "metadata": {
        "colab": {
          "base_uri": "https://localhost:8080/"
        },
        "id": "wE-K_UkRWKW8",
        "outputId": "e99f0a75-a3a6-4306-a5d6-146f00e23af2"
      },
      "execution_count": null,
      "outputs": [
        {
          "output_type": "execute_result",
          "data": {
            "text/plain": [
              "0     0.066391\n",
              "1     1.027483\n",
              "2     1.245302\n",
              "3     1.004781\n",
              "4     1.264121\n",
              "5     0.498330\n",
              "6     0.597502\n",
              "7     0.629410\n",
              "8     0.822705\n",
              "9     0.557581\n",
              "10    0.565053\n",
              "11   -0.393222\n",
              "12   -0.912892\n",
              "13   -1.128250\n",
              "14   -1.110455\n",
              "15   -0.570343\n",
              "16   -0.620209\n",
              "17   -0.873236\n",
              "18   -0.187472\n",
              "19   -0.025815\n",
              "Name: y, dtype: float64"
            ]
          },
          "metadata": {},
          "execution_count": 5
        }
      ]
    },
    {
      "cell_type": "code",
      "source": [
        "data[['x']]"
      ],
      "metadata": {
        "colab": {
          "base_uri": "https://localhost:8080/",
          "height": 677
        },
        "id": "sZa-B2nJWS-j",
        "outputId": "8fa166c4-6b17-4415-9f58-0618a3b521ec"
      },
      "execution_count": null,
      "outputs": [
        {
          "output_type": "execute_result",
          "data": {
            "text/html": [
              "\n",
              "  <div id=\"df-360ec830-010c-47d9-b4b2-16514e23a123\">\n",
              "    <div class=\"colab-df-container\">\n",
              "      <div>\n",
              "<style scoped>\n",
              "    .dataframe tbody tr th:only-of-type {\n",
              "        vertical-align: middle;\n",
              "    }\n",
              "\n",
              "    .dataframe tbody tr th {\n",
              "        vertical-align: top;\n",
              "    }\n",
              "\n",
              "    .dataframe thead th {\n",
              "        text-align: right;\n",
              "    }\n",
              "</style>\n",
              "<table border=\"1\" class=\"dataframe\">\n",
              "  <thead>\n",
              "    <tr style=\"text-align: right;\">\n",
              "      <th></th>\n",
              "      <th>x</th>\n",
              "    </tr>\n",
              "  </thead>\n",
              "  <tbody>\n",
              "    <tr>\n",
              "      <th>0</th>\n",
              "      <td>0.038571</td>\n",
              "    </tr>\n",
              "    <tr>\n",
              "      <th>1</th>\n",
              "      <td>0.166776</td>\n",
              "    </tr>\n",
              "    <tr>\n",
              "      <th>2</th>\n",
              "      <td>0.183153</td>\n",
              "    </tr>\n",
              "    <tr>\n",
              "      <th>3</th>\n",
              "      <td>0.187359</td>\n",
              "    </tr>\n",
              "    <tr>\n",
              "      <th>4</th>\n",
              "      <td>0.243116</td>\n",
              "    </tr>\n",
              "    <tr>\n",
              "      <th>5</th>\n",
              "      <td>0.289299</td>\n",
              "    </tr>\n",
              "    <tr>\n",
              "      <th>6</th>\n",
              "      <td>0.342805</td>\n",
              "    </tr>\n",
              "    <tr>\n",
              "      <th>7</th>\n",
              "      <td>0.345499</td>\n",
              "    </tr>\n",
              "    <tr>\n",
              "      <th>8</th>\n",
              "      <td>0.386477</td>\n",
              "    </tr>\n",
              "    <tr>\n",
              "      <th>9</th>\n",
              "      <td>0.430047</td>\n",
              "    </tr>\n",
              "    <tr>\n",
              "      <th>10</th>\n",
              "      <td>0.484498</td>\n",
              "    </tr>\n",
              "    <tr>\n",
              "      <th>11</th>\n",
              "      <td>0.491929</td>\n",
              "    </tr>\n",
              "    <tr>\n",
              "      <th>12</th>\n",
              "      <td>0.614932</td>\n",
              "    </tr>\n",
              "    <tr>\n",
              "      <th>13</th>\n",
              "      <td>0.638054</td>\n",
              "    </tr>\n",
              "    <tr>\n",
              "      <th>14</th>\n",
              "      <td>0.697736</td>\n",
              "    </tr>\n",
              "    <tr>\n",
              "      <th>15</th>\n",
              "      <td>0.702427</td>\n",
              "    </tr>\n",
              "    <tr>\n",
              "      <th>16</th>\n",
              "      <td>0.729086</td>\n",
              "    </tr>\n",
              "    <tr>\n",
              "      <th>17</th>\n",
              "      <td>0.873401</td>\n",
              "    </tr>\n",
              "    <tr>\n",
              "      <th>18</th>\n",
              "      <td>0.898007</td>\n",
              "    </tr>\n",
              "    <tr>\n",
              "      <th>19</th>\n",
              "      <td>0.950964</td>\n",
              "    </tr>\n",
              "  </tbody>\n",
              "</table>\n",
              "</div>\n",
              "      <button class=\"colab-df-convert\" onclick=\"convertToInteractive('df-360ec830-010c-47d9-b4b2-16514e23a123')\"\n",
              "              title=\"Convert this dataframe to an interactive table.\"\n",
              "              style=\"display:none;\">\n",
              "        \n",
              "  <svg xmlns=\"http://www.w3.org/2000/svg\" height=\"24px\"viewBox=\"0 0 24 24\"\n",
              "       width=\"24px\">\n",
              "    <path d=\"M0 0h24v24H0V0z\" fill=\"none\"/>\n",
              "    <path d=\"M18.56 5.44l.94 2.06.94-2.06 2.06-.94-2.06-.94-.94-2.06-.94 2.06-2.06.94zm-11 1L8.5 8.5l.94-2.06 2.06-.94-2.06-.94L8.5 2.5l-.94 2.06-2.06.94zm10 10l.94 2.06.94-2.06 2.06-.94-2.06-.94-.94-2.06-.94 2.06-2.06.94z\"/><path d=\"M17.41 7.96l-1.37-1.37c-.4-.4-.92-.59-1.43-.59-.52 0-1.04.2-1.43.59L10.3 9.45l-7.72 7.72c-.78.78-.78 2.05 0 2.83L4 21.41c.39.39.9.59 1.41.59.51 0 1.02-.2 1.41-.59l7.78-7.78 2.81-2.81c.8-.78.8-2.07 0-2.86zM5.41 20L4 18.59l7.72-7.72 1.47 1.35L5.41 20z\"/>\n",
              "  </svg>\n",
              "      </button>\n",
              "      \n",
              "  <style>\n",
              "    .colab-df-container {\n",
              "      display:flex;\n",
              "      flex-wrap:wrap;\n",
              "      gap: 12px;\n",
              "    }\n",
              "\n",
              "    .colab-df-convert {\n",
              "      background-color: #E8F0FE;\n",
              "      border: none;\n",
              "      border-radius: 50%;\n",
              "      cursor: pointer;\n",
              "      display: none;\n",
              "      fill: #1967D2;\n",
              "      height: 32px;\n",
              "      padding: 0 0 0 0;\n",
              "      width: 32px;\n",
              "    }\n",
              "\n",
              "    .colab-df-convert:hover {\n",
              "      background-color: #E2EBFA;\n",
              "      box-shadow: 0px 1px 2px rgba(60, 64, 67, 0.3), 0px 1px 3px 1px rgba(60, 64, 67, 0.15);\n",
              "      fill: #174EA6;\n",
              "    }\n",
              "\n",
              "    [theme=dark] .colab-df-convert {\n",
              "      background-color: #3B4455;\n",
              "      fill: #D2E3FC;\n",
              "    }\n",
              "\n",
              "    [theme=dark] .colab-df-convert:hover {\n",
              "      background-color: #434B5C;\n",
              "      box-shadow: 0px 1px 3px 1px rgba(0, 0, 0, 0.15);\n",
              "      filter: drop-shadow(0px 1px 2px rgba(0, 0, 0, 0.3));\n",
              "      fill: #FFFFFF;\n",
              "    }\n",
              "  </style>\n",
              "\n",
              "      <script>\n",
              "        const buttonEl =\n",
              "          document.querySelector('#df-360ec830-010c-47d9-b4b2-16514e23a123 button.colab-df-convert');\n",
              "        buttonEl.style.display =\n",
              "          google.colab.kernel.accessAllowed ? 'block' : 'none';\n",
              "\n",
              "        async function convertToInteractive(key) {\n",
              "          const element = document.querySelector('#df-360ec830-010c-47d9-b4b2-16514e23a123');\n",
              "          const dataTable =\n",
              "            await google.colab.kernel.invokeFunction('convertToInteractive',\n",
              "                                                     [key], {});\n",
              "          if (!dataTable) return;\n",
              "\n",
              "          const docLinkHtml = 'Like what you see? Visit the ' +\n",
              "            '<a target=\"_blank\" href=https://colab.research.google.com/notebooks/data_table.ipynb>data table notebook</a>'\n",
              "            + ' to learn more about interactive tables.';\n",
              "          element.innerHTML = '';\n",
              "          dataTable['output_type'] = 'display_data';\n",
              "          await google.colab.output.renderOutput(dataTable, element);\n",
              "          const docLink = document.createElement('div');\n",
              "          docLink.innerHTML = docLinkHtml;\n",
              "          element.appendChild(docLink);\n",
              "        }\n",
              "      </script>\n",
              "    </div>\n",
              "  </div>\n",
              "  "
            ],
            "text/plain": [
              "           x\n",
              "0   0.038571\n",
              "1   0.166776\n",
              "2   0.183153\n",
              "3   0.187359\n",
              "4   0.243116\n",
              "5   0.289299\n",
              "6   0.342805\n",
              "7   0.345499\n",
              "8   0.386477\n",
              "9   0.430047\n",
              "10  0.484498\n",
              "11  0.491929\n",
              "12  0.614932\n",
              "13  0.638054\n",
              "14  0.697736\n",
              "15  0.702427\n",
              "16  0.729086\n",
              "17  0.873401\n",
              "18  0.898007\n",
              "19  0.950964"
            ]
          },
          "metadata": {},
          "execution_count": 6
        }
      ]
    },
    {
      "cell_type": "code",
      "source": [
        "from sklearn.linear_model import LinearRegression\n",
        "from sklearn.preprocessing import PolynomialFeatures\n",
        "pf=PolynomialFeatures(degree=20)\n",
        "lr=LinearRegression()\n",
        "x_data=data[['x']]\n",
        "y_data=data['y']\n",
        "x_poly=pf.fit_transform(x_data)\n",
        "lr=lr.fit(x_poly,y_data)\n",
        "y_pred=lr.predict(x_poly)\n",
        "plt.plot(x_data,y_data,ls=\"\",marker='o',label='data',alpha=1)\n",
        "plt.plot(x_real,y_real,ls=\"--\",marker=\"\",label='real function')\n",
        "plt.plot(x_data,y_pred,marker='*',label='prdiction via polynomial features',alpha=0.5)\n",
        "plt.legend()\n",
        "ax=plt.gca()\n",
        "ax.set(xlabel='xdata',ylabel='ydata')"
      ],
      "metadata": {
        "colab": {
          "base_uri": "https://localhost:8080/",
          "height": 296
        },
        "id": "eyR4h1gZVftF",
        "outputId": "812e484a-10d3-4740-b532-c85c019c0922"
      },
      "execution_count": null,
      "outputs": [
        {
          "output_type": "execute_result",
          "data": {
            "text/plain": [
              "[Text(0, 0.5, 'ydata'), Text(0.5, 0, 'xdata')]"
            ]
          },
          "metadata": {},
          "execution_count": 7
        },
        {
          "output_type": "display_data",
          "data": {
            "image/png": "[encoded data removed]",
            "text/plain": [
              "<Figure size 432x288 with 1 Axes>"
            ]
          },
          "metadata": {
            "needs_background": "light"
          }
        }
      ]
    },
    {
      "cell_type": "code",
      "source": [
        "from sklearn.linear_model import Ridge,Lasso\n",
        "rr=Ridge(alpha=0.0001)\n",
        "rr=rr.fit(x_poly,y_data)\n",
        "y_pred_rr=rr.predict(x_poly)\n",
        "lasso=Lasso(alpha=0.0001)\n",
        "lasso=lasso.fit(x_poly,y_data)\n",
        "y_pred_lasso=lasso.predict(x_poly)\n",
        "plt.figure(figsize=(12,8))\n",
        "plt.plot(x_data,y_data,ls=\"\",marker='o',label='data',alpha=1)\n",
        "plt.plot(x_real,y_real,ls=\"--\",marker=\"\",label='real function')\n",
        "plt.plot(x_data,y_pred,marker='*',label='prdiction via polynomial features linear regression',alpha=0.5)\n",
        "plt.plot(x_data,y_pred_rr,marker='^',label='prdiction via polynomial features ridge regression',alpha=0.5)\n",
        "plt.plot(x_data,y_pred_lasso,marker='^',label='prdiction via polynomial features lasso regression',alpha=0.5)\n",
        "plt.legend()\n",
        "ax=plt.gca()\n",
        "ax.set(xlabel='xdata',ylabel='ydata')"
      ],
      "metadata": {
        "colab": {
          "base_uri": "https://localhost:8080/",
          "height": 569
        },
        "id": "VWtBErTpZUM5",
        "outputId": "a2b07b4d-3bb7-47e1-8ce7-7a1897aa7443"
      },
      "execution_count": null,
      "outputs": [
        {
          "output_type": "stream",
          "name": "stderr",
          "text": [
            "/usr/local/lib/python3.7/dist-packages/sklearn/linear_model/_coordinate_descent.py:648: ConvergenceWarning: Objective did not converge. You might want to increase the number of iterations, check the scale of the features or consider increasing regularisation. Duality gap: 4.470e-01, tolerance: 1.223e-03\n",
            "  coef_, l1_reg, l2_reg, X, y, max_iter, tol, rng, random, positive\n"
          ]
        },
        {
          "output_type": "execute_result",
          "data": {
            "text/plain": [
              "[Text(0, 0.5, 'ydata'), Text(0.5, 0, 'xdata')]"
            ]
          },
          "metadata": {},
          "execution_count": 8
        },
        {
          "output_type": "display_data",
          "data": {
            "image/png": "[encoded data removed]",
            "text/plain": [
              "<Figure size 864x576 with 1 Axes>"
            ]
          },
          "metadata": {
            "needs_background": "light"
          }
        }
      ]
    },
    {
      "cell_type": "code",
      "source": [
        "rr.coef_"
      ],
      "metadata": {
        "colab": {
          "base_uri": "https://localhost:8080/"
        },
        "id": "uTMnfBMbc0Tw",
        "outputId": "6b353722-3ae5-4631-8816-6a0b0cc6f1f5"
      },
      "execution_count": null,
      "outputs": [
        {
          "output_type": "execute_result",
          "data": {
            "text/plain": [
              "array([  0.        ,  10.58013667, -23.07509286,  -2.47360015,\n",
              "         7.534027  ,   9.01212747,   6.8114497 ,   3.38843217,\n",
              "         0.04226825,  -2.52897092,  -4.04966872,  -4.53954464,\n",
              "        -4.18960957,  -3.25991043,  -2.01047913,  -0.66335135,\n",
              "         0.61255068,   1.70231473,   2.53847305,   3.09147516,\n",
              "         3.35984196])"
            ]
          },
          "metadata": {},
          "execution_count": 9
        }
      ]
    },
    {
      "cell_type": "code",
      "source": [
        "coefficients1=pd.DataFrame()\n",
        "coefficients1['ridge regression']=rr.coef_\n",
        "coefficients1.describe()"
      ],
      "metadata": {
        "colab": {
          "base_uri": "https://localhost:8080/",
          "height": 300
        },
        "id": "765_4Z4iccz-",
        "outputId": "4732a9e1-4925-463b-df03-13a319951b7f"
      },
      "execution_count": null,
      "outputs": [
        {
          "output_type": "execute_result",
          "data": {
            "text/html": [
              "\n",
              "  <div id=\"df-56b97156-97e2-45bf-bb41-ae7d1e3c8b04\">\n",
              "    <div class=\"colab-df-container\">\n",
              "      <div>\n",
              "<style scoped>\n",
              "    .dataframe tbody tr th:only-of-type {\n",
              "        vertical-align: middle;\n",
              "    }\n",
              "\n",
              "    .dataframe tbody tr th {\n",
              "        vertical-align: top;\n",
              "    }\n",
              "\n",
              "    .dataframe thead th {\n",
              "        text-align: right;\n",
              "    }\n",
              "</style>\n",
              "<table border=\"1\" class=\"dataframe\">\n",
              "  <thead>\n",
              "    <tr style=\"text-align: right;\">\n",
              "      <th></th>\n",
              "      <th>ridge regression</th>\n",
              "    </tr>\n",
              "  </thead>\n",
              "  <tbody>\n",
              "    <tr>\n",
              "      <th>count</th>\n",
              "      <td>21.000000</td>\n",
              "    </tr>\n",
              "    <tr>\n",
              "      <th>mean</th>\n",
              "      <td>0.089660</td>\n",
              "    </tr>\n",
              "    <tr>\n",
              "      <th>std</th>\n",
              "      <td>6.902303</td>\n",
              "    </tr>\n",
              "    <tr>\n",
              "      <th>min</th>\n",
              "      <td>-23.075093</td>\n",
              "    </tr>\n",
              "    <tr>\n",
              "      <th>25%</th>\n",
              "      <td>-2.528971</td>\n",
              "    </tr>\n",
              "    <tr>\n",
              "      <th>50%</th>\n",
              "      <td>0.042268</td>\n",
              "    </tr>\n",
              "    <tr>\n",
              "      <th>75%</th>\n",
              "      <td>3.359842</td>\n",
              "    </tr>\n",
              "    <tr>\n",
              "      <th>max</th>\n",
              "      <td>10.580137</td>\n",
              "    </tr>\n",
              "  </tbody>\n",
              "</table>\n",
              "</div>\n",
              "      <button class=\"colab-df-convert\" onclick=\"convertToInteractive('df-56b97156-97e2-45bf-bb41-ae7d1e3c8b04')\"\n",
              "              title=\"Convert this dataframe to an interactive table.\"\n",
              "              style=\"display:none;\">\n",
              "        \n",
              "  <svg xmlns=\"http://www.w3.org/2000/svg\" height=\"24px\"viewBox=\"0 0 24 24\"\n",
              "       width=\"24px\">\n",
              "    <path d=\"M0 0h24v24H0V0z\" fill=\"none\"/>\n",
              "    <path d=\"M18.56 5.44l.94 2.06.94-2.06 2.06-.94-2.06-.94-.94-2.06-.94 2.06-2.06.94zm-11 1L8.5 8.5l.94-2.06 2.06-.94-2.06-.94L8.5 2.5l-.94 2.06-2.06.94zm10 10l.94 2.06.94-2.06 2.06-.94-2.06-.94-.94-2.06-.94 2.06-2.06.94z\"/><path d=\"M17.41 7.96l-1.37-1.37c-.4-.4-.92-.59-1.43-.59-.52 0-1.04.2-1.43.59L10.3 9.45l-7.72 7.72c-.78.78-.78 2.05 0 2.83L4 21.41c.39.39.9.59 1.41.59.51 0 1.02-.2 1.41-.59l7.78-7.78 2.81-2.81c.8-.78.8-2.07 0-2.86zM5.41 20L4 18.59l7.72-7.72 1.47 1.35L5.41 20z\"/>\n",
              "  </svg>\n",
              "      </button>\n",
              "      \n",
              "  <style>\n",
              "    .colab-df-container {\n",
              "      display:flex;\n",
              "      flex-wrap:wrap;\n",
              "      gap: 12px;\n",
              "    }\n",
              "\n",
              "    .colab-df-convert {\n",
              "      background-color: #E8F0FE;\n",
              "      border: none;\n",
              "      border-radius: 50%;\n",
              "      cursor: pointer;\n",
              "      display: none;\n",
              "      fill: #1967D2;\n",
              "      height: 32px;\n",
              "      padding: 0 0 0 0;\n",
              "      width: 32px;\n",
              "    }\n",
              "\n",
              "    .colab-df-convert:hover {\n",
              "      background-color: #E2EBFA;\n",
              "      box-shadow: 0px 1px 2px rgba(60, 64, 67, 0.3), 0px 1px 3px 1px rgba(60, 64, 67, 0.15);\n",
              "      fill: #174EA6;\n",
              "    }\n",
              "\n",
              "    [theme=dark] .colab-df-convert {\n",
              "      background-color: #3B4455;\n",
              "      fill: #D2E3FC;\n",
              "    }\n",
              "\n",
              "    [theme=dark] .colab-df-convert:hover {\n",
              "      background-color: #434B5C;\n",
              "      box-shadow: 0px 1px 3px 1px rgba(0, 0, 0, 0.15);\n",
              "      filter: drop-shadow(0px 1px 2px rgba(0, 0, 0, 0.3));\n",
              "      fill: #FFFFFF;\n",
              "    }\n",
              "  </style>\n",
              "\n",
              "      <script>\n",
              "        const buttonEl =\n",
              "          document.querySelector('#df-56b97156-97e2-45bf-bb41-ae7d1e3c8b04 button.colab-df-convert');\n",
              "        buttonEl.style.display =\n",
              "          google.colab.kernel.accessAllowed ? 'block' : 'none';\n",
              "\n",
              "        async function convertToInteractive(key) {\n",
              "          const element = document.querySelector('#df-56b97156-97e2-45bf-bb41-ae7d1e3c8b04');\n",
              "          const dataTable =\n",
              "            await google.colab.kernel.invokeFunction('convertToInteractive',\n",
              "                                                     [key], {});\n",
              "          if (!dataTable) return;\n",
              "\n",
              "          const docLinkHtml = 'Like what you see? Visit the ' +\n",
              "            '<a target=\"_blank\" href=https://colab.research.google.com/notebooks/data_table.ipynb>data table notebook</a>'\n",
              "            + ' to learn more about interactive tables.';\n",
              "          element.innerHTML = '';\n",
              "          dataTable['output_type'] = 'display_data';\n",
              "          await google.colab.output.renderOutput(dataTable, element);\n",
              "          const docLink = document.createElement('div');\n",
              "          docLink.innerHTML = docLinkHtml;\n",
              "          element.appendChild(docLink);\n",
              "        }\n",
              "      </script>\n",
              "    </div>\n",
              "  </div>\n",
              "  "
            ],
            "text/plain": [
              "       ridge regression\n",
              "count         21.000000\n",
              "mean           0.089660\n",
              "std            6.902303\n",
              "min          -23.075093\n",
              "25%           -2.528971\n",
              "50%            0.042268\n",
              "75%            3.359842\n",
              "max           10.580137"
            ]
          },
          "metadata": {},
          "execution_count": 10
        }
      ]
    },
    {
      "cell_type": "markdown",
      "source": [
        "ravel just to ensure its 1 dimension array\n",
        "it makes 20x3 matrix into 60x1"
      ],
      "metadata": {
        "id": "L-2EEZJ9dPSL"
      }
    },
    {
      "cell_type": "code",
      "source": [
        "coefficients=pd.DataFrame()\n",
        "coefficients['linear regression']=lr.coef_.ravel()\n",
        "coefficients['ridge regression']=rr.coef_.ravel()\n",
        "coefficients['lasso regression']=lasso.coef_.ravel()\n",
        "coefficients=coefficients.applymap(abs)\n",
        "coefficients.describe()"
      ],
      "metadata": {
        "colab": {
          "base_uri": "https://localhost:8080/",
          "height": 300
        },
        "id": "i-Q5kAJxbQPg",
        "outputId": "cbe5cb0e-36ba-41b6-9da6-a87042a5c53d"
      },
      "execution_count": null,
      "outputs": [
        {
          "output_type": "execute_result",
          "data": {
            "text/html": [
              "\n",
              "  <div id=\"df-8a106f51-9c3f-4fac-9a3f-934abe4a61ed\">\n",
              "    <div class=\"colab-df-container\">\n",
              "      <div>\n",
              "<style scoped>\n",
              "    .dataframe tbody tr th:only-of-type {\n",
              "        vertical-align: middle;\n",
              "    }\n",
              "\n",
              "    .dataframe tbody tr th {\n",
              "        vertical-align: top;\n",
              "    }\n",
              "\n",
              "    .dataframe thead th {\n",
              "        text-align: right;\n",
              "    }\n",
              "</style>\n",
              "<table border=\"1\" class=\"dataframe\">\n",
              "  <thead>\n",
              "    <tr style=\"text-align: right;\">\n",
              "      <th></th>\n",
              "      <th>linear regression</th>\n",
              "      <th>ridge regression</th>\n",
              "      <th>lasso regression</th>\n",
              "    </tr>\n",
              "  </thead>\n",
              "  <tbody>\n",
              "    <tr>\n",
              "      <th>count</th>\n",
              "      <td>2.100000e+01</td>\n",
              "      <td>21.000000</td>\n",
              "      <td>21.000000</td>\n",
              "    </tr>\n",
              "    <tr>\n",
              "      <th>mean</th>\n",
              "      <td>5.761504e+13</td>\n",
              "      <td>4.545873</td>\n",
              "      <td>2.167284</td>\n",
              "    </tr>\n",
              "    <tr>\n",
              "      <th>std</th>\n",
              "      <td>6.017426e+13</td>\n",
              "      <td>5.094313</td>\n",
              "      <td>4.706731</td>\n",
              "    </tr>\n",
              "    <tr>\n",
              "      <th>min</th>\n",
              "      <td>1.610728e+07</td>\n",
              "      <td>0.000000</td>\n",
              "      <td>0.000000</td>\n",
              "    </tr>\n",
              "    <tr>\n",
              "      <th>25%</th>\n",
              "      <td>3.402091e+12</td>\n",
              "      <td>2.010479</td>\n",
              "      <td>0.000000</td>\n",
              "    </tr>\n",
              "    <tr>\n",
              "      <th>50%</th>\n",
              "      <td>3.614874e+13</td>\n",
              "      <td>3.259910</td>\n",
              "      <td>0.252181</td>\n",
              "    </tr>\n",
              "    <tr>\n",
              "      <th>75%</th>\n",
              "      <td>1.068696e+14</td>\n",
              "      <td>4.539545</td>\n",
              "      <td>1.641353</td>\n",
              "    </tr>\n",
              "    <tr>\n",
              "      <th>max</th>\n",
              "      <td>1.652485e+14</td>\n",
              "      <td>23.075093</td>\n",
              "      <td>20.176708</td>\n",
              "    </tr>\n",
              "  </tbody>\n",
              "</table>\n",
              "</div>\n",
              "      <button class=\"colab-df-convert\" onclick=\"convertToInteractive('df-8a106f51-9c3f-4fac-9a3f-934abe4a61ed')\"\n",
              "              title=\"Convert this dataframe to an interactive table.\"\n",
              "              style=\"display:none;\">\n",
              "        \n",
              "  <svg xmlns=\"http://www.w3.org/2000/svg\" height=\"24px\"viewBox=\"0 0 24 24\"\n",
              "       width=\"24px\">\n",
              "    <path d=\"M0 0h24v24H0V0z\" fill=\"none\"/>\n",
              "    <path d=\"M18.56 5.44l.94 2.06.94-2.06 2.06-.94-2.06-.94-.94-2.06-.94 2.06-2.06.94zm-11 1L8.5 8.5l.94-2.06 2.06-.94-2.06-.94L8.5 2.5l-.94 2.06-2.06.94zm10 10l.94 2.06.94-2.06 2.06-.94-2.06-.94-.94-2.06-.94 2.06-2.06.94z\"/><path d=\"M17.41 7.96l-1.37-1.37c-.4-.4-.92-.59-1.43-.59-.52 0-1.04.2-1.43.59L10.3 9.45l-7.72 7.72c-.78.78-.78 2.05 0 2.83L4 21.41c.39.39.9.59 1.41.59.51 0 1.02-.2 1.41-.59l7.78-7.78 2.81-2.81c.8-.78.8-2.07 0-2.86zM5.41 20L4 18.59l7.72-7.72 1.47 1.35L5.41 20z\"/>\n",
              "  </svg>\n",
              "      </button>\n",
              "      \n",
              "  <style>\n",
              "    .colab-df-container {\n",
              "      display:flex;\n",
              "      flex-wrap:wrap;\n",
              "      gap: 12px;\n",
              "    }\n",
              "\n",
              "    .colab-df-convert {\n",
              "      background-color: #E8F0FE;\n",
              "      border: none;\n",
              "      border-radius: 50%;\n",
              "      cursor: pointer;\n",
              "      display: none;\n",
              "      fill: #1967D2;\n",
              "      height: 32px;\n",
              "      padding: 0 0 0 0;\n",
              "      width: 32px;\n",
              "    }\n",
              "\n",
              "    .colab-df-convert:hover {\n",
              "      background-color: #E2EBFA;\n",
              "      box-shadow: 0px 1px 2px rgba(60, 64, 67, 0.3), 0px 1px 3px 1px rgba(60, 64, 67, 0.15);\n",
              "      fill: #174EA6;\n",
              "    }\n",
              "\n",
              "    [theme=dark] .colab-df-convert {\n",
              "      background-color: #3B4455;\n",
              "      fill: #D2E3FC;\n",
              "    }\n",
              "\n",
              "    [theme=dark] .colab-df-convert:hover {\n",
              "      background-color: #434B5C;\n",
              "      box-shadow: 0px 1px 3px 1px rgba(0, 0, 0, 0.15);\n",
              "      filter: drop-shadow(0px 1px 2px rgba(0, 0, 0, 0.3));\n",
              "      fill: #FFFFFF;\n",
              "    }\n",
              "  </style>\n",
              "\n",
              "      <script>\n",
              "        const buttonEl =\n",
              "          document.querySelector('#df-8a106f51-9c3f-4fac-9a3f-934abe4a61ed button.colab-df-convert');\n",
              "        buttonEl.style.display =\n",
              "          google.colab.kernel.accessAllowed ? 'block' : 'none';\n",
              "\n",
              "        async function convertToInteractive(key) {\n",
              "          const element = document.querySelector('#df-8a106f51-9c3f-4fac-9a3f-934abe4a61ed');\n",
              "          const dataTable =\n",
              "            await google.colab.kernel.invokeFunction('convertToInteractive',\n",
              "                                                     [key], {});\n",
              "          if (!dataTable) return;\n",
              "\n",
              "          const docLinkHtml = 'Like what you see? Visit the ' +\n",
              "            '<a target=\"_blank\" href=https://colab.research.google.com/notebooks/data_table.ipynb>data table notebook</a>'\n",
              "            + ' to learn more about interactive tables.';\n",
              "          element.innerHTML = '';\n",
              "          dataTable['output_type'] = 'display_data';\n",
              "          await google.colab.output.renderOutput(dataTable, element);\n",
              "          const docLink = document.createElement('div');\n",
              "          docLink.innerHTML = docLinkHtml;\n",
              "          element.appendChild(docLink);\n",
              "        }\n",
              "      </script>\n",
              "    </div>\n",
              "  </div>\n",
              "  "
            ],
            "text/plain": [
              "       linear regression  ridge regression  lasso regression\n",
              "count       2.100000e+01         21.000000         21.000000\n",
              "mean        5.761504e+13          4.545873          2.167284\n",
              "std         6.017426e+13          5.094313          4.706731\n",
              "min         1.610728e+07          0.000000          0.000000\n",
              "25%         3.402091e+12          2.010479          0.000000\n",
              "50%         3.614874e+13          3.259910          0.252181\n",
              "75%         1.068696e+14          4.539545          1.641353\n",
              "max         1.652485e+14         23.075093         20.176708"
            ]
          },
          "metadata": {},
          "execution_count": 11
        }
      ]
    },
    {
      "cell_type": "code",
      "source": [
        "(coefficients>0).sum()"
      ],
      "metadata": {
        "colab": {
          "base_uri": "https://localhost:8080/"
        },
        "id": "_cuP4dQZeCYu",
        "outputId": "7e357c94-89b9-4538-9eaf-1049a0a9a1da"
      },
      "execution_count": null,
      "outputs": [
        {
          "output_type": "execute_result",
          "data": {
            "text/plain": [
              "linear regression    21\n",
              "ridge regression     20\n",
              "lasso regression     15\n",
              "dtype: int64"
            ]
          },
          "metadata": {},
          "execution_count": 12
        }
      ]
    },
    {
      "cell_type": "code",
      "source": [
        "lr.coef_.ravel()"
      ],
      "metadata": {
        "colab": {
          "base_uri": "https://localhost:8080/"
        },
        "id": "MLI_d48xhUdY",
        "outputId": "26dd6516-9e6e-4310-b6db-d66e7428b61d"
      },
      "execution_count": null,
      "outputs": [
        {
          "output_type": "execute_result",
          "data": {
            "text/plain": [
              "array([ 3.58398492e+12,  1.61072766e+07, -4.63690451e+08,  7.64321539e+09,\n",
              "       -8.23356976e+10,  6.20682350e+11, -3.40209121e+12,  1.38339410e+13,\n",
              "       -4.19727057e+13,  9.40475536e+13, -1.49915109e+14,  1.52100718e+14,\n",
              "       -5.47537456e+13, -8.95041408e+13,  1.41158119e+14, -3.55693744e+13,\n",
              "       -1.15907659e+14,  1.65248524e+14, -1.06869606e+14,  3.61487444e+13,\n",
              "       -5.18871171e+12])"
            ]
          },
          "metadata": {},
          "execution_count": 13
        }
      ]
    },
    {
      "cell_type": "code",
      "source": [
        "from sklearn.linear_model import RidgeCV\n",
        "from sklearn.metrics import mean_squared_error\n",
        "alphas=[0.005,0.05,0.1,0.3,1,3,5,10,15,30,80]\n",
        "ridgeCV=RidgeCV(alphas=alphas,cv=4).fit(x_poly,y_data)\n",
        "ridgeCV_mse= mean_squared_error(y_data,ridgeCV.predict(x_poly))\n",
        "ridgeCV_rmse=np.sqrt(ridgeCV_mse)\n",
        "print(ridgeCV.alpha_,ridgeCV_rmse)\n"
      ],
      "metadata": {
        "colab": {
          "base_uri": "https://localhost:8080/"
        },
        "id": "UJgr8Cc_DqkC",
        "outputId": "cc78c0a4-77f2-4ad6-a579-d5df7cf9a682"
      },
      "execution_count": null,
      "outputs": [
        {
          "output_type": "stream",
          "name": "stdout",
          "text": [
            "3.0 0.597887131118554\n"
          ]
        }
      ]
    },
    {
      "cell_type": "code",
      "source": [
        "from sklearn.linear_model import LassoCV\n",
        "from sklearn.metrics import mean_squared_error\n",
        "alphas=[0.005,0.05,0.1,0.3,1,3,5,10,15,30,80]\n",
        "lassoCV=LassoCV(alphas=alphas,cv=4).fit(x_poly,y_data)\n",
        "lassoCV_mse= mean_squared_error(y_data,lassoCV.predict(x_poly))\n",
        "lassoCV_rmse=np.sqrt(lassoCV_mse)\n",
        "print(lassoCV.alpha_,lassoCV_rmse)"
      ],
      "metadata": {
        "colab": {
          "base_uri": "https://localhost:8080/"
        },
        "id": "46Yu34SyGnAB",
        "outputId": "4c04af3d-8e48-460b-a379-198722c17f47"
      },
      "execution_count": null,
      "outputs": [
        {
          "output_type": "stream",
          "name": "stdout",
          "text": [
            "0.05 0.5723797812008092\n"
          ]
        },
        {
          "output_type": "stream",
          "name": "stderr",
          "text": [
            "/usr/local/lib/python3.7/dist-packages/sklearn/linear_model/_coordinate_descent.py:648: ConvergenceWarning: Objective did not converge. You might want to increase the number of iterations, check the scale of the features or consider increasing regularisation. Duality gap: 1.424e-03, tolerance: 1.051e-03\n",
            "  coef_, l1_reg, l2_reg, X, y, max_iter, tol, rng, random, positive\n"
          ]
        }
      ]
    },
    {
      "cell_type": "code",
      "source": [
        "from sklearn.linear_model import ElasticNetCV\n",
        "l1_ratios=np.linspace(0.1,0.9,9)\n",
        "elasticnetCV=ElasticNetCV(alphas=alphas,l1_ratio=l1_ratios,max_iter=1e4).fit(x_poly,y_data)\n",
        "elasticnetCV_mse= mean_squared_error(y_data,elasticnetCV.predict(x_poly))\n",
        "elasticnetCV_rmse=np.sqrt(elasticnetCV_mse)\n",
        "print(elasticnetCV.alpha_,elasticnetCV_rmse)\n"
      ],
      "metadata": {
        "colab": {
          "base_uri": "https://localhost:8080/"
        },
        "id": "_hncIrc3HL8g",
        "outputId": "73a9eceb-977d-4b87-b071-ca127603715a"
      },
      "execution_count": null,
      "outputs": [
        {
          "output_type": "stream",
          "name": "stdout",
          "text": [
            "0.05 0.5767789854414355\n"
          ]
        }
      ]
    }
  ]
}